{
 "cells": [
  {
   "cell_type": "code",
   "execution_count": 1,
   "metadata": {
    "id": "Hhn-2GwQPVF5"
   },
   "outputs": [],
   "source": [
    "import numpy as np\n",
    "import pandas as pd\n",
    "import matplotlib.pyplot as plt\n",
    "import seaborn as sns\n",
    "import os\n",
    "import shutil\n",
    "from sklearn.model_selection import train_test_split,KFold,cross_val_score,GridSearchCV\n",
    "from sklearn.metrics import classification_report,accuracy_score,recall_score,confusion_matrix,roc_auc_score,precision_score\n",
    "from sklearn.tree import DecisionTreeClassifier,export_graphviz\n",
    "from sklearn.ensemble import RandomForestClassifier\n",
    "from sklearn.preprocessing import LabelEncoder\n",
    "from sklearn.linear_model import LogisticRegression,Lasso\n",
    "from sklearn.svm import LinearSVC,SVC\n",
    "from sklearn.preprocessing import StandardScaler, MinMaxScaler\n",
    "from sklearn.pipeline import Pipeline\n",
    "from sklearn.feature_selection import SelectFromModel\n"
   ]
  },
  {
   "cell_type": "code",
   "execution_count": 2,
   "metadata": {
    "colab": {
     "base_uri": "https://localhost:8080/",
     "height": 221
    },
    "id": "FMmJT72FO_iL",
    "outputId": "f6b9dac0-b4cd-46c7-c704-44471890d1ab"
   },
   "outputs": [
    {
     "name": "stdout",
     "output_type": "stream",
     "text": [
      "(1500, 16)\n"
     ]
    },
    {
     "data": {
      "text/html": [
       "<div>\n",
       "<style scoped>\n",
       "    .dataframe tbody tr th:only-of-type {\n",
       "        vertical-align: middle;\n",
       "    }\n",
       "\n",
       "    .dataframe tbody tr th {\n",
       "        vertical-align: top;\n",
       "    }\n",
       "\n",
       "    .dataframe thead th {\n",
       "        text-align: right;\n",
       "    }\n",
       "</style>\n",
       "<table border=\"1\" class=\"dataframe\">\n",
       "  <thead>\n",
       "    <tr style=\"text-align: right;\">\n",
       "      <th></th>\n",
       "      <th>F1</th>\n",
       "      <th>F2</th>\n",
       "      <th>F3</th>\n",
       "      <th>F4</th>\n",
       "      <th>F5</th>\n",
       "      <th>F6</th>\n",
       "      <th>F7</th>\n",
       "      <th>F8</th>\n",
       "      <th>F9</th>\n",
       "      <th>F10</th>\n",
       "      <th>F11</th>\n",
       "      <th>F12</th>\n",
       "      <th>F13</th>\n",
       "      <th>F14</th>\n",
       "      <th>F15</th>\n",
       "      <th>Class</th>\n",
       "    </tr>\n",
       "  </thead>\n",
       "  <tbody>\n",
       "    <tr>\n",
       "      <td>0</td>\n",
       "      <td>16.77</td>\n",
       "      <td>1.25</td>\n",
       "      <td>1080</td>\n",
       "      <td>4.04</td>\n",
       "      <td>20</td>\n",
       "      <td>30.36</td>\n",
       "      <td>-7.24</td>\n",
       "      <td>112.86</td>\n",
       "      <td>9.00</td>\n",
       "      <td>7.74</td>\n",
       "      <td>-15.70</td>\n",
       "      <td>-36.32</td>\n",
       "      <td>26.10</td>\n",
       "      <td>-184.14</td>\n",
       "      <td>NaN</td>\n",
       "      <td>False</td>\n",
       "    </tr>\n",
       "    <tr>\n",
       "      <td>1</td>\n",
       "      <td>12.45</td>\n",
       "      <td>1.63</td>\n",
       "      <td>156</td>\n",
       "      <td>-6.98</td>\n",
       "      <td>2</td>\n",
       "      <td>21.52</td>\n",
       "      <td>1.20</td>\n",
       "      <td>105.86</td>\n",
       "      <td>0.43</td>\n",
       "      <td>10.11</td>\n",
       "      <td>-25.06</td>\n",
       "      <td>-23.32</td>\n",
       "      <td>2.55</td>\n",
       "      <td>-208.14</td>\n",
       "      <td>NaN</td>\n",
       "      <td>True</td>\n",
       "    </tr>\n",
       "    <tr>\n",
       "      <td>2</td>\n",
       "      <td>0.06</td>\n",
       "      <td>1.09</td>\n",
       "      <td>855</td>\n",
       "      <td>6.08</td>\n",
       "      <td>20</td>\n",
       "      <td>33.76</td>\n",
       "      <td>-9.06</td>\n",
       "      <td>262.86</td>\n",
       "      <td>9.15</td>\n",
       "      <td>6.01</td>\n",
       "      <td>-14.40</td>\n",
       "      <td>-36.32</td>\n",
       "      <td>26.25</td>\n",
       "      <td>-394.14</td>\n",
       "      <td>-6.67</td>\n",
       "      <td>False</td>\n",
       "    </tr>\n",
       "    <tr>\n",
       "      <td>3</td>\n",
       "      <td>1.80</td>\n",
       "      <td>2.04</td>\n",
       "      <td>435</td>\n",
       "      <td>1.72</td>\n",
       "      <td>20</td>\n",
       "      <td>31.96</td>\n",
       "      <td>-8.30</td>\n",
       "      <td>157.86</td>\n",
       "      <td>5.35</td>\n",
       "      <td>6.15</td>\n",
       "      <td>-17.64</td>\n",
       "      <td>-36.32</td>\n",
       "      <td>17.25</td>\n",
       "      <td>-64.14</td>\n",
       "      <td>NaN</td>\n",
       "      <td>False</td>\n",
       "    </tr>\n",
       "    <tr>\n",
       "      <td>4</td>\n",
       "      <td>15.45</td>\n",
       "      <td>1.38</td>\n",
       "      <td>195</td>\n",
       "      <td>-8.70</td>\n",
       "      <td>2</td>\n",
       "      <td>21.10</td>\n",
       "      <td>-0.06</td>\n",
       "      <td>112.86</td>\n",
       "      <td>1.37</td>\n",
       "      <td>10.26</td>\n",
       "      <td>-27.50</td>\n",
       "      <td>-23.32</td>\n",
       "      <td>2.01</td>\n",
       "      <td>-250.14</td>\n",
       "      <td>NaN</td>\n",
       "      <td>True</td>\n",
       "    </tr>\n",
       "  </tbody>\n",
       "</table>\n",
       "</div>"
      ],
      "text/plain": [
       "      F1    F2    F3    F4  F5     F6    F7      F8    F9    F10    F11  \\\n",
       "0  16.77  1.25  1080  4.04  20  30.36 -7.24  112.86  9.00   7.74 -15.70   \n",
       "1  12.45  1.63   156 -6.98   2  21.52  1.20  105.86  0.43  10.11 -25.06   \n",
       "2   0.06  1.09   855  6.08  20  33.76 -9.06  262.86  9.15   6.01 -14.40   \n",
       "3   1.80  2.04   435  1.72  20  31.96 -8.30  157.86  5.35   6.15 -17.64   \n",
       "4  15.45  1.38   195 -8.70   2  21.10 -0.06  112.86  1.37  10.26 -27.50   \n",
       "\n",
       "     F12    F13     F14   F15  Class  \n",
       "0 -36.32  26.10 -184.14   NaN  False  \n",
       "1 -23.32   2.55 -208.14   NaN   True  \n",
       "2 -36.32  26.25 -394.14 -6.67  False  \n",
       "3 -36.32  17.25  -64.14   NaN  False  \n",
       "4 -23.32   2.01 -250.14   NaN   True  "
      ]
     },
     "execution_count": 2,
     "metadata": {},
     "output_type": "execute_result"
    }
   ],
   "source": [
    "data = pd.read_csv('CE802_P2_Data.csv')\n",
    "print(data.shape)\n",
    "data.head(5)"
   ]
  },
  {
   "cell_type": "code",
   "execution_count": 3,
   "metadata": {
    "colab": {
     "base_uri": "https://localhost:8080/",
     "height": 221
    },
    "id": "zYbPNL-8PzRD",
    "outputId": "83a7a210-a4a7-43ec-8c17-1852f3811448"
   },
   "outputs": [
    {
     "name": "stdout",
     "output_type": "stream",
     "text": [
      "(1500, 16)\n"
     ]
    },
    {
     "data": {
      "text/html": [
       "<div>\n",
       "<style scoped>\n",
       "    .dataframe tbody tr th:only-of-type {\n",
       "        vertical-align: middle;\n",
       "    }\n",
       "\n",
       "    .dataframe tbody tr th {\n",
       "        vertical-align: top;\n",
       "    }\n",
       "\n",
       "    .dataframe thead th {\n",
       "        text-align: right;\n",
       "    }\n",
       "</style>\n",
       "<table border=\"1\" class=\"dataframe\">\n",
       "  <thead>\n",
       "    <tr style=\"text-align: right;\">\n",
       "      <th></th>\n",
       "      <th>F1</th>\n",
       "      <th>F2</th>\n",
       "      <th>F3</th>\n",
       "      <th>F4</th>\n",
       "      <th>F5</th>\n",
       "      <th>F6</th>\n",
       "      <th>F7</th>\n",
       "      <th>F8</th>\n",
       "      <th>F9</th>\n",
       "      <th>F10</th>\n",
       "      <th>F11</th>\n",
       "      <th>F12</th>\n",
       "      <th>F13</th>\n",
       "      <th>F14</th>\n",
       "      <th>F15</th>\n",
       "      <th>Class</th>\n",
       "    </tr>\n",
       "  </thead>\n",
       "  <tbody>\n",
       "    <tr>\n",
       "      <td>0</td>\n",
       "      <td>3.54</td>\n",
       "      <td>0.45</td>\n",
       "      <td>600</td>\n",
       "      <td>2.16</td>\n",
       "      <td>20</td>\n",
       "      <td>33.86</td>\n",
       "      <td>-4.16</td>\n",
       "      <td>207.86</td>\n",
       "      <td>8.30</td>\n",
       "      <td>6.64</td>\n",
       "      <td>-17.68</td>\n",
       "      <td>-36.32</td>\n",
       "      <td>16.80</td>\n",
       "      <td>-49.14</td>\n",
       "      <td>-6.81</td>\n",
       "      <td>NaN</td>\n",
       "    </tr>\n",
       "    <tr>\n",
       "      <td>1</td>\n",
       "      <td>12.96</td>\n",
       "      <td>4.50</td>\n",
       "      <td>6</td>\n",
       "      <td>-5.42</td>\n",
       "      <td>2</td>\n",
       "      <td>21.22</td>\n",
       "      <td>-0.66</td>\n",
       "      <td>115.86</td>\n",
       "      <td>1.95</td>\n",
       "      <td>10.19</td>\n",
       "      <td>-24.32</td>\n",
       "      <td>-21.32</td>\n",
       "      <td>0.06</td>\n",
       "      <td>-229.14</td>\n",
       "      <td>-7.10</td>\n",
       "      <td>NaN</td>\n",
       "    </tr>\n",
       "    <tr>\n",
       "      <td>2</td>\n",
       "      <td>13.02</td>\n",
       "      <td>2.74</td>\n",
       "      <td>81</td>\n",
       "      <td>-7.08</td>\n",
       "      <td>2</td>\n",
       "      <td>21.28</td>\n",
       "      <td>1.40</td>\n",
       "      <td>111.86</td>\n",
       "      <td>2.05</td>\n",
       "      <td>11.30</td>\n",
       "      <td>-34.98</td>\n",
       "      <td>-21.32</td>\n",
       "      <td>0.42</td>\n",
       "      <td>-217.14</td>\n",
       "      <td>-7.05</td>\n",
       "      <td>NaN</td>\n",
       "    </tr>\n",
       "    <tr>\n",
       "      <td>3</td>\n",
       "      <td>14.91</td>\n",
       "      <td>1.00</td>\n",
       "      <td>162</td>\n",
       "      <td>-8.30</td>\n",
       "      <td>2</td>\n",
       "      <td>21.12</td>\n",
       "      <td>-0.42</td>\n",
       "      <td>85.86</td>\n",
       "      <td>0.96</td>\n",
       "      <td>10.16</td>\n",
       "      <td>-24.68</td>\n",
       "      <td>-25.32</td>\n",
       "      <td>0.42</td>\n",
       "      <td>-202.14</td>\n",
       "      <td>NaN</td>\n",
       "      <td>NaN</td>\n",
       "    </tr>\n",
       "    <tr>\n",
       "      <td>4</td>\n",
       "      <td>2.61</td>\n",
       "      <td>1.46</td>\n",
       "      <td>1020</td>\n",
       "      <td>4.66</td>\n",
       "      <td>20</td>\n",
       "      <td>30.66</td>\n",
       "      <td>-0.46</td>\n",
       "      <td>122.86</td>\n",
       "      <td>7.20</td>\n",
       "      <td>7.04</td>\n",
       "      <td>-16.86</td>\n",
       "      <td>-26.32</td>\n",
       "      <td>20.25</td>\n",
       "      <td>-289.14</td>\n",
       "      <td>NaN</td>\n",
       "      <td>NaN</td>\n",
       "    </tr>\n",
       "  </tbody>\n",
       "</table>\n",
       "</div>"
      ],
      "text/plain": [
       "      F1    F2    F3    F4  F5     F6    F7      F8    F9    F10    F11  \\\n",
       "0   3.54  0.45   600  2.16  20  33.86 -4.16  207.86  8.30   6.64 -17.68   \n",
       "1  12.96  4.50     6 -5.42   2  21.22 -0.66  115.86  1.95  10.19 -24.32   \n",
       "2  13.02  2.74    81 -7.08   2  21.28  1.40  111.86  2.05  11.30 -34.98   \n",
       "3  14.91  1.00   162 -8.30   2  21.12 -0.42   85.86  0.96  10.16 -24.68   \n",
       "4   2.61  1.46  1020  4.66  20  30.66 -0.46  122.86  7.20   7.04 -16.86   \n",
       "\n",
       "     F12    F13     F14   F15  Class  \n",
       "0 -36.32  16.80  -49.14 -6.81    NaN  \n",
       "1 -21.32   0.06 -229.14 -7.10    NaN  \n",
       "2 -21.32   0.42 -217.14 -7.05    NaN  \n",
       "3 -25.32   0.42 -202.14   NaN    NaN  \n",
       "4 -26.32  20.25 -289.14   NaN    NaN  "
      ]
     },
     "execution_count": 3,
     "metadata": {},
     "output_type": "execute_result"
    }
   ],
   "source": [
    "test_data = pd.read_csv('CE802_P2_Test.csv')\n",
    "print(test_data.shape)\n",
    "test_data.head(5)"
   ]
  },
  {
   "cell_type": "markdown",
   "metadata": {
    "id": "6n0R5OoMQUNT"
   },
   "source": [
    "**<h1>Data Preprocessing Phase</h1>**"
   ]
  },
  {
   "cell_type": "code",
   "execution_count": 4,
   "metadata": {
    "colab": {
     "base_uri": "https://localhost:8080/"
    },
    "id": "ZbFqLMOTQMzz",
    "outputId": "5b7de749-2c35-42ec-ef64-d255c55b4174"
   },
   "outputs": [
    {
     "name": "stdout",
     "output_type": "stream",
     "text": [
      "<class 'pandas.core.frame.DataFrame'>\n",
      "RangeIndex: 1500 entries, 0 to 1499\n",
      "Data columns (total 16 columns):\n",
      "F1       1500 non-null float64\n",
      "F2       1500 non-null float64\n",
      "F3       1500 non-null int64\n",
      "F4       1500 non-null float64\n",
      "F5       1500 non-null int64\n",
      "F6       1500 non-null float64\n",
      "F7       1500 non-null float64\n",
      "F8       1500 non-null float64\n",
      "F9       1500 non-null float64\n",
      "F10      1500 non-null float64\n",
      "F11      1500 non-null float64\n",
      "F12      1500 non-null float64\n",
      "F13      1500 non-null float64\n",
      "F14      1500 non-null float64\n",
      "F15      750 non-null float64\n",
      "Class    1500 non-null bool\n",
      "dtypes: bool(1), float64(13), int64(2)\n",
      "memory usage: 177.4 KB\n"
     ]
    }
   ],
   "source": [
    "data.info()"
   ]
  },
  {
   "cell_type": "code",
   "execution_count": 5,
   "metadata": {},
   "outputs": [
    {
     "name": "stdout",
     "output_type": "stream",
     "text": [
      "<class 'pandas.core.frame.DataFrame'>\n",
      "RangeIndex: 1500 entries, 0 to 1499\n",
      "Data columns (total 16 columns):\n",
      "F1       1500 non-null float64\n",
      "F2       1500 non-null float64\n",
      "F3       1500 non-null int64\n",
      "F4       1500 non-null float64\n",
      "F5       1500 non-null int64\n",
      "F6       1500 non-null float64\n",
      "F7       1500 non-null float64\n",
      "F8       1500 non-null float64\n",
      "F9       1500 non-null float64\n",
      "F10      1500 non-null float64\n",
      "F11      1500 non-null float64\n",
      "F12      1500 non-null float64\n",
      "F13      1500 non-null float64\n",
      "F14      1500 non-null float64\n",
      "F15      750 non-null float64\n",
      "Class    0 non-null float64\n",
      "dtypes: float64(14), int64(2)\n",
      "memory usage: 187.6 KB\n"
     ]
    }
   ],
   "source": [
    "test_data.info()"
   ]
  },
  {
   "cell_type": "code",
   "execution_count": 6,
   "metadata": {
    "colab": {
     "base_uri": "https://localhost:8080/"
    },
    "id": "GxSAb4CTQX-u",
    "outputId": "5a50aff8-f96e-4857-bdb8-00921db9d1f7"
   },
   "outputs": [
    {
     "data": {
      "text/plain": [
       "F1         0\n",
       "F2         0\n",
       "F3         0\n",
       "F4         0\n",
       "F5         0\n",
       "F6         0\n",
       "F7         0\n",
       "F8         0\n",
       "F9         0\n",
       "F10        0\n",
       "F11        0\n",
       "F12        0\n",
       "F13        0\n",
       "F14        0\n",
       "F15      750\n",
       "Class      0\n",
       "dtype: int64"
      ]
     },
     "execution_count": 6,
     "metadata": {},
     "output_type": "execute_result"
    }
   ],
   "source": [
    "data.isnull().sum()"
   ]
  },
  {
   "cell_type": "code",
   "execution_count": 7,
   "metadata": {},
   "outputs": [
    {
     "data": {
      "text/plain": [
       "F1          0\n",
       "F2          0\n",
       "F3          0\n",
       "F4          0\n",
       "F5          0\n",
       "F6          0\n",
       "F7          0\n",
       "F8          0\n",
       "F9          0\n",
       "F10         0\n",
       "F11         0\n",
       "F12         0\n",
       "F13         0\n",
       "F14         0\n",
       "F15       750\n",
       "Class    1500\n",
       "dtype: int64"
      ]
     },
     "execution_count": 7,
     "metadata": {},
     "output_type": "execute_result"
    }
   ],
   "source": [
    "test_data.isnull().sum()"
   ]
  },
  {
   "cell_type": "markdown",
   "metadata": {
    "id": "wJAs8nDYSSoi"
   },
   "source": [
    "**<h1>Visualizing missing data </h1>**\n",
    "\n",
    "**<h4>Visualizing missing data using heatmaps in seaborn</h4>**"
   ]
  },
  {
   "cell_type": "code",
   "execution_count": 8,
   "metadata": {
    "colab": {
     "base_uri": "https://localhost:8080/",
     "height": 394
    },
    "id": "UF4Gz37gRpiy",
    "outputId": "7e099893-c50f-4436-9dab-fa841774c3cc"
   },
   "outputs": [
    {
     "data": {
      "image/png": "[encoded data removed]",
      "text/plain": [
       "<Figure size 720x432 with 2 Axes>"
      ]
     },
     "metadata": {
      "needs_background": "light"
     },
     "output_type": "display_data"
    }
   ],
   "source": [
    "plt.figure(figsize=(10,6))\n",
    "sns.heatmap(data.isna().transpose(),\n",
    "            cmap=\"YlGnBu\",\n",
    "            cbar_kws={'label': 'Missing Data'})\n",
    "plt.savefig(\"visualizing_missing_data_with_heatmap_Seaborn_Python.png\", dpi=100)"
   ]
  },
  {
   "cell_type": "code",
   "execution_count": 9,
   "metadata": {},
   "outputs": [
    {
     "data": {
      "image/png": "[encoded data removed]",
      "text/plain": [
       "<Figure size 720x432 with 2 Axes>"
      ]
     },
     "metadata": {
      "needs_background": "light"
     },
     "output_type": "display_data"
    }
   ],
   "source": [
    "plt.figure(figsize=(10,6))\n",
    "sns.heatmap(test_data.isna().transpose(),\n",
    "            cmap=\"YlGnBu\",\n",
    "            cbar_kws={'label': 'Missing Data'})\n",
    "plt.savefig(\"visualizing_missing_data_with_heatmap_Seaborn_Python.png\", dpi=100)"
   ]
  },
  {
   "cell_type": "markdown",
   "metadata": {
    "id": "zTJpP0PqSd-3"
   },
   "source": [
    "**<h4>Visualizing missing data using distplot in seaborn</h4>**"
   ]
  },
  {
   "cell_type": "code",
   "execution_count": 10,
   "metadata": {
    "colab": {
     "base_uri": "https://localhost:8080/",
     "height": 386
    },
    "id": "espe-4SaSJC3",
    "outputId": "49b264df-737d-499c-99e9-4ff739783f73"
   },
   "outputs": [
    {
     "data": {
      "text/plain": [
       "<Figure size 720x432 with 0 Axes>"
      ]
     },
     "metadata": {},
     "output_type": "display_data"
    },
    {
     "data": {
      "image/png": "[encoded data removed]",
      "text/plain": [
       "<Figure size 512.125x360 with 1 Axes>"
      ]
     },
     "metadata": {
      "needs_background": "light"
     },
     "output_type": "display_data"
    }
   ],
   "source": [
    "plt.figure(figsize=(10,6))\n",
    "sns.displot(\n",
    "    data=data.isna().melt(value_name=\"missing\"),\n",
    "    y=\"variable\",\n",
    "    hue=\"missing\",\n",
    "    multiple=\"fill\",\n",
    "    aspect=1.25\n",
    ")\n",
    "plt.savefig(\"visualizing_missing_data_with_barplot_Seaborn_distplot.png\", dpi=100)"
   ]
  },
  {
   "cell_type": "code",
   "execution_count": 11,
   "metadata": {},
   "outputs": [
    {
     "data": {
      "text/plain": [
       "<Figure size 720x432 with 0 Axes>"
      ]
     },
     "metadata": {},
     "output_type": "display_data"
    },
    {
     "data": {
      "image/png": "[encoded data removed]",
      "text/plain": [
       "<Figure size 512.125x360 with 1 Axes>"
      ]
     },
     "metadata": {
      "needs_background": "light"
     },
     "output_type": "display_data"
    }
   ],
   "source": [
    "plt.figure(figsize=(10,6))\n",
    "sns.displot(\n",
    "    data=test_data.isna().melt(value_name=\"missing\"),\n",
    "    y=\"variable\",\n",
    "    hue=\"missing\",\n",
    "    multiple=\"fill\",\n",
    "    aspect=1.25\n",
    ")\n",
    "plt.savefig(\"visualizing_missing_data_with_barplot_Seaborn_distplot.png\", dpi=100)"
   ]
  },
  {
   "cell_type": "markdown",
   "metadata": {
    "id": "FFxgu6P2Q8Uz"
   },
   "source": [
    "<h4>When we check the null values in the datasets, we can find that 50% of data is missing in one of the feature so, we can neglect those features and create a prediction model without considering those features.</h4>"
   ]
  },
  {
   "cell_type": "code",
   "execution_count": 12,
   "metadata": {
    "colab": {
     "base_uri": "https://localhost:8080/",
     "height": 204
    },
    "id": "n2fEU7TOQwmV",
    "outputId": "52967a48-3b19-4d91-9c8d-67c199fb8bf8"
   },
   "outputs": [
    {
     "data": {
      "text/html": [
       "<div>\n",
       "<style scoped>\n",
       "    .dataframe tbody tr th:only-of-type {\n",
       "        vertical-align: middle;\n",
       "    }\n",
       "\n",
       "    .dataframe tbody tr th {\n",
       "        vertical-align: top;\n",
       "    }\n",
       "\n",
       "    .dataframe thead th {\n",
       "        text-align: right;\n",
       "    }\n",
       "</style>\n",
       "<table border=\"1\" class=\"dataframe\">\n",
       "  <thead>\n",
       "    <tr style=\"text-align: right;\">\n",
       "      <th></th>\n",
       "      <th>F1</th>\n",
       "      <th>F2</th>\n",
       "      <th>F3</th>\n",
       "      <th>F4</th>\n",
       "      <th>F5</th>\n",
       "      <th>F6</th>\n",
       "      <th>F7</th>\n",
       "      <th>F8</th>\n",
       "      <th>F9</th>\n",
       "      <th>F10</th>\n",
       "      <th>F11</th>\n",
       "      <th>F12</th>\n",
       "      <th>F13</th>\n",
       "      <th>F14</th>\n",
       "      <th>Class</th>\n",
       "    </tr>\n",
       "  </thead>\n",
       "  <tbody>\n",
       "    <tr>\n",
       "      <td>0</td>\n",
       "      <td>16.77</td>\n",
       "      <td>1.25</td>\n",
       "      <td>1080</td>\n",
       "      <td>4.04</td>\n",
       "      <td>20</td>\n",
       "      <td>30.36</td>\n",
       "      <td>-7.24</td>\n",
       "      <td>112.86</td>\n",
       "      <td>9.00</td>\n",
       "      <td>7.74</td>\n",
       "      <td>-15.70</td>\n",
       "      <td>-36.32</td>\n",
       "      <td>26.10</td>\n",
       "      <td>-184.14</td>\n",
       "      <td>False</td>\n",
       "    </tr>\n",
       "    <tr>\n",
       "      <td>1</td>\n",
       "      <td>12.45</td>\n",
       "      <td>1.63</td>\n",
       "      <td>156</td>\n",
       "      <td>-6.98</td>\n",
       "      <td>2</td>\n",
       "      <td>21.52</td>\n",
       "      <td>1.20</td>\n",
       "      <td>105.86</td>\n",
       "      <td>0.43</td>\n",
       "      <td>10.11</td>\n",
       "      <td>-25.06</td>\n",
       "      <td>-23.32</td>\n",
       "      <td>2.55</td>\n",
       "      <td>-208.14</td>\n",
       "      <td>True</td>\n",
       "    </tr>\n",
       "    <tr>\n",
       "      <td>2</td>\n",
       "      <td>0.06</td>\n",
       "      <td>1.09</td>\n",
       "      <td>855</td>\n",
       "      <td>6.08</td>\n",
       "      <td>20</td>\n",
       "      <td>33.76</td>\n",
       "      <td>-9.06</td>\n",
       "      <td>262.86</td>\n",
       "      <td>9.15</td>\n",
       "      <td>6.01</td>\n",
       "      <td>-14.40</td>\n",
       "      <td>-36.32</td>\n",
       "      <td>26.25</td>\n",
       "      <td>-394.14</td>\n",
       "      <td>False</td>\n",
       "    </tr>\n",
       "    <tr>\n",
       "      <td>3</td>\n",
       "      <td>1.80</td>\n",
       "      <td>2.04</td>\n",
       "      <td>435</td>\n",
       "      <td>1.72</td>\n",
       "      <td>20</td>\n",
       "      <td>31.96</td>\n",
       "      <td>-8.30</td>\n",
       "      <td>157.86</td>\n",
       "      <td>5.35</td>\n",
       "      <td>6.15</td>\n",
       "      <td>-17.64</td>\n",
       "      <td>-36.32</td>\n",
       "      <td>17.25</td>\n",
       "      <td>-64.14</td>\n",
       "      <td>False</td>\n",
       "    </tr>\n",
       "    <tr>\n",
       "      <td>4</td>\n",
       "      <td>15.45</td>\n",
       "      <td>1.38</td>\n",
       "      <td>195</td>\n",
       "      <td>-8.70</td>\n",
       "      <td>2</td>\n",
       "      <td>21.10</td>\n",
       "      <td>-0.06</td>\n",
       "      <td>112.86</td>\n",
       "      <td>1.37</td>\n",
       "      <td>10.26</td>\n",
       "      <td>-27.50</td>\n",
       "      <td>-23.32</td>\n",
       "      <td>2.01</td>\n",
       "      <td>-250.14</td>\n",
       "      <td>True</td>\n",
       "    </tr>\n",
       "  </tbody>\n",
       "</table>\n",
       "</div>"
      ],
      "text/plain": [
       "      F1    F2    F3    F4  F5     F6    F7      F8    F9    F10    F11  \\\n",
       "0  16.77  1.25  1080  4.04  20  30.36 -7.24  112.86  9.00   7.74 -15.70   \n",
       "1  12.45  1.63   156 -6.98   2  21.52  1.20  105.86  0.43  10.11 -25.06   \n",
       "2   0.06  1.09   855  6.08  20  33.76 -9.06  262.86  9.15   6.01 -14.40   \n",
       "3   1.80  2.04   435  1.72  20  31.96 -8.30  157.86  5.35   6.15 -17.64   \n",
       "4  15.45  1.38   195 -8.70   2  21.10 -0.06  112.86  1.37  10.26 -27.50   \n",
       "\n",
       "     F12    F13     F14  Class  \n",
       "0 -36.32  26.10 -184.14  False  \n",
       "1 -23.32   2.55 -208.14   True  \n",
       "2 -36.32  26.25 -394.14  False  \n",
       "3 -36.32  17.25  -64.14  False  \n",
       "4 -23.32   2.01 -250.14   True  "
      ]
     },
     "execution_count": 12,
     "metadata": {},
     "output_type": "execute_result"
    }
   ],
   "source": [
    "dropped_data = data.drop('F15',axis=1)\n",
    "dropped_data.head()"
   ]
  },
  {
   "cell_type": "code",
   "execution_count": 13,
   "metadata": {
    "colab": {
     "base_uri": "https://localhost:8080/",
     "height": 317
    },
    "id": "fvbQ3S4jTDs2",
    "outputId": "f49b14c2-3cda-4db4-8871-f144f7103ac3"
   },
   "outputs": [
    {
     "data": {
      "text/html": [
       "<div>\n",
       "<style scoped>\n",
       "    .dataframe tbody tr th:only-of-type {\n",
       "        vertical-align: middle;\n",
       "    }\n",
       "\n",
       "    .dataframe tbody tr th {\n",
       "        vertical-align: top;\n",
       "    }\n",
       "\n",
       "    .dataframe thead th {\n",
       "        text-align: right;\n",
       "    }\n",
       "</style>\n",
       "<table border=\"1\" class=\"dataframe\">\n",
       "  <thead>\n",
       "    <tr style=\"text-align: right;\">\n",
       "      <th></th>\n",
       "      <th>F1</th>\n",
       "      <th>F2</th>\n",
       "      <th>F3</th>\n",
       "      <th>F4</th>\n",
       "      <th>F5</th>\n",
       "      <th>F6</th>\n",
       "      <th>F7</th>\n",
       "      <th>F8</th>\n",
       "      <th>F9</th>\n",
       "      <th>F10</th>\n",
       "      <th>F11</th>\n",
       "      <th>F12</th>\n",
       "      <th>F13</th>\n",
       "      <th>F14</th>\n",
       "    </tr>\n",
       "  </thead>\n",
       "  <tbody>\n",
       "    <tr>\n",
       "      <td>count</td>\n",
       "      <td>1500.000000</td>\n",
       "      <td>1500.000000</td>\n",
       "      <td>1500.00000</td>\n",
       "      <td>1500.000000</td>\n",
       "      <td>1500.000000</td>\n",
       "      <td>1500.000000</td>\n",
       "      <td>1500.000000</td>\n",
       "      <td>1500.000000</td>\n",
       "      <td>1500.00000</td>\n",
       "      <td>1500.000000</td>\n",
       "      <td>1500.000000</td>\n",
       "      <td>1500.000000</td>\n",
       "      <td>1500.000000</td>\n",
       "      <td>1500.000000</td>\n",
       "    </tr>\n",
       "    <tr>\n",
       "      <td>mean</td>\n",
       "      <td>9.111160</td>\n",
       "      <td>1.392353</td>\n",
       "      <td>327.07400</td>\n",
       "      <td>-1.389733</td>\n",
       "      <td>10.806667</td>\n",
       "      <td>26.935627</td>\n",
       "      <td>-3.173480</td>\n",
       "      <td>152.305333</td>\n",
       "      <td>4.96876</td>\n",
       "      <td>8.977533</td>\n",
       "      <td>-21.637573</td>\n",
       "      <td>-28.958000</td>\n",
       "      <td>11.562840</td>\n",
       "      <td>-227.382000</td>\n",
       "    </tr>\n",
       "    <tr>\n",
       "      <td>std</td>\n",
       "      <td>7.541549</td>\n",
       "      <td>1.108964</td>\n",
       "      <td>352.00374</td>\n",
       "      <td>5.090345</td>\n",
       "      <td>9.009814</td>\n",
       "      <td>6.333818</td>\n",
       "      <td>5.108542</td>\n",
       "      <td>71.416874</td>\n",
       "      <td>4.32521</td>\n",
       "      <td>2.491236</td>\n",
       "      <td>5.081288</td>\n",
       "      <td>7.159315</td>\n",
       "      <td>10.395829</td>\n",
       "      <td>120.565344</td>\n",
       "    </tr>\n",
       "    <tr>\n",
       "      <td>min</td>\n",
       "      <td>-4.320000</td>\n",
       "      <td>-0.970000</td>\n",
       "      <td>0.00000</td>\n",
       "      <td>-18.120000</td>\n",
       "      <td>0.000000</td>\n",
       "      <td>19.560000</td>\n",
       "      <td>-12.120000</td>\n",
       "      <td>72.860000</td>\n",
       "      <td>0.00000</td>\n",
       "      <td>4.470000</td>\n",
       "      <td>-39.700000</td>\n",
       "      <td>-46.320000</td>\n",
       "      <td>0.000000</td>\n",
       "      <td>-529.140000</td>\n",
       "    </tr>\n",
       "    <tr>\n",
       "      <td>25%</td>\n",
       "      <td>1.890000</td>\n",
       "      <td>0.740000</td>\n",
       "      <td>45.00000</td>\n",
       "      <td>-5.160000</td>\n",
       "      <td>2.000000</td>\n",
       "      <td>21.000000</td>\n",
       "      <td>-8.165000</td>\n",
       "      <td>96.860000</td>\n",
       "      <td>1.24000</td>\n",
       "      <td>6.600000</td>\n",
       "      <td>-25.400000</td>\n",
       "      <td>-36.320000</td>\n",
       "      <td>1.800000</td>\n",
       "      <td>-274.140000</td>\n",
       "    </tr>\n",
       "    <tr>\n",
       "      <td>50%</td>\n",
       "      <td>12.060000</td>\n",
       "      <td>1.240000</td>\n",
       "      <td>150.00000</td>\n",
       "      <td>-3.370000</td>\n",
       "      <td>2.000000</td>\n",
       "      <td>21.720000</td>\n",
       "      <td>-1.180000</td>\n",
       "      <td>116.860000</td>\n",
       "      <td>2.07000</td>\n",
       "      <td>9.930000</td>\n",
       "      <td>-23.600000</td>\n",
       "      <td>-25.320000</td>\n",
       "      <td>3.060000</td>\n",
       "      <td>-211.140000</td>\n",
       "    </tr>\n",
       "    <tr>\n",
       "      <td>75%</td>\n",
       "      <td>14.940000</td>\n",
       "      <td>1.970000</td>\n",
       "      <td>585.00000</td>\n",
       "      <td>3.520000</td>\n",
       "      <td>20.000000</td>\n",
       "      <td>32.460000</td>\n",
       "      <td>0.620000</td>\n",
       "      <td>212.860000</td>\n",
       "      <td>8.20000</td>\n",
       "      <td>10.812500</td>\n",
       "      <td>-16.680000</td>\n",
       "      <td>-23.320000</td>\n",
       "      <td>21.150000</td>\n",
       "      <td>-172.140000</td>\n",
       "    </tr>\n",
       "    <tr>\n",
       "      <td>max</td>\n",
       "      <td>32.100000</td>\n",
       "      <td>5.630000</td>\n",
       "      <td>1170.00000</td>\n",
       "      <td>7.740000</td>\n",
       "      <td>20.000000</td>\n",
       "      <td>39.860000</td>\n",
       "      <td>13.620000</td>\n",
       "      <td>317.860000</td>\n",
       "      <td>15.70000</td>\n",
       "      <td>16.710000</td>\n",
       "      <td>-12.320000</td>\n",
       "      <td>-20.320000</td>\n",
       "      <td>31.050000</td>\n",
       "      <td>115.860000</td>\n",
       "    </tr>\n",
       "  </tbody>\n",
       "</table>\n",
       "</div>"
      ],
      "text/plain": [
       "                F1           F2          F3           F4           F5  \\\n",
       "count  1500.000000  1500.000000  1500.00000  1500.000000  1500.000000   \n",
       "mean      9.111160     1.392353   327.07400    -1.389733    10.806667   \n",
       "std       7.541549     1.108964   352.00374     5.090345     9.009814   \n",
       "min      -4.320000    -0.970000     0.00000   -18.120000     0.000000   \n",
       "25%       1.890000     0.740000    45.00000    -5.160000     2.000000   \n",
       "50%      12.060000     1.240000   150.00000    -3.370000     2.000000   \n",
       "75%      14.940000     1.970000   585.00000     3.520000    20.000000   \n",
       "max      32.100000     5.630000  1170.00000     7.740000    20.000000   \n",
       "\n",
       "                F6           F7           F8          F9          F10  \\\n",
       "count  1500.000000  1500.000000  1500.000000  1500.00000  1500.000000   \n",
       "mean     26.935627    -3.173480   152.305333     4.96876     8.977533   \n",
       "std       6.333818     5.108542    71.416874     4.32521     2.491236   \n",
       "min      19.560000   -12.120000    72.860000     0.00000     4.470000   \n",
       "25%      21.000000    -8.165000    96.860000     1.24000     6.600000   \n",
       "50%      21.720000    -1.180000   116.860000     2.07000     9.930000   \n",
       "75%      32.460000     0.620000   212.860000     8.20000    10.812500   \n",
       "max      39.860000    13.620000   317.860000    15.70000    16.710000   \n",
       "\n",
       "               F11          F12          F13          F14  \n",
       "count  1500.000000  1500.000000  1500.000000  1500.000000  \n",
       "mean    -21.637573   -28.958000    11.562840  -227.382000  \n",
       "std       5.081288     7.159315    10.395829   120.565344  \n",
       "min     -39.700000   -46.320000     0.000000  -529.140000  \n",
       "25%     -25.400000   -36.320000     1.800000  -274.140000  \n",
       "50%     -23.600000   -25.320000     3.060000  -211.140000  \n",
       "75%     -16.680000   -23.320000    21.150000  -172.140000  \n",
       "max     -12.320000   -20.320000    31.050000   115.860000  "
      ]
     },
     "execution_count": 13,
     "metadata": {},
     "output_type": "execute_result"
    }
   ],
   "source": [
    "dropped_data.describe()"
   ]
  },
  {
   "cell_type": "code",
   "execution_count": 14,
   "metadata": {
    "colab": {
     "base_uri": "https://localhost:8080/",
     "height": 514
    },
    "id": "Fx8bJpkk1JVk",
    "outputId": "04a22be3-79b5-4d09-bba2-c68f5412d086"
   },
   "outputs": [
    {
     "data": {
      "text/html": [
       "<div>\n",
       "<style scoped>\n",
       "    .dataframe tbody tr th:only-of-type {\n",
       "        vertical-align: middle;\n",
       "    }\n",
       "\n",
       "    .dataframe tbody tr th {\n",
       "        vertical-align: top;\n",
       "    }\n",
       "\n",
       "    .dataframe thead th {\n",
       "        text-align: right;\n",
       "    }\n",
       "</style>\n",
       "<table border=\"1\" class=\"dataframe\">\n",
       "  <thead>\n",
       "    <tr style=\"text-align: right;\">\n",
       "      <th></th>\n",
       "      <th>F1</th>\n",
       "      <th>F2</th>\n",
       "      <th>F3</th>\n",
       "      <th>F4</th>\n",
       "      <th>F5</th>\n",
       "      <th>F6</th>\n",
       "      <th>F7</th>\n",
       "      <th>F8</th>\n",
       "      <th>F9</th>\n",
       "      <th>F10</th>\n",
       "      <th>F11</th>\n",
       "      <th>F12</th>\n",
       "      <th>F13</th>\n",
       "      <th>F14</th>\n",
       "      <th>Class</th>\n",
       "    </tr>\n",
       "  </thead>\n",
       "  <tbody>\n",
       "    <tr>\n",
       "      <td>F1</td>\n",
       "      <td>1.000000</td>\n",
       "      <td>0.181686</td>\n",
       "      <td>-0.675264</td>\n",
       "      <td>-0.809473</td>\n",
       "      <td>-0.877293</td>\n",
       "      <td>-0.887500</td>\n",
       "      <td>0.826213</td>\n",
       "      <td>-0.619599</td>\n",
       "      <td>-0.762769</td>\n",
       "      <td>0.818105</td>\n",
       "      <td>-0.807678</td>\n",
       "      <td>0.637027</td>\n",
       "      <td>-0.867305</td>\n",
       "      <td>0.207080</td>\n",
       "      <td>0.058308</td>\n",
       "    </tr>\n",
       "    <tr>\n",
       "      <td>F2</td>\n",
       "      <td>0.181686</td>\n",
       "      <td>1.000000</td>\n",
       "      <td>-0.012291</td>\n",
       "      <td>-0.176375</td>\n",
       "      <td>-0.229981</td>\n",
       "      <td>-0.182643</td>\n",
       "      <td>0.167082</td>\n",
       "      <td>-0.204661</td>\n",
       "      <td>-0.276405</td>\n",
       "      <td>0.170702</td>\n",
       "      <td>-0.166323</td>\n",
       "      <td>0.336565</td>\n",
       "      <td>-0.201330</td>\n",
       "      <td>-0.251693</td>\n",
       "      <td>-0.024064</td>\n",
       "    </tr>\n",
       "    <tr>\n",
       "      <td>F3</td>\n",
       "      <td>-0.675264</td>\n",
       "      <td>-0.012291</td>\n",
       "      <td>1.000000</td>\n",
       "      <td>0.690864</td>\n",
       "      <td>0.742369</td>\n",
       "      <td>0.755121</td>\n",
       "      <td>-0.679250</td>\n",
       "      <td>0.540342</td>\n",
       "      <td>0.706639</td>\n",
       "      <td>-0.676389</td>\n",
       "      <td>0.682649</td>\n",
       "      <td>-0.600153</td>\n",
       "      <td>0.733312</td>\n",
       "      <td>-0.069969</td>\n",
       "      <td>-0.152249</td>\n",
       "    </tr>\n",
       "    <tr>\n",
       "      <td>F4</td>\n",
       "      <td>-0.809473</td>\n",
       "      <td>-0.176375</td>\n",
       "      <td>0.690864</td>\n",
       "      <td>1.000000</td>\n",
       "      <td>0.868528</td>\n",
       "      <td>0.883349</td>\n",
       "      <td>-0.813816</td>\n",
       "      <td>0.614240</td>\n",
       "      <td>0.763419</td>\n",
       "      <td>-0.791322</td>\n",
       "      <td>0.804545</td>\n",
       "      <td>-0.614027</td>\n",
       "      <td>0.863434</td>\n",
       "      <td>-0.205886</td>\n",
       "      <td>-0.057144</td>\n",
       "    </tr>\n",
       "    <tr>\n",
       "      <td>F5</td>\n",
       "      <td>-0.877293</td>\n",
       "      <td>-0.229981</td>\n",
       "      <td>0.742369</td>\n",
       "      <td>0.868528</td>\n",
       "      <td>1.000000</td>\n",
       "      <td>0.956640</td>\n",
       "      <td>-0.873724</td>\n",
       "      <td>0.744822</td>\n",
       "      <td>0.888977</td>\n",
       "      <td>-0.865109</td>\n",
       "      <td>0.863027</td>\n",
       "      <td>-0.738079</td>\n",
       "      <td>0.954840</td>\n",
       "      <td>-0.194345</td>\n",
       "      <td>-0.203649</td>\n",
       "    </tr>\n",
       "    <tr>\n",
       "      <td>F6</td>\n",
       "      <td>-0.887500</td>\n",
       "      <td>-0.182643</td>\n",
       "      <td>0.755121</td>\n",
       "      <td>0.883349</td>\n",
       "      <td>0.956640</td>\n",
       "      <td>1.000000</td>\n",
       "      <td>-0.884842</td>\n",
       "      <td>0.727545</td>\n",
       "      <td>0.837365</td>\n",
       "      <td>-0.873428</td>\n",
       "      <td>0.873595</td>\n",
       "      <td>-0.681754</td>\n",
       "      <td>0.906307</td>\n",
       "      <td>-0.224060</td>\n",
       "      <td>-0.080522</td>\n",
       "    </tr>\n",
       "    <tr>\n",
       "      <td>F7</td>\n",
       "      <td>0.826213</td>\n",
       "      <td>0.167082</td>\n",
       "      <td>-0.679250</td>\n",
       "      <td>-0.813816</td>\n",
       "      <td>-0.873724</td>\n",
       "      <td>-0.884842</td>\n",
       "      <td>1.000000</td>\n",
       "      <td>-0.599455</td>\n",
       "      <td>-0.755101</td>\n",
       "      <td>0.802995</td>\n",
       "      <td>-0.804192</td>\n",
       "      <td>0.630234</td>\n",
       "      <td>-0.861852</td>\n",
       "      <td>0.215099</td>\n",
       "      <td>0.079108</td>\n",
       "    </tr>\n",
       "    <tr>\n",
       "      <td>F8</td>\n",
       "      <td>-0.619599</td>\n",
       "      <td>-0.204661</td>\n",
       "      <td>0.540342</td>\n",
       "      <td>0.614240</td>\n",
       "      <td>0.744822</td>\n",
       "      <td>0.727545</td>\n",
       "      <td>-0.599455</td>\n",
       "      <td>1.000000</td>\n",
       "      <td>0.672167</td>\n",
       "      <td>-0.595590</td>\n",
       "      <td>0.611131</td>\n",
       "      <td>-0.599113</td>\n",
       "      <td>0.721849</td>\n",
       "      <td>-0.088436</td>\n",
       "      <td>-0.266599</td>\n",
       "    </tr>\n",
       "    <tr>\n",
       "      <td>F9</td>\n",
       "      <td>-0.762769</td>\n",
       "      <td>-0.276405</td>\n",
       "      <td>0.706639</td>\n",
       "      <td>0.763419</td>\n",
       "      <td>0.888977</td>\n",
       "      <td>0.837365</td>\n",
       "      <td>-0.755101</td>\n",
       "      <td>0.672167</td>\n",
       "      <td>1.000000</td>\n",
       "      <td>-0.753287</td>\n",
       "      <td>0.750944</td>\n",
       "      <td>-0.637508</td>\n",
       "      <td>0.834246</td>\n",
       "      <td>-0.194739</td>\n",
       "      <td>-0.191255</td>\n",
       "    </tr>\n",
       "    <tr>\n",
       "      <td>F10</td>\n",
       "      <td>0.818105</td>\n",
       "      <td>0.170702</td>\n",
       "      <td>-0.676389</td>\n",
       "      <td>-0.791322</td>\n",
       "      <td>-0.865109</td>\n",
       "      <td>-0.873428</td>\n",
       "      <td>0.802995</td>\n",
       "      <td>-0.595590</td>\n",
       "      <td>-0.753287</td>\n",
       "      <td>1.000000</td>\n",
       "      <td>-0.794590</td>\n",
       "      <td>0.620092</td>\n",
       "      <td>-0.854378</td>\n",
       "      <td>0.192413</td>\n",
       "      <td>0.079035</td>\n",
       "    </tr>\n",
       "    <tr>\n",
       "      <td>F11</td>\n",
       "      <td>-0.807678</td>\n",
       "      <td>-0.166323</td>\n",
       "      <td>0.682649</td>\n",
       "      <td>0.804545</td>\n",
       "      <td>0.863027</td>\n",
       "      <td>0.873595</td>\n",
       "      <td>-0.804192</td>\n",
       "      <td>0.611131</td>\n",
       "      <td>0.750944</td>\n",
       "      <td>-0.794590</td>\n",
       "      <td>1.000000</td>\n",
       "      <td>-0.611943</td>\n",
       "      <td>0.855536</td>\n",
       "      <td>-0.207789</td>\n",
       "      <td>-0.068795</td>\n",
       "    </tr>\n",
       "    <tr>\n",
       "      <td>F12</td>\n",
       "      <td>0.637027</td>\n",
       "      <td>0.336565</td>\n",
       "      <td>-0.600153</td>\n",
       "      <td>-0.614027</td>\n",
       "      <td>-0.738079</td>\n",
       "      <td>-0.681754</td>\n",
       "      <td>0.630234</td>\n",
       "      <td>-0.599113</td>\n",
       "      <td>-0.637508</td>\n",
       "      <td>0.620092</td>\n",
       "      <td>-0.611943</td>\n",
       "      <td>1.000000</td>\n",
       "      <td>-0.697186</td>\n",
       "      <td>-0.238974</td>\n",
       "      <td>0.144057</td>\n",
       "    </tr>\n",
       "    <tr>\n",
       "      <td>F13</td>\n",
       "      <td>-0.867305</td>\n",
       "      <td>-0.201330</td>\n",
       "      <td>0.733312</td>\n",
       "      <td>0.863434</td>\n",
       "      <td>0.954840</td>\n",
       "      <td>0.906307</td>\n",
       "      <td>-0.861852</td>\n",
       "      <td>0.721849</td>\n",
       "      <td>0.834246</td>\n",
       "      <td>-0.854378</td>\n",
       "      <td>0.855536</td>\n",
       "      <td>-0.697186</td>\n",
       "      <td>1.000000</td>\n",
       "      <td>-0.203882</td>\n",
       "      <td>-0.135190</td>\n",
       "    </tr>\n",
       "    <tr>\n",
       "      <td>F14</td>\n",
       "      <td>0.207080</td>\n",
       "      <td>-0.251693</td>\n",
       "      <td>-0.069969</td>\n",
       "      <td>-0.205886</td>\n",
       "      <td>-0.194345</td>\n",
       "      <td>-0.224060</td>\n",
       "      <td>0.215099</td>\n",
       "      <td>-0.088436</td>\n",
       "      <td>-0.194739</td>\n",
       "      <td>0.192413</td>\n",
       "      <td>-0.207789</td>\n",
       "      <td>-0.238974</td>\n",
       "      <td>-0.203882</td>\n",
       "      <td>1.000000</td>\n",
       "      <td>0.050738</td>\n",
       "    </tr>\n",
       "    <tr>\n",
       "      <td>Class</td>\n",
       "      <td>0.058308</td>\n",
       "      <td>-0.024064</td>\n",
       "      <td>-0.152249</td>\n",
       "      <td>-0.057144</td>\n",
       "      <td>-0.203649</td>\n",
       "      <td>-0.080522</td>\n",
       "      <td>0.079108</td>\n",
       "      <td>-0.266599</td>\n",
       "      <td>-0.191255</td>\n",
       "      <td>0.079035</td>\n",
       "      <td>-0.068795</td>\n",
       "      <td>0.144057</td>\n",
       "      <td>-0.135190</td>\n",
       "      <td>0.050738</td>\n",
       "      <td>1.000000</td>\n",
       "    </tr>\n",
       "  </tbody>\n",
       "</table>\n",
       "</div>"
      ],
      "text/plain": [
       "             F1        F2        F3        F4        F5        F6        F7  \\\n",
       "F1     1.000000  0.181686 -0.675264 -0.809473 -0.877293 -0.887500  0.826213   \n",
       "F2     0.181686  1.000000 -0.012291 -0.176375 -0.229981 -0.182643  0.167082   \n",
       "F3    -0.675264 -0.012291  1.000000  0.690864  0.742369  0.755121 -0.679250   \n",
       "F4    -0.809473 -0.176375  0.690864  1.000000  0.868528  0.883349 -0.813816   \n",
       "F5    -0.877293 -0.229981  0.742369  0.868528  1.000000  0.956640 -0.873724   \n",
       "F6    -0.887500 -0.182643  0.755121  0.883349  0.956640  1.000000 -0.884842   \n",
       "F7     0.826213  0.167082 -0.679250 -0.813816 -0.873724 -0.884842  1.000000   \n",
       "F8    -0.619599 -0.204661  0.540342  0.614240  0.744822  0.727545 -0.599455   \n",
       "F9    -0.762769 -0.276405  0.706639  0.763419  0.888977  0.837365 -0.755101   \n",
       "F10    0.818105  0.170702 -0.676389 -0.791322 -0.865109 -0.873428  0.802995   \n",
       "F11   -0.807678 -0.166323  0.682649  0.804545  0.863027  0.873595 -0.804192   \n",
       "F12    0.637027  0.336565 -0.600153 -0.614027 -0.738079 -0.681754  0.630234   \n",
       "F13   -0.867305 -0.201330  0.733312  0.863434  0.954840  0.906307 -0.861852   \n",
       "F14    0.207080 -0.251693 -0.069969 -0.205886 -0.194345 -0.224060  0.215099   \n",
       "Class  0.058308 -0.024064 -0.152249 -0.057144 -0.203649 -0.080522  0.079108   \n",
       "\n",
       "             F8        F9       F10       F11       F12       F13       F14  \\\n",
       "F1    -0.619599 -0.762769  0.818105 -0.807678  0.637027 -0.867305  0.207080   \n",
       "F2    -0.204661 -0.276405  0.170702 -0.166323  0.336565 -0.201330 -0.251693   \n",
       "F3     0.540342  0.706639 -0.676389  0.682649 -0.600153  0.733312 -0.069969   \n",
       "F4     0.614240  0.763419 -0.791322  0.804545 -0.614027  0.863434 -0.205886   \n",
       "F5     0.744822  0.888977 -0.865109  0.863027 -0.738079  0.954840 -0.194345   \n",
       "F6     0.727545  0.837365 -0.873428  0.873595 -0.681754  0.906307 -0.224060   \n",
       "F7    -0.599455 -0.755101  0.802995 -0.804192  0.630234 -0.861852  0.215099   \n",
       "F8     1.000000  0.672167 -0.595590  0.611131 -0.599113  0.721849 -0.088436   \n",
       "F9     0.672167  1.000000 -0.753287  0.750944 -0.637508  0.834246 -0.194739   \n",
       "F10   -0.595590 -0.753287  1.000000 -0.794590  0.620092 -0.854378  0.192413   \n",
       "F11    0.611131  0.750944 -0.794590  1.000000 -0.611943  0.855536 -0.207789   \n",
       "F12   -0.599113 -0.637508  0.620092 -0.611943  1.000000 -0.697186 -0.238974   \n",
       "F13    0.721849  0.834246 -0.854378  0.855536 -0.697186  1.000000 -0.203882   \n",
       "F14   -0.088436 -0.194739  0.192413 -0.207789 -0.238974 -0.203882  1.000000   \n",
       "Class -0.266599 -0.191255  0.079035 -0.068795  0.144057 -0.135190  0.050738   \n",
       "\n",
       "          Class  \n",
       "F1     0.058308  \n",
       "F2    -0.024064  \n",
       "F3    -0.152249  \n",
       "F4    -0.057144  \n",
       "F5    -0.203649  \n",
       "F6    -0.080522  \n",
       "F7     0.079108  \n",
       "F8    -0.266599  \n",
       "F9    -0.191255  \n",
       "F10    0.079035  \n",
       "F11   -0.068795  \n",
       "F12    0.144057  \n",
       "F13   -0.135190  \n",
       "F14    0.050738  \n",
       "Class  1.000000  "
      ]
     },
     "execution_count": 14,
     "metadata": {},
     "output_type": "execute_result"
    }
   ],
   "source": [
    "dropped_data.corr()"
   ]
  },
  {
   "cell_type": "code",
   "execution_count": 15,
   "metadata": {
    "colab": {
     "base_uri": "https://localhost:8080/",
     "height": 400
    },
    "id": "v5U3iMsJT5m0",
    "outputId": "743c77d1-e707-4816-8779-4836a38b2ec9"
   },
   "outputs": [
    {
     "data": {
      "image/png": "[encoded data removed]",
      "text/plain": [
       "<Figure size 1152x432 with 2 Axes>"
      ]
     },
     "metadata": {
      "needs_background": "light"
     },
     "output_type": "display_data"
    }
   ],
   "source": [
    "plt.figure(figsize=(16, 6))\n",
    "heatmap = sns.heatmap(dropped_data.corr(), vmin=-1, vmax=1, annot=True,cmap='BrBG')\n",
    "heatmap.set_title('Correlation Heatmap', fontdict={'fontsize':18}, pad=12)\n",
    "plt.savefig('heatmap.png', dpi=300, bbox_inches='tight')"
   ]
  },
  {
   "cell_type": "code",
   "execution_count": 16,
   "metadata": {
    "colab": {
     "base_uri": "https://localhost:8080/",
     "height": 204
    },
    "id": "O8lBU9COg9UU",
    "outputId": "6a730ed8-e3ba-4c98-a4ee-be28bf1db985"
   },
   "outputs": [
    {
     "data": {
      "text/html": [
       "<div>\n",
       "<style scoped>\n",
       "    .dataframe tbody tr th:only-of-type {\n",
       "        vertical-align: middle;\n",
       "    }\n",
       "\n",
       "    .dataframe tbody tr th {\n",
       "        vertical-align: top;\n",
       "    }\n",
       "\n",
       "    .dataframe thead th {\n",
       "        text-align: right;\n",
       "    }\n",
       "</style>\n",
       "<table border=\"1\" class=\"dataframe\">\n",
       "  <thead>\n",
       "    <tr style=\"text-align: right;\">\n",
       "      <th></th>\n",
       "      <th>F1</th>\n",
       "      <th>F2</th>\n",
       "      <th>F3</th>\n",
       "      <th>F4</th>\n",
       "      <th>F5</th>\n",
       "      <th>F6</th>\n",
       "      <th>F7</th>\n",
       "      <th>F8</th>\n",
       "      <th>F9</th>\n",
       "      <th>F10</th>\n",
       "      <th>F11</th>\n",
       "      <th>F12</th>\n",
       "      <th>F13</th>\n",
       "      <th>F14</th>\n",
       "      <th>Class</th>\n",
       "    </tr>\n",
       "  </thead>\n",
       "  <tbody>\n",
       "    <tr>\n",
       "      <td>0</td>\n",
       "      <td>16.77</td>\n",
       "      <td>1.25</td>\n",
       "      <td>1080</td>\n",
       "      <td>4.04</td>\n",
       "      <td>20</td>\n",
       "      <td>30.36</td>\n",
       "      <td>-7.24</td>\n",
       "      <td>112.86</td>\n",
       "      <td>9.00</td>\n",
       "      <td>7.74</td>\n",
       "      <td>-15.70</td>\n",
       "      <td>-36.32</td>\n",
       "      <td>26.10</td>\n",
       "      <td>-184.14</td>\n",
       "      <td>0</td>\n",
       "    </tr>\n",
       "    <tr>\n",
       "      <td>1</td>\n",
       "      <td>12.45</td>\n",
       "      <td>1.63</td>\n",
       "      <td>156</td>\n",
       "      <td>-6.98</td>\n",
       "      <td>2</td>\n",
       "      <td>21.52</td>\n",
       "      <td>1.20</td>\n",
       "      <td>105.86</td>\n",
       "      <td>0.43</td>\n",
       "      <td>10.11</td>\n",
       "      <td>-25.06</td>\n",
       "      <td>-23.32</td>\n",
       "      <td>2.55</td>\n",
       "      <td>-208.14</td>\n",
       "      <td>1</td>\n",
       "    </tr>\n",
       "    <tr>\n",
       "      <td>2</td>\n",
       "      <td>0.06</td>\n",
       "      <td>1.09</td>\n",
       "      <td>855</td>\n",
       "      <td>6.08</td>\n",
       "      <td>20</td>\n",
       "      <td>33.76</td>\n",
       "      <td>-9.06</td>\n",
       "      <td>262.86</td>\n",
       "      <td>9.15</td>\n",
       "      <td>6.01</td>\n",
       "      <td>-14.40</td>\n",
       "      <td>-36.32</td>\n",
       "      <td>26.25</td>\n",
       "      <td>-394.14</td>\n",
       "      <td>0</td>\n",
       "    </tr>\n",
       "    <tr>\n",
       "      <td>3</td>\n",
       "      <td>1.80</td>\n",
       "      <td>2.04</td>\n",
       "      <td>435</td>\n",
       "      <td>1.72</td>\n",
       "      <td>20</td>\n",
       "      <td>31.96</td>\n",
       "      <td>-8.30</td>\n",
       "      <td>157.86</td>\n",
       "      <td>5.35</td>\n",
       "      <td>6.15</td>\n",
       "      <td>-17.64</td>\n",
       "      <td>-36.32</td>\n",
       "      <td>17.25</td>\n",
       "      <td>-64.14</td>\n",
       "      <td>0</td>\n",
       "    </tr>\n",
       "    <tr>\n",
       "      <td>4</td>\n",
       "      <td>15.45</td>\n",
       "      <td>1.38</td>\n",
       "      <td>195</td>\n",
       "      <td>-8.70</td>\n",
       "      <td>2</td>\n",
       "      <td>21.10</td>\n",
       "      <td>-0.06</td>\n",
       "      <td>112.86</td>\n",
       "      <td>1.37</td>\n",
       "      <td>10.26</td>\n",
       "      <td>-27.50</td>\n",
       "      <td>-23.32</td>\n",
       "      <td>2.01</td>\n",
       "      <td>-250.14</td>\n",
       "      <td>1</td>\n",
       "    </tr>\n",
       "  </tbody>\n",
       "</table>\n",
       "</div>"
      ],
      "text/plain": [
       "      F1    F2    F3    F4  F5     F6    F7      F8    F9    F10    F11  \\\n",
       "0  16.77  1.25  1080  4.04  20  30.36 -7.24  112.86  9.00   7.74 -15.70   \n",
       "1  12.45  1.63   156 -6.98   2  21.52  1.20  105.86  0.43  10.11 -25.06   \n",
       "2   0.06  1.09   855  6.08  20  33.76 -9.06  262.86  9.15   6.01 -14.40   \n",
       "3   1.80  2.04   435  1.72  20  31.96 -8.30  157.86  5.35   6.15 -17.64   \n",
       "4  15.45  1.38   195 -8.70   2  21.10 -0.06  112.86  1.37  10.26 -27.50   \n",
       "\n",
       "     F12    F13     F14  Class  \n",
       "0 -36.32  26.10 -184.14      0  \n",
       "1 -23.32   2.55 -208.14      1  \n",
       "2 -36.32  26.25 -394.14      0  \n",
       "3 -36.32  17.25  -64.14      0  \n",
       "4 -23.32   2.01 -250.14      1  "
      ]
     },
     "execution_count": 16,
     "metadata": {},
     "output_type": "execute_result"
    }
   ],
   "source": [
    "le = LabelEncoder()\n",
    "dropped_data['Class'] = le.fit_transform(dropped_data['Class'])\n",
    "dropped_data.head()"
   ]
  },
  {
   "cell_type": "markdown",
   "metadata": {
    "id": "CGYOuOCsZKNJ"
   },
   "source": [
    "**<h4>Splitting datasets into train and test splits using decision trees </h4>**\n",
    "\n",
    "---\n",
    "\n"
   ]
  },
  {
   "cell_type": "code",
   "execution_count": 17,
   "metadata": {
    "colab": {
     "base_uri": "https://localhost:8080/"
    },
    "id": "_wlVrxJxaqb_",
    "outputId": "b36c824c-2a9e-4b0c-8848-82d04960a1cf"
   },
   "outputs": [
    {
     "name": "stdout",
     "output_type": "stream",
     "text": [
      "1500\n"
     ]
    }
   ],
   "source": [
    "X = dropped_data.iloc[:,:-1]\n",
    "y = dropped_data.iloc[:,-1]\n",
    "print(len(X))"
   ]
  },
  {
   "cell_type": "code",
   "execution_count": 18,
   "metadata": {
    "id": "orYBddkRXHMd"
   },
   "outputs": [],
   "source": [
    "x_train,x_test,y_train,y_test = train_test_split(X,y,test_size=0.2,random_state=42)"
   ]
  },
  {
   "cell_type": "markdown",
   "metadata": {
    "id": "34sbzx78c5e4"
   },
   "source": [
    "**<h1>Modelling</h1>**"
   ]
  },
  {
   "cell_type": "markdown",
   "metadata": {
    "id": "XbCG15cymfK0"
   },
   "source": [
    "**<h4>Implementing DecisionTree algorithm</h4>**\n",
    "\n"
   ]
  },
  {
   "cell_type": "code",
   "execution_count": 19,
   "metadata": {
    "colab": {
     "base_uri": "https://localhost:8080/"
    },
    "id": "FUKjvCOVcazB",
    "outputId": "8cf35fad-36ea-4453-b75f-c82138a45cd8"
   },
   "outputs": [
    {
     "data": {
      "text/plain": [
       "DecisionTreeClassifier()"
      ]
     },
     "execution_count": 19,
     "metadata": {},
     "output_type": "execute_result"
    }
   ],
   "source": [
    "clf = DecisionTreeClassifier()\n",
    "#Train the model using the training sets\n",
    "clf.fit(x_train, y_train)"
   ]
  },
  {
   "cell_type": "code",
   "execution_count": 20,
   "metadata": {
    "id": "8QL7Sa5zeGG1"
   },
   "outputs": [],
   "source": [
    "#Predict the response for test dataset\n",
    "y_pred = clf.predict(x_test)"
   ]
  },
  {
   "cell_type": "code",
   "execution_count": 21,
   "metadata": {
    "colab": {
     "base_uri": "https://localhost:8080/"
    },
    "id": "sypjcUHFeMje",
    "outputId": "24e8d029-d260-451a-fa67-120334e46633"
   },
   "outputs": [
    {
     "name": "stdout",
     "output_type": "stream",
     "text": [
      "Accuracy: 0.7666666666666667\n",
      "Precision Score :  0.7666666666666667\n",
      "Recall Score :  0.7666666666666667\n",
      "Recall Score :  0.7652879301123195\n"
     ]
    },
    {
     "name": "stderr",
     "output_type": "stream",
     "text": [
      "C:\\Users\\ASUS\\Anaconda3\\lib\\site-packages\\sklearn\\metrics\\_classification.py:1298: UserWarning: Note that pos_label (set to 'positive') is ignored when average != 'binary' (got 'micro'). You may use labels=[pos_label] to specify a single positive class.\n",
      "  % (pos_label, average), UserWarning)\n",
      "C:\\Users\\ASUS\\Anaconda3\\lib\\site-packages\\sklearn\\metrics\\_classification.py:1298: UserWarning: Note that pos_label (set to 'positive') is ignored when average != 'binary' (got 'micro'). You may use labels=[pos_label] to specify a single positive class.\n",
      "  % (pos_label, average), UserWarning)\n"
     ]
    }
   ],
   "source": [
    "# Model Accuracy: how often is the classifier correct?\n",
    "print(\"Accuracy:\",accuracy_score(y_test, y_pred))\n",
    "\n",
    "print(\"Precision Score : \",precision_score(y_test, y_pred, \n",
    "                                           pos_label='positive'\n",
    "                                           ,average='micro'))\n",
    "print(\"Recall Score : \",recall_score(y_test, y_pred, \n",
    "                                           pos_label='positive'\n",
    "                                           ,average='micro'))\n",
    "\n",
    "print(\"Recall Score : \",roc_auc_score(y_test, y_pred))"
   ]
  },
  {
   "cell_type": "code",
   "execution_count": 22,
   "metadata": {
    "colab": {
     "base_uri": "https://localhost:8080/",
     "height": 503
    },
    "id": "AnNKCYk06A9-",
    "outputId": "dac7926d-f6d0-43a6-bc42-62c60c4c082c"
   },
   "outputs": [
    {
     "name": "stdout",
     "output_type": "stream",
     "text": [
      "Feature: 0, Score: 0.03544\n",
      "Feature: 1, Score: 0.08220\n",
      "Feature: 2, Score: 0.05271\n",
      "Feature: 3, Score: 0.07938\n",
      "Feature: 4, Score: 0.00000\n",
      "Feature: 5, Score: 0.18170\n",
      "Feature: 6, Score: 0.02652\n",
      "Feature: 7, Score: 0.15899\n",
      "Feature: 8, Score: 0.08350\n",
      "Feature: 9, Score: 0.04870\n",
      "Feature: 10, Score: 0.04504\n",
      "Feature: 11, Score: 0.01473\n",
      "Feature: 12, Score: 0.12840\n",
      "Feature: 13, Score: 0.06267\n"
     ]
    },
    {
     "data": {
      "image/png": "[encoded data removed]",
      "text/plain": [
       "<Figure size 432x288 with 1 Axes>"
      ]
     },
     "metadata": {
      "needs_background": "light"
     },
     "output_type": "display_data"
    }
   ],
   "source": [
    "importance = clf.feature_importances_\n",
    "# summarize feature importance\n",
    "for i,v in enumerate(importance):\n",
    "\tprint('Feature: %0d, Score: %.5f' % (i,v))\n",
    "# plot feature importance\n",
    "plt.bar([x for x in range(len(importance))], importance)\n",
    "plt.show()"
   ]
  },
  {
   "cell_type": "markdown",
   "metadata": {
    "id": "XHBnY6BIjU2_"
   },
   "source": [
    "**<h4>K-Fold Cross Validation </h4>**"
   ]
  },
  {
   "cell_type": "code",
   "execution_count": 23,
   "metadata": {
    "id": "jK6pk4zBjUKP"
   },
   "outputs": [],
   "source": [
    "clf = DecisionTreeClassifier()\n",
    "kfold_validation = KFold(5)"
   ]
  },
  {
   "cell_type": "code",
   "execution_count": 24,
   "metadata": {
    "colab": {
     "base_uri": "https://localhost:8080/"
    },
    "id": "T2KbLVfqjqWZ",
    "outputId": "9ab28e83-c919-47bb-a55c-f610279808c8"
   },
   "outputs": [
    {
     "name": "stdout",
     "output_type": "stream",
     "text": [
      "[0.77       0.77333333 0.78333333 0.75333333 0.79333333]\n",
      "0.7746666666666667\n"
     ]
    }
   ],
   "source": [
    "results = cross_val_score(clf,X,y,cv=kfold_validation)\n",
    "print(results)\n",
    "print(np.mean(results))"
   ]
  },
  {
   "cell_type": "markdown",
   "metadata": {
    "id": "iBr6UrUAmoM1"
   },
   "source": [
    "**<h4>Implementing Random Forest Algorithm</h4>**\n",
    "\n",
    "---\n",
    "\n"
   ]
  },
  {
   "cell_type": "code",
   "execution_count": 25,
   "metadata": {
    "colab": {
     "base_uri": "https://localhost:8080/"
    },
    "id": "rnW13sCCmtHO",
    "outputId": "c8c65e4e-c0b6-4e8b-f50f-7f3c30dbc34c"
   },
   "outputs": [
    {
     "data": {
      "text/plain": [
       "RandomForestClassifier()"
      ]
     },
     "execution_count": 25,
     "metadata": {},
     "output_type": "execute_result"
    }
   ],
   "source": [
    "clf = RandomForestClassifier()\n",
    "#Train the model using the training sets\n",
    "clf.fit(x_train, y_train)\n"
   ]
  },
  {
   "cell_type": "code",
   "execution_count": 26,
   "metadata": {
    "id": "w_ISMiY6mtJ1"
   },
   "outputs": [],
   "source": [
    "#Predict the response for test dataset\n",
    "y_pred = clf.predict(x_test)"
   ]
  },
  {
   "cell_type": "code",
   "execution_count": 27,
   "metadata": {
    "colab": {
     "base_uri": "https://localhost:8080/"
    },
    "id": "N8p06TufmtMJ",
    "outputId": "a57aec39-1949-4f13-8b34-1f0c9577ab3a"
   },
   "outputs": [
    {
     "name": "stdout",
     "output_type": "stream",
     "text": [
      "Accuracy: 0.8566666666666667\n",
      "Precision Score :  0.8566666666666667\n",
      "Recall Score :  0.8566666666666667\n",
      "Recall Score :  0.8575057942592262\n"
     ]
    },
    {
     "name": "stderr",
     "output_type": "stream",
     "text": [
      "C:\\Users\\ASUS\\Anaconda3\\lib\\site-packages\\sklearn\\metrics\\_classification.py:1298: UserWarning: Note that pos_label (set to 'positive') is ignored when average != 'binary' (got 'micro'). You may use labels=[pos_label] to specify a single positive class.\n",
      "  % (pos_label, average), UserWarning)\n",
      "C:\\Users\\ASUS\\Anaconda3\\lib\\site-packages\\sklearn\\metrics\\_classification.py:1298: UserWarning: Note that pos_label (set to 'positive') is ignored when average != 'binary' (got 'micro'). You may use labels=[pos_label] to specify a single positive class.\n",
      "  % (pos_label, average), UserWarning)\n"
     ]
    }
   ],
   "source": [
    "# Model Accuracy: how often is the classifier correct?\n",
    "print(\"Accuracy:\",accuracy_score(y_test, y_pred))\n",
    "\n",
    "print(\"Precision Score : \",precision_score(y_test, y_pred, \n",
    "                                           pos_label='positive'\n",
    "                                           ,average='micro'))\n",
    "print(\"Recall Score : \",recall_score(y_test, y_pred, \n",
    "                                           pos_label='positive'\n",
    "                                           ,average='micro'))\n",
    "\n",
    "print(\"Recall Score : \",roc_auc_score(y_test, y_pred))"
   ]
  },
  {
   "cell_type": "code",
   "execution_count": 28,
   "metadata": {
    "colab": {
     "base_uri": "https://localhost:8080/",
     "height": 503
    },
    "id": "lbLMU_yT6hQ9",
    "outputId": "a12ba694-7ae1-452d-c97e-f5c00f7047dd"
   },
   "outputs": [
    {
     "name": "stdout",
     "output_type": "stream",
     "text": [
      "Feature: 0, Score: 0.08465\n",
      "Feature: 1, Score: 0.07345\n",
      "Feature: 2, Score: 0.05329\n",
      "Feature: 3, Score: 0.09391\n",
      "Feature: 4, Score: 0.00841\n",
      "Feature: 5, Score: 0.15804\n",
      "Feature: 6, Score: 0.06357\n",
      "Feature: 7, Score: 0.09357\n",
      "Feature: 8, Score: 0.06223\n",
      "Feature: 9, Score: 0.06886\n",
      "Feature: 10, Score: 0.06077\n",
      "Feature: 11, Score: 0.02692\n",
      "Feature: 12, Score: 0.10365\n",
      "Feature: 13, Score: 0.04868\n"
     ]
    },
    {
     "data": {
      "image/png": "[encoded data removed]",
      "text/plain": [
       "<Figure size 432x288 with 1 Axes>"
      ]
     },
     "metadata": {
      "needs_background": "light"
     },
     "output_type": "display_data"
    }
   ],
   "source": [
    "importance = clf.feature_importances_\n",
    "# summarize feature importance\n",
    "for i,v in enumerate(importance):\n",
    "\tprint('Feature: %0d, Score: %.5f' % (i,v))\n",
    "# plot feature importance\n",
    "plt.bar([x for x in range(len(importance))], importance)\n",
    "plt.show()"
   ]
  },
  {
   "cell_type": "markdown",
   "metadata": {
    "id": "6P37f5a9m7sp"
   },
   "source": [
    "**<h4>K-Fold Cross Validation</h4>**"
   ]
  },
  {
   "cell_type": "code",
   "execution_count": 29,
   "metadata": {
    "id": "A6SE2lSNm8LW"
   },
   "outputs": [],
   "source": [
    "clf = RandomForestClassifier()\n",
    "kfold_validation = KFold(5)\n"
   ]
  },
  {
   "cell_type": "code",
   "execution_count": 30,
   "metadata": {
    "colab": {
     "base_uri": "https://localhost:8080/"
    },
    "id": "XdiXc-mpm8OF",
    "outputId": "46877f3c-30f7-48d4-8f64-960166cc552c"
   },
   "outputs": [
    {
     "name": "stdout",
     "output_type": "stream",
     "text": [
      "[0.86333333 0.8        0.81       0.86       0.81      ]\n",
      "0.8286666666666667\n"
     ]
    }
   ],
   "source": [
    "results = cross_val_score(clf,X,y,cv=kfold_validation)\n",
    "print(results)\n",
    "print(np.mean(results))"
   ]
  },
  {
   "cell_type": "markdown",
   "metadata": {
    "id": "QXWCR2qY7O5j"
   },
   "source": [
    "<h4>Feature Scaling</h4>"
   ]
  },
  {
   "cell_type": "code",
   "execution_count": 31,
   "metadata": {
    "id": "_T_JcRxZLCY7"
   },
   "outputs": [],
   "source": [
    "# fit on training data column\n",
    "scale = StandardScaler().fit(x_train)\n",
    "    \n",
    "# transform the training data column\n",
    "x_train_stand = scale.transform(x_train)\n",
    "\n",
    "# transform the testing data column\n",
    "x_test_stand = scale.transform(x_test)"
   ]
  },
  {
   "cell_type": "markdown",
   "metadata": {
    "id": "WQFOt1Ir-4MJ"
   },
   "source": [
    "**<h2>Implementing Logistic Regression</h2>**"
   ]
  },
  {
   "cell_type": "markdown",
   "metadata": {
    "id": "LDpQ-Nom7TuL"
   },
   "source": [
    "<h4>Feature Selection Using Lasso Regression</h4>"
   ]
  },
  {
   "cell_type": "code",
   "execution_count": 32,
   "metadata": {
    "colab": {
     "base_uri": "https://localhost:8080/"
    },
    "id": "3GSUw6_SNLJV",
    "outputId": "b2de1240-0bbb-4ddd-e68d-b0b43931ee60"
   },
   "outputs": [
    {
     "data": {
      "text/plain": [
       "SelectFromModel(estimator=LogisticRegression(C=0.1, penalty='l1',\n",
       "                                             solver='liblinear'))"
      ]
     },
     "execution_count": 32,
     "metadata": {},
     "output_type": "execute_result"
    }
   ],
   "source": [
    "sel_ = SelectFromModel(LogisticRegression(C=0.1, penalty='l1',solver='liblinear'))\n",
    "sel_.fit(x_train_stand, y_train)"
   ]
  },
  {
   "cell_type": "code",
   "execution_count": 33,
   "metadata": {
    "colab": {
     "base_uri": "https://localhost:8080/"
    },
    "id": "dHrqT_PCNLMW",
    "outputId": "e7cb677e-d220-413c-a969-40a4e7502806"
   },
   "outputs": [
    {
     "data": {
      "text/plain": [
       "array([ True,  True,  True,  True,  True,  True, False,  True, False,\n",
       "       False,  True, False,  True,  True])"
      ]
     },
     "execution_count": 33,
     "metadata": {},
     "output_type": "execute_result"
    }
   ],
   "source": [
    "sel_.get_support()"
   ]
  },
  {
   "cell_type": "code",
   "execution_count": 34,
   "metadata": {
    "colab": {
     "base_uri": "https://localhost:8080/"
    },
    "id": "lQzkXyXMLJJA",
    "outputId": "3b8b6103-cacb-4c9f-8764-75c63e65c02b"
   },
   "outputs": [
    {
     "name": "stdout",
     "output_type": "stream",
     "text": [
      "total features: 14\n",
      "selected features: 10\n",
      "features with coefficients shrank to zero: 4\n"
     ]
    }
   ],
   "source": [
    "selected_feat = X.columns[(sel_.get_support())]\n",
    "print('total features: {}'.format((x_train_stand.shape[1])))\n",
    "print('selected features: {}'.format(len(selected_feat)))\n",
    "print('features with coefficients shrank to zero: {}'.format(\n",
    "      np.sum(sel_.estimator_.coef_ == 0)))"
   ]
  },
  {
   "cell_type": "code",
   "execution_count": 35,
   "metadata": {
    "colab": {
     "base_uri": "https://localhost:8080/"
    },
    "id": "AG2rDXfMGHTO",
    "outputId": "a7775eba-a521-44ac-da4f-504b0f8e4533"
   },
   "outputs": [
    {
     "data": {
      "text/plain": [
       "4"
      ]
     },
     "execution_count": 35,
     "metadata": {},
     "output_type": "execute_result"
    }
   ],
   "source": [
    "np.sum(sel_.estimator_.coef_ == 0)"
   ]
  },
  {
   "cell_type": "code",
   "execution_count": 36,
   "metadata": {
    "colab": {
     "base_uri": "https://localhost:8080/"
    },
    "id": "Vi4JqHc1GHVM",
    "outputId": "2c42ce2d-b601-43f2-f277-05dcbfdc85cb"
   },
   "outputs": [
    {
     "data": {
      "text/plain": [
       "Index(['F7', 'F9', 'F10', 'F12'], dtype='object')"
      ]
     },
     "execution_count": 36,
     "metadata": {},
     "output_type": "execute_result"
    }
   ],
   "source": [
    "removed_feats = X.columns[(sel_.estimator_.coef_ == 0).ravel().tolist()]\n",
    "removed_feats"
   ]
  },
  {
   "cell_type": "code",
   "execution_count": 37,
   "metadata": {
    "colab": {
     "base_uri": "https://localhost:8080/",
     "height": 204
    },
    "id": "Gkv60b6lGHXx",
    "outputId": "642a7376-8383-4b4c-ca04-6ecd7569b851"
   },
   "outputs": [
    {
     "data": {
      "text/html": [
       "<div>\n",
       "<style scoped>\n",
       "    .dataframe tbody tr th:only-of-type {\n",
       "        vertical-align: middle;\n",
       "    }\n",
       "\n",
       "    .dataframe tbody tr th {\n",
       "        vertical-align: top;\n",
       "    }\n",
       "\n",
       "    .dataframe thead th {\n",
       "        text-align: right;\n",
       "    }\n",
       "</style>\n",
       "<table border=\"1\" class=\"dataframe\">\n",
       "  <thead>\n",
       "    <tr style=\"text-align: right;\">\n",
       "      <th></th>\n",
       "      <th>F1</th>\n",
       "      <th>F2</th>\n",
       "      <th>F3</th>\n",
       "      <th>F4</th>\n",
       "      <th>F5</th>\n",
       "      <th>F6</th>\n",
       "      <th>F8</th>\n",
       "      <th>F11</th>\n",
       "      <th>F13</th>\n",
       "      <th>F14</th>\n",
       "      <th>Class</th>\n",
       "    </tr>\n",
       "  </thead>\n",
       "  <tbody>\n",
       "    <tr>\n",
       "      <td>0</td>\n",
       "      <td>16.77</td>\n",
       "      <td>1.25</td>\n",
       "      <td>1080</td>\n",
       "      <td>4.04</td>\n",
       "      <td>20</td>\n",
       "      <td>30.36</td>\n",
       "      <td>112.86</td>\n",
       "      <td>-15.70</td>\n",
       "      <td>26.10</td>\n",
       "      <td>-184.14</td>\n",
       "      <td>0</td>\n",
       "    </tr>\n",
       "    <tr>\n",
       "      <td>1</td>\n",
       "      <td>12.45</td>\n",
       "      <td>1.63</td>\n",
       "      <td>156</td>\n",
       "      <td>-6.98</td>\n",
       "      <td>2</td>\n",
       "      <td>21.52</td>\n",
       "      <td>105.86</td>\n",
       "      <td>-25.06</td>\n",
       "      <td>2.55</td>\n",
       "      <td>-208.14</td>\n",
       "      <td>1</td>\n",
       "    </tr>\n",
       "    <tr>\n",
       "      <td>2</td>\n",
       "      <td>0.06</td>\n",
       "      <td>1.09</td>\n",
       "      <td>855</td>\n",
       "      <td>6.08</td>\n",
       "      <td>20</td>\n",
       "      <td>33.76</td>\n",
       "      <td>262.86</td>\n",
       "      <td>-14.40</td>\n",
       "      <td>26.25</td>\n",
       "      <td>-394.14</td>\n",
       "      <td>0</td>\n",
       "    </tr>\n",
       "    <tr>\n",
       "      <td>3</td>\n",
       "      <td>1.80</td>\n",
       "      <td>2.04</td>\n",
       "      <td>435</td>\n",
       "      <td>1.72</td>\n",
       "      <td>20</td>\n",
       "      <td>31.96</td>\n",
       "      <td>157.86</td>\n",
       "      <td>-17.64</td>\n",
       "      <td>17.25</td>\n",
       "      <td>-64.14</td>\n",
       "      <td>0</td>\n",
       "    </tr>\n",
       "    <tr>\n",
       "      <td>4</td>\n",
       "      <td>15.45</td>\n",
       "      <td>1.38</td>\n",
       "      <td>195</td>\n",
       "      <td>-8.70</td>\n",
       "      <td>2</td>\n",
       "      <td>21.10</td>\n",
       "      <td>112.86</td>\n",
       "      <td>-27.50</td>\n",
       "      <td>2.01</td>\n",
       "      <td>-250.14</td>\n",
       "      <td>1</td>\n",
       "    </tr>\n",
       "  </tbody>\n",
       "</table>\n",
       "</div>"
      ],
      "text/plain": [
       "      F1    F2    F3    F4  F5     F6      F8    F11    F13     F14  Class\n",
       "0  16.77  1.25  1080  4.04  20  30.36  112.86 -15.70  26.10 -184.14      0\n",
       "1  12.45  1.63   156 -6.98   2  21.52  105.86 -25.06   2.55 -208.14      1\n",
       "2   0.06  1.09   855  6.08  20  33.76  262.86 -14.40  26.25 -394.14      0\n",
       "3   1.80  2.04   435  1.72  20  31.96  157.86 -17.64  17.25  -64.14      0\n",
       "4  15.45  1.38   195 -8.70   2  21.10  112.86 -27.50   2.01 -250.14      1"
      ]
     },
     "execution_count": 37,
     "metadata": {},
     "output_type": "execute_result"
    }
   ],
   "source": [
    "dropped_data_lr = dropped_data.drop(removed_feats.tolist(),axis=1)\n",
    "dropped_data_lr.head()"
   ]
  },
  {
   "cell_type": "code",
   "execution_count": 38,
   "metadata": {
    "colab": {
     "base_uri": "https://localhost:8080/"
    },
    "id": "CgRIsIkUjsqw",
    "outputId": "b066ad08-f738-4982-9bae-964205936d6f"
   },
   "outputs": [
    {
     "name": "stdout",
     "output_type": "stream",
     "text": [
      "1500\n"
     ]
    }
   ],
   "source": [
    "X_lr = dropped_data_lr.iloc[:,:-1]\n",
    "y_lr = dropped_data_lr.iloc[:,-1]\n",
    "print(len(X))"
   ]
  },
  {
   "cell_type": "code",
   "execution_count": 39,
   "metadata": {
    "id": "VqXThFMwGHZv"
   },
   "outputs": [],
   "source": [
    "x_lr_train,x_lr_test,y_lr_train,y_lr_test = train_test_split(X_lr,y_lr,test_size=0.2,random_state=42)"
   ]
  },
  {
   "cell_type": "code",
   "execution_count": 40,
   "metadata": {
    "id": "aFzWdRM5FlM-"
   },
   "outputs": [],
   "source": [
    "# fit on training data column\n",
    "scale = StandardScaler().fit(x_lr_train)\n",
    "    \n",
    "# transform the training data column\n",
    "x_lr_train_stand = scale.transform(x_lr_train)\n",
    "\n",
    "# transform the testing data column\n",
    "x_lr_test_stand = scale.transform(x_lr_test)\n",
    "\n",
    "X_lr_stand = scale.transform(X_lr)\n"
   ]
  },
  {
   "cell_type": "code",
   "execution_count": 41,
   "metadata": {
    "colab": {
     "base_uri": "https://localhost:8080/"
    },
    "id": "eL_YZt-aFlQD",
    "outputId": "1cb822a7-debe-42aa-f130-bc00e1a14364"
   },
   "outputs": [
    {
     "data": {
      "text/plain": [
       "LogisticRegression()"
      ]
     },
     "execution_count": 41,
     "metadata": {},
     "output_type": "execute_result"
    }
   ],
   "source": [
    "clf = LogisticRegression()\n",
    "#Train the model using the training sets\n",
    "clf.fit(x_lr_train_stand, y_lr_train)\n",
    "\n"
   ]
  },
  {
   "cell_type": "code",
   "execution_count": 42,
   "metadata": {
    "id": "nN_D9AJMj_5A"
   },
   "outputs": [],
   "source": [
    "#Predict the response for test dataset\n",
    "y_pred = clf.predict(x_lr_test_stand)\n",
    "\n"
   ]
  },
  {
   "cell_type": "code",
   "execution_count": 43,
   "metadata": {
    "colab": {
     "base_uri": "https://localhost:8080/"
    },
    "id": "aSq1kjnEFlUQ",
    "outputId": "14bec6d4-d027-4aa8-aebd-1d0f449254c8"
   },
   "outputs": [
    {
     "name": "stdout",
     "output_type": "stream",
     "text": [
      "Accuracy: 0.7933333333333333\n",
      "Precision Score :  0.7933333333333333\n",
      "Recall Score :  0.7933333333333333\n",
      "Recall Score :  0.7931003743982884\n"
     ]
    },
    {
     "name": "stderr",
     "output_type": "stream",
     "text": [
      "C:\\Users\\ASUS\\Anaconda3\\lib\\site-packages\\sklearn\\metrics\\_classification.py:1298: UserWarning: Note that pos_label (set to 'positive') is ignored when average != 'binary' (got 'micro'). You may use labels=[pos_label] to specify a single positive class.\n",
      "  % (pos_label, average), UserWarning)\n",
      "C:\\Users\\ASUS\\Anaconda3\\lib\\site-packages\\sklearn\\metrics\\_classification.py:1298: UserWarning: Note that pos_label (set to 'positive') is ignored when average != 'binary' (got 'micro'). You may use labels=[pos_label] to specify a single positive class.\n",
      "  % (pos_label, average), UserWarning)\n"
     ]
    }
   ],
   "source": [
    "# Model Accuracy: how often is the classifier correct?\n",
    "print(\"Accuracy:\",accuracy_score(y_lr_test, y_pred))\n",
    "\n",
    "print(\"Precision Score : \",precision_score(y_lr_test, y_pred, \n",
    "                                           pos_label='positive'\n",
    "                                           ,average='micro'))\n",
    "print(\"Recall Score : \",recall_score(y_lr_test, y_pred, \n",
    "                                           pos_label='positive'\n",
    "                                           ,average='micro'))\n",
    "\n",
    "print(\"Recall Score : \",roc_auc_score(y_lr_test, y_pred))"
   ]
  },
  {
   "cell_type": "markdown",
   "metadata": {
    "id": "g9Mhg2jFkXWv"
   },
   "source": [
    "**<h4>K-Fold Cross Validation</h4>**"
   ]
  },
  {
   "cell_type": "code",
   "execution_count": 44,
   "metadata": {
    "id": "uvnhXEQ_kQaf"
   },
   "outputs": [],
   "source": [
    "clf = LogisticRegression()\n",
    "kfold_validation = KFold(5)"
   ]
  },
  {
   "cell_type": "code",
   "execution_count": 45,
   "metadata": {
    "colab": {
     "base_uri": "https://localhost:8080/"
    },
    "id": "M8qR5cFfkQhE",
    "outputId": "72f7b0cf-4a77-41ce-908e-64ba8edf0a44"
   },
   "outputs": [
    {
     "name": "stdout",
     "output_type": "stream",
     "text": [
      "[0.80666667 0.75333333 0.81       0.82       0.78      ]\n",
      "0.7939999999999999\n"
     ]
    }
   ],
   "source": [
    "results = cross_val_score(clf,X_lr_stand,y_lr,cv=kfold_validation,n_jobs=5)\n",
    "print(results)\n",
    "print(np.mean(results))"
   ]
  },
  {
   "cell_type": "markdown",
   "metadata": {
    "id": "5QD3MxLOtihR"
   },
   "source": [
    "**<h2>Implementing Support Vector Machine Algorithm</h2>**"
   ]
  },
  {
   "cell_type": "markdown",
   "metadata": {
    "id": "rl4-BPET73rG"
   },
   "source": [
    "**<h4>Feature Selection In SVM</h4>**"
   ]
  },
  {
   "cell_type": "code",
   "execution_count": 46,
   "metadata": {
    "colab": {
     "base_uri": "https://localhost:8080/"
    },
    "id": "YKOnwN85pq08",
    "outputId": "86f88757-f332-422f-a636-1a3fe93ece37"
   },
   "outputs": [
    {
     "name": "stderr",
     "output_type": "stream",
     "text": [
      "C:\\Users\\ASUS\\Anaconda3\\lib\\site-packages\\sklearn\\svm\\_base.py:986: ConvergenceWarning: Liblinear failed to converge, increase the number of iterations.\n",
      "  \"the number of iterations.\", ConvergenceWarning)\n"
     ]
    },
    {
     "data": {
      "text/plain": [
       "SelectFromModel(estimator=LinearSVC(C=0.1, dual=False, penalty='l1'))"
      ]
     },
     "execution_count": 46,
     "metadata": {},
     "output_type": "execute_result"
    }
   ],
   "source": [
    "sel_ = SelectFromModel(LinearSVC(C=0.1, penalty='l1',dual=False))\n",
    "sel_.fit(x_train_stand, y_train)"
   ]
  },
  {
   "cell_type": "code",
   "execution_count": 47,
   "metadata": {
    "colab": {
     "base_uri": "https://localhost:8080/"
    },
    "id": "UaBOxEbDqDm-",
    "outputId": "57ef875c-cca5-4b65-82f7-9a1d5aa1b859"
   },
   "outputs": [
    {
     "data": {
      "text/plain": [
       "array([ True,  True,  True,  True,  True,  True,  True,  True,  True,\n",
       "       False,  True,  True,  True,  True])"
      ]
     },
     "execution_count": 47,
     "metadata": {},
     "output_type": "execute_result"
    }
   ],
   "source": [
    "sel_.get_support()"
   ]
  },
  {
   "cell_type": "code",
   "execution_count": 48,
   "metadata": {
    "colab": {
     "base_uri": "https://localhost:8080/"
    },
    "id": "IgI0snZCqDqY",
    "outputId": "c42acb9d-b42e-4020-a553-0436652d9817"
   },
   "outputs": [
    {
     "name": "stdout",
     "output_type": "stream",
     "text": [
      "total features: 14\n",
      "selected features: 13\n",
      "features with coefficients shrank to zero: 1\n"
     ]
    }
   ],
   "source": [
    "selected_feat = X.columns[(sel_.get_support())]\n",
    "print('total features: {}'.format((x_train_stand.shape[1])))\n",
    "print('selected features: {}'.format(len(selected_feat)))\n",
    "print('features with coefficients shrank to zero: {}'.format(\n",
    "      np.sum(sel_.estimator_.coef_ == 0)))"
   ]
  },
  {
   "cell_type": "code",
   "execution_count": 49,
   "metadata": {
    "colab": {
     "base_uri": "https://localhost:8080/"
    },
    "id": "hAwZDYDPqDt7",
    "outputId": "b450b75a-5a23-4e2f-d29e-db4dd55692cf"
   },
   "outputs": [
    {
     "data": {
      "text/plain": [
       "1"
      ]
     },
     "execution_count": 49,
     "metadata": {},
     "output_type": "execute_result"
    }
   ],
   "source": [
    "np.sum(sel_.estimator_.coef_ == 0)"
   ]
  },
  {
   "cell_type": "code",
   "execution_count": 50,
   "metadata": {
    "colab": {
     "base_uri": "https://localhost:8080/"
    },
    "id": "1otYqSQgqDxp",
    "outputId": "8d457280-44bb-4219-cc83-a5e4c8c22d09"
   },
   "outputs": [
    {
     "data": {
      "text/plain": [
       "Index(['F10'], dtype='object')"
      ]
     },
     "execution_count": 50,
     "metadata": {},
     "output_type": "execute_result"
    }
   ],
   "source": [
    "removed_feats = X.columns[(sel_.estimator_.coef_ == 0).ravel().tolist()]\n",
    "removed_feats"
   ]
  },
  {
   "cell_type": "code",
   "execution_count": 51,
   "metadata": {
    "colab": {
     "base_uri": "https://localhost:8080/",
     "height": 204
    },
    "id": "2kI7C9aBqD05",
    "outputId": "009a4bf8-170f-444d-ae2a-0674fb1abc70"
   },
   "outputs": [
    {
     "data": {
      "text/html": [
       "<div>\n",
       "<style scoped>\n",
       "    .dataframe tbody tr th:only-of-type {\n",
       "        vertical-align: middle;\n",
       "    }\n",
       "\n",
       "    .dataframe tbody tr th {\n",
       "        vertical-align: top;\n",
       "    }\n",
       "\n",
       "    .dataframe thead th {\n",
       "        text-align: right;\n",
       "    }\n",
       "</style>\n",
       "<table border=\"1\" class=\"dataframe\">\n",
       "  <thead>\n",
       "    <tr style=\"text-align: right;\">\n",
       "      <th></th>\n",
       "      <th>F1</th>\n",
       "      <th>F2</th>\n",
       "      <th>F3</th>\n",
       "      <th>F4</th>\n",
       "      <th>F5</th>\n",
       "      <th>F6</th>\n",
       "      <th>F7</th>\n",
       "      <th>F8</th>\n",
       "      <th>F9</th>\n",
       "      <th>F11</th>\n",
       "      <th>F12</th>\n",
       "      <th>F13</th>\n",
       "      <th>F14</th>\n",
       "      <th>Class</th>\n",
       "    </tr>\n",
       "  </thead>\n",
       "  <tbody>\n",
       "    <tr>\n",
       "      <td>0</td>\n",
       "      <td>16.77</td>\n",
       "      <td>1.25</td>\n",
       "      <td>1080</td>\n",
       "      <td>4.04</td>\n",
       "      <td>20</td>\n",
       "      <td>30.36</td>\n",
       "      <td>-7.24</td>\n",
       "      <td>112.86</td>\n",
       "      <td>9.00</td>\n",
       "      <td>-15.70</td>\n",
       "      <td>-36.32</td>\n",
       "      <td>26.10</td>\n",
       "      <td>-184.14</td>\n",
       "      <td>0</td>\n",
       "    </tr>\n",
       "    <tr>\n",
       "      <td>1</td>\n",
       "      <td>12.45</td>\n",
       "      <td>1.63</td>\n",
       "      <td>156</td>\n",
       "      <td>-6.98</td>\n",
       "      <td>2</td>\n",
       "      <td>21.52</td>\n",
       "      <td>1.20</td>\n",
       "      <td>105.86</td>\n",
       "      <td>0.43</td>\n",
       "      <td>-25.06</td>\n",
       "      <td>-23.32</td>\n",
       "      <td>2.55</td>\n",
       "      <td>-208.14</td>\n",
       "      <td>1</td>\n",
       "    </tr>\n",
       "    <tr>\n",
       "      <td>2</td>\n",
       "      <td>0.06</td>\n",
       "      <td>1.09</td>\n",
       "      <td>855</td>\n",
       "      <td>6.08</td>\n",
       "      <td>20</td>\n",
       "      <td>33.76</td>\n",
       "      <td>-9.06</td>\n",
       "      <td>262.86</td>\n",
       "      <td>9.15</td>\n",
       "      <td>-14.40</td>\n",
       "      <td>-36.32</td>\n",
       "      <td>26.25</td>\n",
       "      <td>-394.14</td>\n",
       "      <td>0</td>\n",
       "    </tr>\n",
       "    <tr>\n",
       "      <td>3</td>\n",
       "      <td>1.80</td>\n",
       "      <td>2.04</td>\n",
       "      <td>435</td>\n",
       "      <td>1.72</td>\n",
       "      <td>20</td>\n",
       "      <td>31.96</td>\n",
       "      <td>-8.30</td>\n",
       "      <td>157.86</td>\n",
       "      <td>5.35</td>\n",
       "      <td>-17.64</td>\n",
       "      <td>-36.32</td>\n",
       "      <td>17.25</td>\n",
       "      <td>-64.14</td>\n",
       "      <td>0</td>\n",
       "    </tr>\n",
       "    <tr>\n",
       "      <td>4</td>\n",
       "      <td>15.45</td>\n",
       "      <td>1.38</td>\n",
       "      <td>195</td>\n",
       "      <td>-8.70</td>\n",
       "      <td>2</td>\n",
       "      <td>21.10</td>\n",
       "      <td>-0.06</td>\n",
       "      <td>112.86</td>\n",
       "      <td>1.37</td>\n",
       "      <td>-27.50</td>\n",
       "      <td>-23.32</td>\n",
       "      <td>2.01</td>\n",
       "      <td>-250.14</td>\n",
       "      <td>1</td>\n",
       "    </tr>\n",
       "  </tbody>\n",
       "</table>\n",
       "</div>"
      ],
      "text/plain": [
       "      F1    F2    F3    F4  F5     F6    F7      F8    F9    F11    F12  \\\n",
       "0  16.77  1.25  1080  4.04  20  30.36 -7.24  112.86  9.00 -15.70 -36.32   \n",
       "1  12.45  1.63   156 -6.98   2  21.52  1.20  105.86  0.43 -25.06 -23.32   \n",
       "2   0.06  1.09   855  6.08  20  33.76 -9.06  262.86  9.15 -14.40 -36.32   \n",
       "3   1.80  2.04   435  1.72  20  31.96 -8.30  157.86  5.35 -17.64 -36.32   \n",
       "4  15.45  1.38   195 -8.70   2  21.10 -0.06  112.86  1.37 -27.50 -23.32   \n",
       "\n",
       "     F13     F14  Class  \n",
       "0  26.10 -184.14      0  \n",
       "1   2.55 -208.14      1  \n",
       "2  26.25 -394.14      0  \n",
       "3  17.25  -64.14      0  \n",
       "4   2.01 -250.14      1  "
      ]
     },
     "execution_count": 51,
     "metadata": {},
     "output_type": "execute_result"
    }
   ],
   "source": [
    "dropped_data_svm = dropped_data.drop(removed_feats.tolist(),axis=1)\n",
    "dropped_data_svm.head()"
   ]
  },
  {
   "cell_type": "code",
   "execution_count": 52,
   "metadata": {
    "colab": {
     "base_uri": "https://localhost:8080/"
    },
    "id": "zVWuPqrVwMpo",
    "outputId": "596c2a2e-9598-467c-c35a-a3503b903952"
   },
   "outputs": [
    {
     "name": "stdout",
     "output_type": "stream",
     "text": [
      "1500\n"
     ]
    }
   ],
   "source": [
    "X_svm = dropped_data_svm.iloc[:,:-1]\n",
    "y_svm = dropped_data_svm.iloc[:,-1]\n",
    "print(len(X))"
   ]
  },
  {
   "cell_type": "code",
   "execution_count": 53,
   "metadata": {
    "id": "Q9Ha0-1_wMsk"
   },
   "outputs": [],
   "source": [
    "x_svm_train,x_svm_test,y_svm_train,y_svm_test = train_test_split(X_svm,y_svm,test_size=0.2,random_state=42)"
   ]
  },
  {
   "cell_type": "code",
   "execution_count": 54,
   "metadata": {
    "id": "ZWinQziAwWEo"
   },
   "outputs": [],
   "source": [
    "# fit on training data column\n",
    "scale = StandardScaler().fit(x_svm_train)\n",
    "    \n",
    "# transform the training data column\n",
    "x_svm_train_stand = scale.transform(x_svm_train)\n",
    "\n",
    "# transform the testing data column\n",
    "x_svm_test_stand = scale.transform(x_svm_test)\n",
    "\n",
    "X_svm_stand = scale.transform(X_svm)\n"
   ]
  },
  {
   "cell_type": "code",
   "execution_count": 55,
   "metadata": {
    "colab": {
     "base_uri": "https://localhost:8080/"
    },
    "id": "zhk2WT7nti98",
    "outputId": "fda18cee-ded3-4acc-9958-31d6e3b86455"
   },
   "outputs": [
    {
     "data": {
      "text/plain": [
       "SVC(kernel='linear')"
      ]
     },
     "execution_count": 55,
     "metadata": {},
     "output_type": "execute_result"
    }
   ],
   "source": [
    "clf = SVC(kernel='linear')\n",
    "#Train the model using the training sets\n",
    "clf.fit(x_svm_train_stand, y_svm_train)"
   ]
  },
  {
   "cell_type": "code",
   "execution_count": 56,
   "metadata": {
    "id": "gdMkZr7vtjEd"
   },
   "outputs": [],
   "source": [
    "#Predict the response for test dataset\n",
    "y_pred = clf.predict(x_svm_test_stand)\n"
   ]
  },
  {
   "cell_type": "code",
   "execution_count": 57,
   "metadata": {
    "colab": {
     "base_uri": "https://localhost:8080/"
    },
    "id": "fxourAxvtjKg",
    "outputId": "87d90b3e-ddda-4b5c-a7fc-961c8ebbec88"
   },
   "outputs": [
    {
     "name": "stdout",
     "output_type": "stream",
     "text": [
      "Accuracy: 0.7933333333333333\n",
      "Precision Score :  0.7933333333333333\n",
      "Recall Score :  0.7933333333333333\n",
      "Recall Score :  0.7952397931895169\n"
     ]
    },
    {
     "name": "stderr",
     "output_type": "stream",
     "text": [
      "C:\\Users\\ASUS\\Anaconda3\\lib\\site-packages\\sklearn\\metrics\\_classification.py:1298: UserWarning: Note that pos_label (set to 'positive') is ignored when average != 'binary' (got 'micro'). You may use labels=[pos_label] to specify a single positive class.\n",
      "  % (pos_label, average), UserWarning)\n",
      "C:\\Users\\ASUS\\Anaconda3\\lib\\site-packages\\sklearn\\metrics\\_classification.py:1298: UserWarning: Note that pos_label (set to 'positive') is ignored when average != 'binary' (got 'micro'). You may use labels=[pos_label] to specify a single positive class.\n",
      "  % (pos_label, average), UserWarning)\n"
     ]
    }
   ],
   "source": [
    "# Model Accuracy: how often is the classifier correct?\n",
    "print(\"Accuracy:\",accuracy_score(y_svm_test, y_pred))\n",
    "\n",
    "print(\"Precision Score : \",precision_score(y_svm_test, y_pred, \n",
    "                                           pos_label='positive'\n",
    "                                           ,average='micro'))\n",
    "print(\"Recall Score : \",recall_score(y_svm_test, y_pred, \n",
    "                                           pos_label='positive'\n",
    "                                           ,average='micro'))\n",
    "\n",
    "print(\"Recall Score : \",roc_auc_score(y_svm_test, y_pred))"
   ]
  },
  {
   "cell_type": "markdown",
   "metadata": {
    "id": "uJjGnPsktjYd"
   },
   "source": [
    "**<h4>K-Fold Cross Validation </h4>**"
   ]
  },
  {
   "cell_type": "code",
   "execution_count": 58,
   "metadata": {
    "id": "lbPrddc2tjmf"
   },
   "outputs": [],
   "source": [
    "clf = SVC(kernel='linear')\n",
    "kfold_validation = KFold(5)"
   ]
  },
  {
   "cell_type": "code",
   "execution_count": 59,
   "metadata": {
    "colab": {
     "base_uri": "https://localhost:8080/"
    },
    "id": "nbmjWD65tjrm",
    "outputId": "a4d213f3-90db-40be-d261-3d4ca6b90266"
   },
   "outputs": [
    {
     "name": "stdout",
     "output_type": "stream",
     "text": [
      "[0.81333333 0.77666667 0.8        0.83333333 0.78666667]\n",
      "0.8019999999999999\n"
     ]
    }
   ],
   "source": [
    "results = cross_val_score(clf,X_svm_stand,y_svm,cv=kfold_validation,n_jobs=5)\n",
    "print(results)\n",
    "print(np.mean(results))"
   ]
  },
  {
   "cell_type": "markdown",
   "metadata": {
    "id": "ZyhRfpNT1H2Q"
   },
   "source": [
    "**<h2>Inputting missing values in column 'F15' with mean of the overall data</h2>**\n"
   ]
  },
  {
   "cell_type": "code",
   "execution_count": 60,
   "metadata": {
    "colab": {
     "base_uri": "https://localhost:8080/",
     "height": 204
    },
    "id": "CPIF4U6S3U4n",
    "outputId": "0c8785bc-ea81-4a6a-91f0-110b42f1026e"
   },
   "outputs": [
    {
     "data": {
      "text/html": [
       "<div>\n",
       "<style scoped>\n",
       "    .dataframe tbody tr th:only-of-type {\n",
       "        vertical-align: middle;\n",
       "    }\n",
       "\n",
       "    .dataframe tbody tr th {\n",
       "        vertical-align: top;\n",
       "    }\n",
       "\n",
       "    .dataframe thead th {\n",
       "        text-align: right;\n",
       "    }\n",
       "</style>\n",
       "<table border=\"1\" class=\"dataframe\">\n",
       "  <thead>\n",
       "    <tr style=\"text-align: right;\">\n",
       "      <th></th>\n",
       "      <th>F1</th>\n",
       "      <th>F2</th>\n",
       "      <th>F3</th>\n",
       "      <th>F4</th>\n",
       "      <th>F5</th>\n",
       "      <th>F6</th>\n",
       "      <th>F7</th>\n",
       "      <th>F8</th>\n",
       "      <th>F9</th>\n",
       "      <th>F10</th>\n",
       "      <th>F11</th>\n",
       "      <th>F12</th>\n",
       "      <th>F13</th>\n",
       "      <th>F14</th>\n",
       "      <th>F15</th>\n",
       "      <th>Class</th>\n",
       "    </tr>\n",
       "  </thead>\n",
       "  <tbody>\n",
       "    <tr>\n",
       "      <td>0</td>\n",
       "      <td>16.77</td>\n",
       "      <td>1.25</td>\n",
       "      <td>1080</td>\n",
       "      <td>4.04</td>\n",
       "      <td>20</td>\n",
       "      <td>30.36</td>\n",
       "      <td>-7.24</td>\n",
       "      <td>112.86</td>\n",
       "      <td>9.00</td>\n",
       "      <td>7.74</td>\n",
       "      <td>-15.70</td>\n",
       "      <td>-36.32</td>\n",
       "      <td>26.10</td>\n",
       "      <td>-184.14</td>\n",
       "      <td>NaN</td>\n",
       "      <td>False</td>\n",
       "    </tr>\n",
       "    <tr>\n",
       "      <td>1</td>\n",
       "      <td>12.45</td>\n",
       "      <td>1.63</td>\n",
       "      <td>156</td>\n",
       "      <td>-6.98</td>\n",
       "      <td>2</td>\n",
       "      <td>21.52</td>\n",
       "      <td>1.20</td>\n",
       "      <td>105.86</td>\n",
       "      <td>0.43</td>\n",
       "      <td>10.11</td>\n",
       "      <td>-25.06</td>\n",
       "      <td>-23.32</td>\n",
       "      <td>2.55</td>\n",
       "      <td>-208.14</td>\n",
       "      <td>NaN</td>\n",
       "      <td>True</td>\n",
       "    </tr>\n",
       "    <tr>\n",
       "      <td>2</td>\n",
       "      <td>0.06</td>\n",
       "      <td>1.09</td>\n",
       "      <td>855</td>\n",
       "      <td>6.08</td>\n",
       "      <td>20</td>\n",
       "      <td>33.76</td>\n",
       "      <td>-9.06</td>\n",
       "      <td>262.86</td>\n",
       "      <td>9.15</td>\n",
       "      <td>6.01</td>\n",
       "      <td>-14.40</td>\n",
       "      <td>-36.32</td>\n",
       "      <td>26.25</td>\n",
       "      <td>-394.14</td>\n",
       "      <td>-6.67</td>\n",
       "      <td>False</td>\n",
       "    </tr>\n",
       "    <tr>\n",
       "      <td>3</td>\n",
       "      <td>1.80</td>\n",
       "      <td>2.04</td>\n",
       "      <td>435</td>\n",
       "      <td>1.72</td>\n",
       "      <td>20</td>\n",
       "      <td>31.96</td>\n",
       "      <td>-8.30</td>\n",
       "      <td>157.86</td>\n",
       "      <td>5.35</td>\n",
       "      <td>6.15</td>\n",
       "      <td>-17.64</td>\n",
       "      <td>-36.32</td>\n",
       "      <td>17.25</td>\n",
       "      <td>-64.14</td>\n",
       "      <td>NaN</td>\n",
       "      <td>False</td>\n",
       "    </tr>\n",
       "    <tr>\n",
       "      <td>4</td>\n",
       "      <td>15.45</td>\n",
       "      <td>1.38</td>\n",
       "      <td>195</td>\n",
       "      <td>-8.70</td>\n",
       "      <td>2</td>\n",
       "      <td>21.10</td>\n",
       "      <td>-0.06</td>\n",
       "      <td>112.86</td>\n",
       "      <td>1.37</td>\n",
       "      <td>10.26</td>\n",
       "      <td>-27.50</td>\n",
       "      <td>-23.32</td>\n",
       "      <td>2.01</td>\n",
       "      <td>-250.14</td>\n",
       "      <td>NaN</td>\n",
       "      <td>True</td>\n",
       "    </tr>\n",
       "  </tbody>\n",
       "</table>\n",
       "</div>"
      ],
      "text/plain": [
       "      F1    F2    F3    F4  F5     F6    F7      F8    F9    F10    F11  \\\n",
       "0  16.77  1.25  1080  4.04  20  30.36 -7.24  112.86  9.00   7.74 -15.70   \n",
       "1  12.45  1.63   156 -6.98   2  21.52  1.20  105.86  0.43  10.11 -25.06   \n",
       "2   0.06  1.09   855  6.08  20  33.76 -9.06  262.86  9.15   6.01 -14.40   \n",
       "3   1.80  2.04   435  1.72  20  31.96 -8.30  157.86  5.35   6.15 -17.64   \n",
       "4  15.45  1.38   195 -8.70   2  21.10 -0.06  112.86  1.37  10.26 -27.50   \n",
       "\n",
       "     F12    F13     F14   F15  Class  \n",
       "0 -36.32  26.10 -184.14   NaN  False  \n",
       "1 -23.32   2.55 -208.14   NaN   True  \n",
       "2 -36.32  26.25 -394.14 -6.67  False  \n",
       "3 -36.32  17.25  -64.14   NaN  False  \n",
       "4 -23.32   2.01 -250.14   NaN   True  "
      ]
     },
     "execution_count": 60,
     "metadata": {},
     "output_type": "execute_result"
    }
   ],
   "source": [
    "data_with_overall_mean = data.copy()\n",
    "data_with_overall_mean.head()"
   ]
  },
  {
   "cell_type": "code",
   "execution_count": 61,
   "metadata": {
    "colab": {
     "base_uri": "https://localhost:8080/",
     "height": 204
    },
    "id": "NJ7hp6b5kuaa",
    "outputId": "01456b3f-59bc-44c6-e813-16f40ccb35a0"
   },
   "outputs": [
    {
     "data": {
      "text/html": [
       "<div>\n",
       "<style scoped>\n",
       "    .dataframe tbody tr th:only-of-type {\n",
       "        vertical-align: middle;\n",
       "    }\n",
       "\n",
       "    .dataframe tbody tr th {\n",
       "        vertical-align: top;\n",
       "    }\n",
       "\n",
       "    .dataframe thead th {\n",
       "        text-align: right;\n",
       "    }\n",
       "</style>\n",
       "<table border=\"1\" class=\"dataframe\">\n",
       "  <thead>\n",
       "    <tr style=\"text-align: right;\">\n",
       "      <th></th>\n",
       "      <th>F1</th>\n",
       "      <th>F2</th>\n",
       "      <th>F3</th>\n",
       "      <th>F4</th>\n",
       "      <th>F5</th>\n",
       "      <th>F6</th>\n",
       "      <th>F7</th>\n",
       "      <th>F8</th>\n",
       "      <th>F9</th>\n",
       "      <th>F10</th>\n",
       "      <th>F11</th>\n",
       "      <th>F12</th>\n",
       "      <th>F13</th>\n",
       "      <th>F14</th>\n",
       "      <th>F15</th>\n",
       "      <th>Class</th>\n",
       "    </tr>\n",
       "  </thead>\n",
       "  <tbody>\n",
       "    <tr>\n",
       "      <td>0</td>\n",
       "      <td>16.77</td>\n",
       "      <td>1.25</td>\n",
       "      <td>1080</td>\n",
       "      <td>4.04</td>\n",
       "      <td>20</td>\n",
       "      <td>30.36</td>\n",
       "      <td>-7.24</td>\n",
       "      <td>112.86</td>\n",
       "      <td>9.00</td>\n",
       "      <td>7.74</td>\n",
       "      <td>-15.70</td>\n",
       "      <td>-36.32</td>\n",
       "      <td>26.10</td>\n",
       "      <td>-184.14</td>\n",
       "      <td>-7.743013</td>\n",
       "      <td>False</td>\n",
       "    </tr>\n",
       "    <tr>\n",
       "      <td>1</td>\n",
       "      <td>12.45</td>\n",
       "      <td>1.63</td>\n",
       "      <td>156</td>\n",
       "      <td>-6.98</td>\n",
       "      <td>2</td>\n",
       "      <td>21.52</td>\n",
       "      <td>1.20</td>\n",
       "      <td>105.86</td>\n",
       "      <td>0.43</td>\n",
       "      <td>10.11</td>\n",
       "      <td>-25.06</td>\n",
       "      <td>-23.32</td>\n",
       "      <td>2.55</td>\n",
       "      <td>-208.14</td>\n",
       "      <td>-7.743013</td>\n",
       "      <td>True</td>\n",
       "    </tr>\n",
       "    <tr>\n",
       "      <td>2</td>\n",
       "      <td>0.06</td>\n",
       "      <td>1.09</td>\n",
       "      <td>855</td>\n",
       "      <td>6.08</td>\n",
       "      <td>20</td>\n",
       "      <td>33.76</td>\n",
       "      <td>-9.06</td>\n",
       "      <td>262.86</td>\n",
       "      <td>9.15</td>\n",
       "      <td>6.01</td>\n",
       "      <td>-14.40</td>\n",
       "      <td>-36.32</td>\n",
       "      <td>26.25</td>\n",
       "      <td>-394.14</td>\n",
       "      <td>-6.670000</td>\n",
       "      <td>False</td>\n",
       "    </tr>\n",
       "    <tr>\n",
       "      <td>3</td>\n",
       "      <td>1.80</td>\n",
       "      <td>2.04</td>\n",
       "      <td>435</td>\n",
       "      <td>1.72</td>\n",
       "      <td>20</td>\n",
       "      <td>31.96</td>\n",
       "      <td>-8.30</td>\n",
       "      <td>157.86</td>\n",
       "      <td>5.35</td>\n",
       "      <td>6.15</td>\n",
       "      <td>-17.64</td>\n",
       "      <td>-36.32</td>\n",
       "      <td>17.25</td>\n",
       "      <td>-64.14</td>\n",
       "      <td>-7.743013</td>\n",
       "      <td>False</td>\n",
       "    </tr>\n",
       "    <tr>\n",
       "      <td>4</td>\n",
       "      <td>15.45</td>\n",
       "      <td>1.38</td>\n",
       "      <td>195</td>\n",
       "      <td>-8.70</td>\n",
       "      <td>2</td>\n",
       "      <td>21.10</td>\n",
       "      <td>-0.06</td>\n",
       "      <td>112.86</td>\n",
       "      <td>1.37</td>\n",
       "      <td>10.26</td>\n",
       "      <td>-27.50</td>\n",
       "      <td>-23.32</td>\n",
       "      <td>2.01</td>\n",
       "      <td>-250.14</td>\n",
       "      <td>-7.743013</td>\n",
       "      <td>True</td>\n",
       "    </tr>\n",
       "  </tbody>\n",
       "</table>\n",
       "</div>"
      ],
      "text/plain": [
       "      F1    F2    F3    F4  F5     F6    F7      F8    F9    F10    F11  \\\n",
       "0  16.77  1.25  1080  4.04  20  30.36 -7.24  112.86  9.00   7.74 -15.70   \n",
       "1  12.45  1.63   156 -6.98   2  21.52  1.20  105.86  0.43  10.11 -25.06   \n",
       "2   0.06  1.09   855  6.08  20  33.76 -9.06  262.86  9.15   6.01 -14.40   \n",
       "3   1.80  2.04   435  1.72  20  31.96 -8.30  157.86  5.35   6.15 -17.64   \n",
       "4  15.45  1.38   195 -8.70   2  21.10 -0.06  112.86  1.37  10.26 -27.50   \n",
       "\n",
       "     F12    F13     F14       F15  Class  \n",
       "0 -36.32  26.10 -184.14 -7.743013  False  \n",
       "1 -23.32   2.55 -208.14 -7.743013   True  \n",
       "2 -36.32  26.25 -394.14 -6.670000  False  \n",
       "3 -36.32  17.25  -64.14 -7.743013  False  \n",
       "4 -23.32   2.01 -250.14 -7.743013   True  "
      ]
     },
     "execution_count": 61,
     "metadata": {},
     "output_type": "execute_result"
    }
   ],
   "source": [
    "data_with_overall_mean.loc[data_with_overall_mean['F15'].isnull()==True,\"F15\"] = data_with_overall_mean['F15'].mean()\n",
    "data_with_overall_mean.head()"
   ]
  },
  {
   "cell_type": "code",
   "execution_count": 62,
   "metadata": {
    "colab": {
     "base_uri": "https://localhost:8080/",
     "height": 204
    },
    "id": "pLluN1yz2yMf",
    "outputId": "dcfe75bc-ded7-466b-bd37-181c8662aff6"
   },
   "outputs": [
    {
     "data": {
      "text/html": [
       "<div>\n",
       "<style scoped>\n",
       "    .dataframe tbody tr th:only-of-type {\n",
       "        vertical-align: middle;\n",
       "    }\n",
       "\n",
       "    .dataframe tbody tr th {\n",
       "        vertical-align: top;\n",
       "    }\n",
       "\n",
       "    .dataframe thead th {\n",
       "        text-align: right;\n",
       "    }\n",
       "</style>\n",
       "<table border=\"1\" class=\"dataframe\">\n",
       "  <thead>\n",
       "    <tr style=\"text-align: right;\">\n",
       "      <th></th>\n",
       "      <th>F1</th>\n",
       "      <th>F2</th>\n",
       "      <th>F3</th>\n",
       "      <th>F4</th>\n",
       "      <th>F5</th>\n",
       "      <th>F6</th>\n",
       "      <th>F7</th>\n",
       "      <th>F8</th>\n",
       "      <th>F9</th>\n",
       "      <th>F10</th>\n",
       "      <th>F11</th>\n",
       "      <th>F12</th>\n",
       "      <th>F13</th>\n",
       "      <th>F14</th>\n",
       "      <th>F15</th>\n",
       "      <th>Class</th>\n",
       "    </tr>\n",
       "  </thead>\n",
       "  <tbody>\n",
       "    <tr>\n",
       "      <td>0</td>\n",
       "      <td>16.77</td>\n",
       "      <td>1.25</td>\n",
       "      <td>1080</td>\n",
       "      <td>4.04</td>\n",
       "      <td>20</td>\n",
       "      <td>30.36</td>\n",
       "      <td>-7.24</td>\n",
       "      <td>112.86</td>\n",
       "      <td>9.00</td>\n",
       "      <td>7.74</td>\n",
       "      <td>-15.70</td>\n",
       "      <td>-36.32</td>\n",
       "      <td>26.10</td>\n",
       "      <td>-184.14</td>\n",
       "      <td>-7.743013</td>\n",
       "      <td>0</td>\n",
       "    </tr>\n",
       "    <tr>\n",
       "      <td>1</td>\n",
       "      <td>12.45</td>\n",
       "      <td>1.63</td>\n",
       "      <td>156</td>\n",
       "      <td>-6.98</td>\n",
       "      <td>2</td>\n",
       "      <td>21.52</td>\n",
       "      <td>1.20</td>\n",
       "      <td>105.86</td>\n",
       "      <td>0.43</td>\n",
       "      <td>10.11</td>\n",
       "      <td>-25.06</td>\n",
       "      <td>-23.32</td>\n",
       "      <td>2.55</td>\n",
       "      <td>-208.14</td>\n",
       "      <td>-7.743013</td>\n",
       "      <td>1</td>\n",
       "    </tr>\n",
       "    <tr>\n",
       "      <td>2</td>\n",
       "      <td>0.06</td>\n",
       "      <td>1.09</td>\n",
       "      <td>855</td>\n",
       "      <td>6.08</td>\n",
       "      <td>20</td>\n",
       "      <td>33.76</td>\n",
       "      <td>-9.06</td>\n",
       "      <td>262.86</td>\n",
       "      <td>9.15</td>\n",
       "      <td>6.01</td>\n",
       "      <td>-14.40</td>\n",
       "      <td>-36.32</td>\n",
       "      <td>26.25</td>\n",
       "      <td>-394.14</td>\n",
       "      <td>-6.670000</td>\n",
       "      <td>0</td>\n",
       "    </tr>\n",
       "    <tr>\n",
       "      <td>3</td>\n",
       "      <td>1.80</td>\n",
       "      <td>2.04</td>\n",
       "      <td>435</td>\n",
       "      <td>1.72</td>\n",
       "      <td>20</td>\n",
       "      <td>31.96</td>\n",
       "      <td>-8.30</td>\n",
       "      <td>157.86</td>\n",
       "      <td>5.35</td>\n",
       "      <td>6.15</td>\n",
       "      <td>-17.64</td>\n",
       "      <td>-36.32</td>\n",
       "      <td>17.25</td>\n",
       "      <td>-64.14</td>\n",
       "      <td>-7.743013</td>\n",
       "      <td>0</td>\n",
       "    </tr>\n",
       "    <tr>\n",
       "      <td>4</td>\n",
       "      <td>15.45</td>\n",
       "      <td>1.38</td>\n",
       "      <td>195</td>\n",
       "      <td>-8.70</td>\n",
       "      <td>2</td>\n",
       "      <td>21.10</td>\n",
       "      <td>-0.06</td>\n",
       "      <td>112.86</td>\n",
       "      <td>1.37</td>\n",
       "      <td>10.26</td>\n",
       "      <td>-27.50</td>\n",
       "      <td>-23.32</td>\n",
       "      <td>2.01</td>\n",
       "      <td>-250.14</td>\n",
       "      <td>-7.743013</td>\n",
       "      <td>1</td>\n",
       "    </tr>\n",
       "  </tbody>\n",
       "</table>\n",
       "</div>"
      ],
      "text/plain": [
       "      F1    F2    F3    F4  F5     F6    F7      F8    F9    F10    F11  \\\n",
       "0  16.77  1.25  1080  4.04  20  30.36 -7.24  112.86  9.00   7.74 -15.70   \n",
       "1  12.45  1.63   156 -6.98   2  21.52  1.20  105.86  0.43  10.11 -25.06   \n",
       "2   0.06  1.09   855  6.08  20  33.76 -9.06  262.86  9.15   6.01 -14.40   \n",
       "3   1.80  2.04   435  1.72  20  31.96 -8.30  157.86  5.35   6.15 -17.64   \n",
       "4  15.45  1.38   195 -8.70   2  21.10 -0.06  112.86  1.37  10.26 -27.50   \n",
       "\n",
       "     F12    F13     F14       F15  Class  \n",
       "0 -36.32  26.10 -184.14 -7.743013      0  \n",
       "1 -23.32   2.55 -208.14 -7.743013      1  \n",
       "2 -36.32  26.25 -394.14 -6.670000      0  \n",
       "3 -36.32  17.25  -64.14 -7.743013      0  \n",
       "4 -23.32   2.01 -250.14 -7.743013      1  "
      ]
     },
     "execution_count": 62,
     "metadata": {},
     "output_type": "execute_result"
    }
   ],
   "source": [
    "le = LabelEncoder()\n",
    "data_with_overall_mean['Class'] = le.fit_transform(data_with_overall_mean['Class'])\n",
    "data_with_overall_mean.head()"
   ]
  },
  {
   "cell_type": "code",
   "execution_count": 63,
   "metadata": {
    "id": "g1u8GWfF3zL7"
   },
   "outputs": [],
   "source": [
    "X_mean = data_with_overall_mean.iloc[:,:-1]\n",
    "y_mean = data_with_overall_mean.iloc[:,-1]"
   ]
  },
  {
   "cell_type": "code",
   "execution_count": 64,
   "metadata": {
    "id": "9VVR8CX738WW"
   },
   "outputs": [],
   "source": [
    "x_mean_train,x_mean_test,y_mean_train,y_mean_test = train_test_split(X_mean,y_mean,test_size=0.2,random_state=42)"
   ]
  },
  {
   "cell_type": "markdown",
   "metadata": {
    "id": "ahmB5BeonkpI"
   },
   "source": [
    "\n",
    "**<h2>Implementing Decision Tree Algorithm after Imputting with mean of the overall data</h2>**"
   ]
  },
  {
   "cell_type": "code",
   "execution_count": 65,
   "metadata": {
    "colab": {
     "base_uri": "https://localhost:8080/"
    },
    "id": "v3GjtFZR4Cfz",
    "outputId": "f9f9cb81-a8db-4839-c19e-67098926d1fb"
   },
   "outputs": [
    {
     "data": {
      "text/plain": [
       "DecisionTreeClassifier()"
      ]
     },
     "execution_count": 65,
     "metadata": {},
     "output_type": "execute_result"
    }
   ],
   "source": [
    "# clf = RandomForestClassifier()\n",
    "clf = DecisionTreeClassifier()\n",
    "#Train the model using the training sets\n",
    "clf.fit(x_mean_train, y_mean_train)"
   ]
  },
  {
   "cell_type": "code",
   "execution_count": 66,
   "metadata": {
    "id": "Fm8zI8Ko4IYW"
   },
   "outputs": [],
   "source": [
    "#Predict the response for test dataset\n",
    "y_pred = clf.predict(x_mean_test)"
   ]
  },
  {
   "cell_type": "code",
   "execution_count": 67,
   "metadata": {
    "colab": {
     "base_uri": "https://localhost:8080/"
    },
    "id": "jg2WX9z94Iyy",
    "outputId": "83131254-234c-4b9b-d93a-e4e89a2c0d46"
   },
   "outputs": [
    {
     "name": "stdout",
     "output_type": "stream",
     "text": [
      "Accuracy: 0.8033333333333333\n",
      "Precision Score :  0.8033333333333333\n",
      "Recall Score :  0.8033333333333333\n",
      "Recall Score :  0.8025940452843643\n"
     ]
    },
    {
     "name": "stderr",
     "output_type": "stream",
     "text": [
      "C:\\Users\\ASUS\\Anaconda3\\lib\\site-packages\\sklearn\\metrics\\_classification.py:1298: UserWarning: Note that pos_label (set to 'positive') is ignored when average != 'binary' (got 'micro'). You may use labels=[pos_label] to specify a single positive class.\n",
      "  % (pos_label, average), UserWarning)\n",
      "C:\\Users\\ASUS\\Anaconda3\\lib\\site-packages\\sklearn\\metrics\\_classification.py:1298: UserWarning: Note that pos_label (set to 'positive') is ignored when average != 'binary' (got 'micro'). You may use labels=[pos_label] to specify a single positive class.\n",
      "  % (pos_label, average), UserWarning)\n"
     ]
    }
   ],
   "source": [
    "# Model Accuracy: how often is the classifier correct?\n",
    "print(\"Accuracy:\",accuracy_score(y_mean_test, y_pred))\n",
    "\n",
    "print(\"Precision Score : \",precision_score(y_mean_test, y_pred, \n",
    "                                           pos_label='positive'\n",
    "                                           ,average='micro'))\n",
    "print(\"Recall Score : \",recall_score(y_mean_test, y_pred, \n",
    "                                           pos_label='positive'\n",
    "                                           ,average='micro'))\n",
    "\n",
    "print(\"Recall Score : \",roc_auc_score(y_mean_test, y_pred))"
   ]
  },
  {
   "cell_type": "code",
   "execution_count": 68,
   "metadata": {
    "colab": {
     "base_uri": "https://localhost:8080/",
     "height": 524
    },
    "id": "dluKi8VN60AW",
    "outputId": "88860b5a-ced6-45e1-e7bd-62289f6382b8"
   },
   "outputs": [
    {
     "name": "stdout",
     "output_type": "stream",
     "text": [
      "Feature: 0, Score: 0.04144\n",
      "Feature: 1, Score: 0.07061\n",
      "Feature: 2, Score: 0.07034\n",
      "Feature: 3, Score: 0.05054\n",
      "Feature: 4, Score: 0.00351\n",
      "Feature: 5, Score: 0.13824\n",
      "Feature: 6, Score: 0.02332\n",
      "Feature: 7, Score: 0.08716\n",
      "Feature: 8, Score: 0.03689\n",
      "Feature: 9, Score: 0.03611\n",
      "Feature: 10, Score: 0.03998\n",
      "Feature: 11, Score: 0.00672\n",
      "Feature: 12, Score: 0.07797\n",
      "Feature: 13, Score: 0.03266\n",
      "Feature: 14, Score: 0.28452\n"
     ]
    },
    {
     "data": {
      "image/png": "[encoded data removed]",
      "text/plain": [
       "<Figure size 432x288 with 1 Axes>"
      ]
     },
     "metadata": {
      "needs_background": "light"
     },
     "output_type": "display_data"
    }
   ],
   "source": [
    "importance = clf.feature_importances_\n",
    "# summarize feature importance\n",
    "for i,v in enumerate(importance):\n",
    "\tprint('Feature: %0d, Score: %.5f' % (i,v))\n",
    "# plot feature importance\n",
    "plt.bar([x for x in range(len(importance))], importance)\n",
    "plt.show()"
   ]
  },
  {
   "cell_type": "markdown",
   "metadata": {
    "id": "mzk7YW2nj-hA"
   },
   "source": [
    "**<h4>K-Fold Cross Validation</h4>**"
   ]
  },
  {
   "cell_type": "code",
   "execution_count": 69,
   "metadata": {
    "id": "nvaim_7zkERK"
   },
   "outputs": [],
   "source": [
    "# clf = RandomForestClassifier()\n",
    "clf = DecisionTreeClassifier()\n",
    "kfold_validation = KFold(5)"
   ]
  },
  {
   "cell_type": "code",
   "execution_count": 70,
   "metadata": {
    "colab": {
     "base_uri": "https://localhost:8080/"
    },
    "id": "-g5QTeSikEv9",
    "outputId": "78999803-2eed-4a92-c297-adbc4d970c93"
   },
   "outputs": [
    {
     "name": "stdout",
     "output_type": "stream",
     "text": [
      "[0.78       0.74333333 0.76666667 0.79666667 0.81      ]\n",
      "0.7793333333333334\n"
     ]
    }
   ],
   "source": [
    "results = cross_val_score(clf,X_mean,y_mean,cv=kfold_validation)\n",
    "print(results)\n",
    "print(np.mean(results))"
   ]
  },
  {
   "cell_type": "markdown",
   "metadata": {
    "id": "ajmUJcy2noYC"
   },
   "source": [
    "\n",
    "**<h2>Implementing Random Forest Algorithm after Imputting with mean of the overall data</h2>**"
   ]
  },
  {
   "cell_type": "code",
   "execution_count": 71,
   "metadata": {
    "colab": {
     "base_uri": "https://localhost:8080/"
    },
    "id": "GG2PKvUino5l",
    "outputId": "b2db88dc-c6ed-4c1e-d714-333cd1728b69"
   },
   "outputs": [
    {
     "data": {
      "text/plain": [
       "RandomForestClassifier()"
      ]
     },
     "execution_count": 71,
     "metadata": {},
     "output_type": "execute_result"
    }
   ],
   "source": [
    "clf = RandomForestClassifier()\n",
    "#Train the model using the training sets\n",
    "clf.fit(x_mean_train, y_mean_train)"
   ]
  },
  {
   "cell_type": "code",
   "execution_count": 72,
   "metadata": {
    "id": "Y5sCTxg1no8-"
   },
   "outputs": [],
   "source": [
    "#Predict the response for test dataset\n",
    "y_pred = clf.predict(x_mean_test)"
   ]
  },
  {
   "cell_type": "code",
   "execution_count": 73,
   "metadata": {
    "colab": {
     "base_uri": "https://localhost:8080/"
    },
    "id": "vu2RBdCknpAr",
    "outputId": "85ed9ea4-19ac-45f5-af01-599004e8c783"
   },
   "outputs": [
    {
     "name": "stdout",
     "output_type": "stream",
     "text": [
      "Accuracy: 0.8866666666666667\n",
      "Precision Score :  0.8866666666666667\n",
      "Recall Score :  0.8866666666666667\n",
      "Recall Score :  0.8881262257086826\n"
     ]
    },
    {
     "name": "stderr",
     "output_type": "stream",
     "text": [
      "C:\\Users\\ASUS\\Anaconda3\\lib\\site-packages\\sklearn\\metrics\\_classification.py:1298: UserWarning: Note that pos_label (set to 'positive') is ignored when average != 'binary' (got 'micro'). You may use labels=[pos_label] to specify a single positive class.\n",
      "  % (pos_label, average), UserWarning)\n",
      "C:\\Users\\ASUS\\Anaconda3\\lib\\site-packages\\sklearn\\metrics\\_classification.py:1298: UserWarning: Note that pos_label (set to 'positive') is ignored when average != 'binary' (got 'micro'). You may use labels=[pos_label] to specify a single positive class.\n",
      "  % (pos_label, average), UserWarning)\n"
     ]
    }
   ],
   "source": [
    "# Model Accuracy: how often is the classifier correct?\n",
    "print(\"Accuracy:\",accuracy_score(y_mean_test, y_pred))\n",
    "\n",
    "print(\"Precision Score : \",precision_score(y_mean_test, y_pred, \n",
    "                                           pos_label='positive'\n",
    "                                           ,average='micro'))\n",
    "print(\"Recall Score : \",recall_score(y_mean_test, y_pred, \n",
    "                                           pos_label='positive'\n",
    "                                           ,average='micro'))\n",
    "\n",
    "print(\"Recall Score : \",roc_auc_score(y_mean_test, y_pred))"
   ]
  },
  {
   "cell_type": "code",
   "execution_count": 74,
   "metadata": {
    "colab": {
     "base_uri": "https://localhost:8080/",
     "height": 520
    },
    "id": "cmtwaAfI7CZs",
    "outputId": "baed7c39-cf26-4ce1-9c75-7d6c22e9f2c0"
   },
   "outputs": [
    {
     "name": "stdout",
     "output_type": "stream",
     "text": [
      "Feature: 0, Score: 0.06578\n",
      "Feature: 1, Score: 0.06320\n",
      "Feature: 2, Score: 0.04140\n",
      "Feature: 3, Score: 0.08466\n",
      "Feature: 4, Score: 0.01639\n",
      "Feature: 5, Score: 0.12890\n",
      "Feature: 6, Score: 0.05182\n",
      "Feature: 7, Score: 0.07479\n",
      "Feature: 8, Score: 0.04841\n",
      "Feature: 9, Score: 0.05538\n",
      "Feature: 10, Score: 0.05985\n",
      "Feature: 11, Score: 0.01907\n",
      "Feature: 12, Score: 0.08608\n",
      "Feature: 13, Score: 0.03903\n",
      "Feature: 14, Score: 0.16525\n"
     ]
    },
    {
     "data": {
      "image/png": "[encoded data removed]",
      "text/plain": [
       "<Figure size 432x288 with 1 Axes>"
      ]
     },
     "metadata": {
      "needs_background": "light"
     },
     "output_type": "display_data"
    }
   ],
   "source": [
    "importance = clf.feature_importances_\n",
    "# summarize feature importance\n",
    "for i,v in enumerate(importance):\n",
    "\tprint('Feature: %0d, Score: %.5f' % (i,v))\n",
    "# plot feature importance\n",
    "plt.bar([x for x in range(len(importance))], importance)\n",
    "plt.show()"
   ]
  },
  {
   "cell_type": "markdown",
   "metadata": {
    "id": "KZFcAG6nopzO"
   },
   "source": [
    "**<h2>K-Fold Cross Validation</h2>**"
   ]
  },
  {
   "cell_type": "code",
   "execution_count": 75,
   "metadata": {
    "id": "YKsA4SHfnpDb"
   },
   "outputs": [],
   "source": [
    "clf = RandomForestClassifier()\n",
    "kfold_validation = KFold(5)"
   ]
  },
  {
   "cell_type": "code",
   "execution_count": 76,
   "metadata": {
    "colab": {
     "base_uri": "https://localhost:8080/"
    },
    "id": "tWaWabNinpHZ",
    "outputId": "d28d3761-7cf3-47ca-e13a-330468e7098a"
   },
   "outputs": [
    {
     "name": "stdout",
     "output_type": "stream",
     "text": [
      "[0.88333333 0.83666667 0.87       0.9        0.86      ]\n",
      "0.8699999999999999\n"
     ]
    }
   ],
   "source": [
    "results = cross_val_score(clf,X_mean,y_mean,cv=kfold_validation)\n",
    "print(results)\n",
    "print(np.mean(results))"
   ]
  },
  {
   "cell_type": "markdown",
   "metadata": {
    "id": "f_pH50isD77G"
   },
   "source": [
    "**<h4>Feature Scaling using standardization</h4>**\n",
    "\n",
    "\n",
    "\n"
   ]
  },
  {
   "cell_type": "code",
   "execution_count": 77,
   "metadata": {
    "id": "Gw-59TYQD8IG"
   },
   "outputs": [],
   "source": [
    "# fit on training data column\n",
    "scale = StandardScaler().fit(x_mean_train)\n",
    "    \n",
    "# transform the training data column\n",
    "x_mean_train_stand = scale.transform(x_mean_train)\n",
    "\n",
    "# transform the testing data column\n",
    "x_mean_test_stand = scale.transform(x_mean_test)"
   ]
  },
  {
   "cell_type": "markdown",
   "metadata": {
    "id": "l8WWLt-cn1sY"
   },
   "source": [
    "\n",
    "\n",
    "\n",
    "\n",
    "**<h2>Implementing Logistic Regression Algorithm after Imputting with mean of the overall data</h2>**\n",
    "\n"
   ]
  },
  {
   "cell_type": "markdown",
   "metadata": {
    "id": "qv546P3zEGaU"
   },
   "source": [
    "**<h4>Feature Selection Using Lasso Regression In Logistic Regression Algorithm</h4>**"
   ]
  },
  {
   "cell_type": "code",
   "execution_count": 78,
   "metadata": {
    "colab": {
     "base_uri": "https://localhost:8080/"
    },
    "id": "rcHtmdWGn2Vu",
    "outputId": "059c7ec7-a664-4083-e15f-a9054a09bb78"
   },
   "outputs": [
    {
     "data": {
      "text/plain": [
       "SelectFromModel(estimator=LogisticRegression(C=0.1, penalty='l1',\n",
       "                                             solver='liblinear'))"
      ]
     },
     "execution_count": 78,
     "metadata": {},
     "output_type": "execute_result"
    }
   ],
   "source": [
    "sel_ = SelectFromModel(LogisticRegression(C=0.1, penalty='l1',solver='liblinear'))\n",
    "sel_.fit(x_mean_train_stand, y_mean_train)\n",
    "\n",
    "\n"
   ]
  },
  {
   "cell_type": "code",
   "execution_count": 79,
   "metadata": {
    "colab": {
     "base_uri": "https://localhost:8080/"
    },
    "id": "_qD2cYZin2Y4",
    "outputId": "e166a1a9-24e6-47ed-a07d-f170729d5e05"
   },
   "outputs": [
    {
     "data": {
      "text/plain": [
       "array([ True,  True,  True,  True,  True,  True, False,  True, False,\n",
       "        True,  True, False,  True,  True,  True])"
      ]
     },
     "execution_count": 79,
     "metadata": {},
     "output_type": "execute_result"
    }
   ],
   "source": [
    "sel_.get_support()\n",
    "\n",
    "\n"
   ]
  },
  {
   "cell_type": "code",
   "execution_count": 80,
   "metadata": {
    "colab": {
     "base_uri": "https://localhost:8080/"
    },
    "id": "orSjSobUn2cg",
    "outputId": "813df663-2886-4214-f09a-2856e630d258"
   },
   "outputs": [
    {
     "name": "stdout",
     "output_type": "stream",
     "text": [
      "total features: 15\n",
      "selected features: 12\n",
      "features with coefficients shrank to zero: 3\n"
     ]
    }
   ],
   "source": [
    "selected_feat = X_mean.columns[(sel_.get_support())]\n",
    "print('total features: {}'.format((x_mean_train_stand.shape[1])))\n",
    "print('selected features: {}'.format(len(selected_feat)))\n",
    "print('features with coefficients shrank to zero: {}'.format(\n",
    "      np.sum(sel_.estimator_.coef_ == 0)))\n",
    "\n"
   ]
  },
  {
   "cell_type": "code",
   "execution_count": 81,
   "metadata": {
    "colab": {
     "base_uri": "https://localhost:8080/"
    },
    "id": "vfbhjTmsn2ee",
    "outputId": "93f3a751-c750-42ee-db2f-953f4386fd0d"
   },
   "outputs": [
    {
     "data": {
      "text/plain": [
       "3"
      ]
     },
     "execution_count": 81,
     "metadata": {},
     "output_type": "execute_result"
    }
   ],
   "source": [
    "np.sum(sel_.estimator_.coef_ == 0)\n",
    "\n",
    "\n"
   ]
  },
  {
   "cell_type": "code",
   "execution_count": 82,
   "metadata": {
    "colab": {
     "base_uri": "https://localhost:8080/"
    },
    "id": "ZSfPHT34n2hH",
    "outputId": "7cd851ae-6317-4842-f869-d612b8841f8e"
   },
   "outputs": [
    {
     "data": {
      "text/plain": [
       "Index(['F7', 'F9', 'F12'], dtype='object')"
      ]
     },
     "execution_count": 82,
     "metadata": {},
     "output_type": "execute_result"
    }
   ],
   "source": [
    "removed_feats = X_mean.columns[(sel_.estimator_.coef_ == 0).ravel().tolist()]\n",
    "removed_feats"
   ]
  },
  {
   "cell_type": "code",
   "execution_count": 83,
   "metadata": {
    "colab": {
     "base_uri": "https://localhost:8080/",
     "height": 204
    },
    "id": "Htg-SK99n2jj",
    "outputId": "24ff33bb-5f66-423b-c4e3-146cbd9ac1cd"
   },
   "outputs": [
    {
     "data": {
      "text/html": [
       "<div>\n",
       "<style scoped>\n",
       "    .dataframe tbody tr th:only-of-type {\n",
       "        vertical-align: middle;\n",
       "    }\n",
       "\n",
       "    .dataframe tbody tr th {\n",
       "        vertical-align: top;\n",
       "    }\n",
       "\n",
       "    .dataframe thead th {\n",
       "        text-align: right;\n",
       "    }\n",
       "</style>\n",
       "<table border=\"1\" class=\"dataframe\">\n",
       "  <thead>\n",
       "    <tr style=\"text-align: right;\">\n",
       "      <th></th>\n",
       "      <th>F1</th>\n",
       "      <th>F2</th>\n",
       "      <th>F3</th>\n",
       "      <th>F4</th>\n",
       "      <th>F5</th>\n",
       "      <th>F6</th>\n",
       "      <th>F8</th>\n",
       "      <th>F10</th>\n",
       "      <th>F11</th>\n",
       "      <th>F13</th>\n",
       "      <th>F14</th>\n",
       "      <th>F15</th>\n",
       "      <th>Class</th>\n",
       "    </tr>\n",
       "  </thead>\n",
       "  <tbody>\n",
       "    <tr>\n",
       "      <td>0</td>\n",
       "      <td>16.77</td>\n",
       "      <td>1.25</td>\n",
       "      <td>1080</td>\n",
       "      <td>4.04</td>\n",
       "      <td>20</td>\n",
       "      <td>30.36</td>\n",
       "      <td>112.86</td>\n",
       "      <td>7.74</td>\n",
       "      <td>-15.70</td>\n",
       "      <td>26.10</td>\n",
       "      <td>-184.14</td>\n",
       "      <td>-7.743013</td>\n",
       "      <td>0</td>\n",
       "    </tr>\n",
       "    <tr>\n",
       "      <td>1</td>\n",
       "      <td>12.45</td>\n",
       "      <td>1.63</td>\n",
       "      <td>156</td>\n",
       "      <td>-6.98</td>\n",
       "      <td>2</td>\n",
       "      <td>21.52</td>\n",
       "      <td>105.86</td>\n",
       "      <td>10.11</td>\n",
       "      <td>-25.06</td>\n",
       "      <td>2.55</td>\n",
       "      <td>-208.14</td>\n",
       "      <td>-7.743013</td>\n",
       "      <td>1</td>\n",
       "    </tr>\n",
       "    <tr>\n",
       "      <td>2</td>\n",
       "      <td>0.06</td>\n",
       "      <td>1.09</td>\n",
       "      <td>855</td>\n",
       "      <td>6.08</td>\n",
       "      <td>20</td>\n",
       "      <td>33.76</td>\n",
       "      <td>262.86</td>\n",
       "      <td>6.01</td>\n",
       "      <td>-14.40</td>\n",
       "      <td>26.25</td>\n",
       "      <td>-394.14</td>\n",
       "      <td>-6.670000</td>\n",
       "      <td>0</td>\n",
       "    </tr>\n",
       "    <tr>\n",
       "      <td>3</td>\n",
       "      <td>1.80</td>\n",
       "      <td>2.04</td>\n",
       "      <td>435</td>\n",
       "      <td>1.72</td>\n",
       "      <td>20</td>\n",
       "      <td>31.96</td>\n",
       "      <td>157.86</td>\n",
       "      <td>6.15</td>\n",
       "      <td>-17.64</td>\n",
       "      <td>17.25</td>\n",
       "      <td>-64.14</td>\n",
       "      <td>-7.743013</td>\n",
       "      <td>0</td>\n",
       "    </tr>\n",
       "    <tr>\n",
       "      <td>4</td>\n",
       "      <td>15.45</td>\n",
       "      <td>1.38</td>\n",
       "      <td>195</td>\n",
       "      <td>-8.70</td>\n",
       "      <td>2</td>\n",
       "      <td>21.10</td>\n",
       "      <td>112.86</td>\n",
       "      <td>10.26</td>\n",
       "      <td>-27.50</td>\n",
       "      <td>2.01</td>\n",
       "      <td>-250.14</td>\n",
       "      <td>-7.743013</td>\n",
       "      <td>1</td>\n",
       "    </tr>\n",
       "  </tbody>\n",
       "</table>\n",
       "</div>"
      ],
      "text/plain": [
       "      F1    F2    F3    F4  F5     F6      F8    F10    F11    F13     F14  \\\n",
       "0  16.77  1.25  1080  4.04  20  30.36  112.86   7.74 -15.70  26.10 -184.14   \n",
       "1  12.45  1.63   156 -6.98   2  21.52  105.86  10.11 -25.06   2.55 -208.14   \n",
       "2   0.06  1.09   855  6.08  20  33.76  262.86   6.01 -14.40  26.25 -394.14   \n",
       "3   1.80  2.04   435  1.72  20  31.96  157.86   6.15 -17.64  17.25  -64.14   \n",
       "4  15.45  1.38   195 -8.70   2  21.10  112.86  10.26 -27.50   2.01 -250.14   \n",
       "\n",
       "        F15  Class  \n",
       "0 -7.743013      0  \n",
       "1 -7.743013      1  \n",
       "2 -6.670000      0  \n",
       "3 -7.743013      0  \n",
       "4 -7.743013      1  "
      ]
     },
     "execution_count": 83,
     "metadata": {},
     "output_type": "execute_result"
    }
   ],
   "source": [
    "dropped_data_with_overall_mean_lr = data_with_overall_mean.drop(removed_feats.tolist(),axis=1)\n",
    "dropped_data_with_overall_mean_lr.head()"
   ]
  },
  {
   "cell_type": "code",
   "execution_count": 84,
   "metadata": {
    "colab": {
     "base_uri": "https://localhost:8080/"
    },
    "id": "_T9NU4vc3kHV",
    "outputId": "4d2cb15b-a3e1-4c46-a790-312ffb9e0104"
   },
   "outputs": [
    {
     "name": "stdout",
     "output_type": "stream",
     "text": [
      "1500\n"
     ]
    }
   ],
   "source": [
    "X_mean_lr = dropped_data_with_overall_mean_lr.iloc[:,:-1]\n",
    "y_mean_lr = dropped_data_with_overall_mean_lr.iloc[:,-1]\n",
    "print(len(X))\n",
    "\n",
    "\n"
   ]
  },
  {
   "cell_type": "code",
   "execution_count": 85,
   "metadata": {
    "id": "E1yhymUo3kKI"
   },
   "outputs": [],
   "source": [
    "x_mean_lr_train,x_mean_lr_test,y_mean_lr_train,y_mean_lr_test = train_test_split(X_mean_lr,y_mean_lr,test_size=0.2,random_state=42)\n",
    "\n",
    "\n"
   ]
  },
  {
   "cell_type": "code",
   "execution_count": 86,
   "metadata": {
    "id": "67Yrwl0p3kMV"
   },
   "outputs": [],
   "source": [
    "# fit on training data column\n",
    "scale = StandardScaler().fit(x_mean_lr_train)\n",
    "    \n",
    "# transform the training data column\n",
    "x_mean_lr_train_stand = scale.transform(x_mean_lr_train)\n",
    "\n",
    "# transform the testing data column\n",
    "x_mean_lr_test_stand = scale.transform(x_mean_lr_test)\n",
    "\n",
    "X_mean_lr_stand = scale.transform(X_mean_lr)\n",
    "\n",
    "\n",
    "\n"
   ]
  },
  {
   "cell_type": "code",
   "execution_count": 87,
   "metadata": {
    "colab": {
     "base_uri": "https://localhost:8080/"
    },
    "id": "rnIjmcqb3kO8",
    "outputId": "d1c94feb-bee1-4278-84ea-33f3424cfedf"
   },
   "outputs": [
    {
     "data": {
      "text/plain": [
       "LogisticRegression()"
      ]
     },
     "execution_count": 87,
     "metadata": {},
     "output_type": "execute_result"
    }
   ],
   "source": [
    "clf = LogisticRegression()\n",
    "#Train the model using the training sets\n",
    "clf.fit(x_mean_lr_train_stand, y_mean_lr_train)\n",
    "\n",
    "\n",
    "\n"
   ]
  },
  {
   "cell_type": "code",
   "execution_count": 88,
   "metadata": {
    "id": "NSCbGDJ_3kQ7"
   },
   "outputs": [],
   "source": [
    "#Predict the response for test dataset\n",
    "y_pred = clf.predict(x_mean_lr_test_stand)\n",
    "\n",
    "\n",
    "\n"
   ]
  },
  {
   "cell_type": "code",
   "execution_count": 89,
   "metadata": {
    "colab": {
     "base_uri": "https://localhost:8080/"
    },
    "id": "jHv1Lxmi3kTo",
    "outputId": "88ddb89d-2552-46c0-f5ea-728dde5d15fe"
   },
   "outputs": [
    {
     "name": "stdout",
     "output_type": "stream",
     "text": [
      "Accuracy: 0.86\n",
      "Precision Score :  0.86\n",
      "Recall Score :  0.86\n",
      "Recall Score :  0.8592440720270993\n"
     ]
    },
    {
     "name": "stderr",
     "output_type": "stream",
     "text": [
      "C:\\Users\\ASUS\\Anaconda3\\lib\\site-packages\\sklearn\\metrics\\_classification.py:1298: UserWarning: Note that pos_label (set to 'positive') is ignored when average != 'binary' (got 'micro'). You may use labels=[pos_label] to specify a single positive class.\n",
      "  % (pos_label, average), UserWarning)\n",
      "C:\\Users\\ASUS\\Anaconda3\\lib\\site-packages\\sklearn\\metrics\\_classification.py:1298: UserWarning: Note that pos_label (set to 'positive') is ignored when average != 'binary' (got 'micro'). You may use labels=[pos_label] to specify a single positive class.\n",
      "  % (pos_label, average), UserWarning)\n"
     ]
    }
   ],
   "source": [
    "# Model Accuracy: how often is the classifier correct?\n",
    "print(\"Accuracy:\",accuracy_score(y_mean_lr_test, y_pred))\n",
    "\n",
    "print(\"Precision Score : \",precision_score(y_mean_lr_test, y_pred, \n",
    "                                           pos_label='positive'\n",
    "                                           ,average='micro'))\n",
    "print(\"Recall Score : \",recall_score(y_mean_lr_test, y_pred, \n",
    "                                           pos_label='positive'\n",
    "                                           ,average='micro'))\n",
    "\n",
    "print(\"Recall Score : \",roc_auc_score(y_mean_lr_test, y_pred))\n",
    "\n",
    "\n",
    "\n"
   ]
  },
  {
   "cell_type": "markdown",
   "metadata": {
    "id": "E0LSOz1MXmhb"
   },
   "source": [
    "**<h4>K-Fold Cross Validation</h4>**"
   ]
  },
  {
   "cell_type": "code",
   "execution_count": 90,
   "metadata": {
    "id": "9h-UDuYR3kWQ"
   },
   "outputs": [],
   "source": [
    "clf = LogisticRegression()\n",
    "kfold_validation = KFold(5)\n"
   ]
  },
  {
   "cell_type": "code",
   "execution_count": 91,
   "metadata": {
    "colab": {
     "base_uri": "https://localhost:8080/"
    },
    "id": "BOdf94yy3kaS",
    "outputId": "721d9424-5bd1-495e-d8dd-0a88ee2899f7"
   },
   "outputs": [
    {
     "name": "stdout",
     "output_type": "stream",
     "text": [
      "[0.89666667 0.83       0.82333333 0.85666667 0.80666667]\n",
      "0.8426666666666666\n"
     ]
    }
   ],
   "source": [
    "results = cross_val_score(clf,X_mean_lr_stand,y_mean_lr,cv=kfold_validation,n_jobs=5)\n",
    "print(results)\n",
    "print(np.mean(results))"
   ]
  },
  {
   "cell_type": "markdown",
   "metadata": {
    "id": "vRTgcyXEXj9J"
   },
   "source": [
    "**<h2>Implementing Support Vector Machine Algorithm after Imputting with mean of the overall data</h2>**\n",
    "\n",
    "**<h4>Feature Selection Using Lasso Regression In Support Vector Machine Algorithm</h4>**"
   ]
  },
  {
   "cell_type": "code",
   "execution_count": 92,
   "metadata": {
    "colab": {
     "base_uri": "https://localhost:8080/"
    },
    "id": "tLHTEbxan2tU",
    "outputId": "c5356ccd-a36a-4bf9-fc08-52b341470cd0"
   },
   "outputs": [
    {
     "name": "stderr",
     "output_type": "stream",
     "text": [
      "C:\\Users\\ASUS\\Anaconda3\\lib\\site-packages\\sklearn\\svm\\_base.py:986: ConvergenceWarning: Liblinear failed to converge, increase the number of iterations.\n",
      "  \"the number of iterations.\", ConvergenceWarning)\n"
     ]
    },
    {
     "data": {
      "text/plain": [
       "SelectFromModel(estimator=LinearSVC(C=0.1, dual=False, penalty='l1'))"
      ]
     },
     "execution_count": 92,
     "metadata": {},
     "output_type": "execute_result"
    }
   ],
   "source": [
    "sel_ = SelectFromModel(LinearSVC(C=0.1, penalty='l1',dual=False))\n",
    "sel_.fit(x_mean_train_stand, y_mean_train)"
   ]
  },
  {
   "cell_type": "code",
   "execution_count": 93,
   "metadata": {
    "colab": {
     "base_uri": "https://localhost:8080/"
    },
    "id": "ff4L5ah8YEXa",
    "outputId": "aeb2007e-f054-4bf9-98b9-bbbbf683ad97"
   },
   "outputs": [
    {
     "data": {
      "text/plain": [
       "array([ True,  True,  True,  True,  True,  True,  True,  True,  True,\n",
       "        True,  True,  True,  True,  True,  True])"
      ]
     },
     "execution_count": 93,
     "metadata": {},
     "output_type": "execute_result"
    }
   ],
   "source": [
    "sel_.get_support()"
   ]
  },
  {
   "cell_type": "code",
   "execution_count": 94,
   "metadata": {
    "colab": {
     "base_uri": "https://localhost:8080/"
    },
    "id": "ziALWNeOYEbD",
    "outputId": "0db00e76-7aa3-4449-c282-79e4ddf8812c"
   },
   "outputs": [
    {
     "name": "stdout",
     "output_type": "stream",
     "text": [
      "total features: 15\n",
      "selected features: 15\n",
      "features with coefficients shrank to zero: 0\n"
     ]
    }
   ],
   "source": [
    "selected_feat = X_mean.columns[(sel_.get_support())]\n",
    "print('total features: {}'.format((x_mean_train_stand.shape[1])))\n",
    "print('selected features: {}'.format(len(selected_feat)))\n",
    "print('features with coefficients shrank to zero: {}'.format(\n",
    "      np.sum(sel_.estimator_.coef_ == 0)))\n"
   ]
  },
  {
   "cell_type": "code",
   "execution_count": 95,
   "metadata": {
    "colab": {
     "base_uri": "https://localhost:8080/"
    },
    "id": "QE9cJweSYEeO",
    "outputId": "bdc1cb7d-5712-44d4-acd5-ef647936db78"
   },
   "outputs": [
    {
     "data": {
      "text/plain": [
       "0"
      ]
     },
     "execution_count": 95,
     "metadata": {},
     "output_type": "execute_result"
    }
   ],
   "source": [
    "np.sum(sel_.estimator_.coef_ == 0)"
   ]
  },
  {
   "cell_type": "code",
   "execution_count": 96,
   "metadata": {
    "colab": {
     "base_uri": "https://localhost:8080/"
    },
    "id": "Fj4F9SZ8YEhm",
    "outputId": "cefa912b-447a-4d76-b264-f2dc8dba6f2d"
   },
   "outputs": [
    {
     "data": {
      "text/plain": [
       "Index([], dtype='object')"
      ]
     },
     "execution_count": 96,
     "metadata": {},
     "output_type": "execute_result"
    }
   ],
   "source": [
    "removed_feats = X_mean.columns[(sel_.estimator_.coef_ == 0).ravel().tolist()]\n",
    "removed_feats"
   ]
  },
  {
   "cell_type": "code",
   "execution_count": 97,
   "metadata": {
    "colab": {
     "base_uri": "https://localhost:8080/",
     "height": 204
    },
    "id": "-Nzc0w7-YEkp",
    "outputId": "ab9ce8e2-cc0a-483e-9035-6d57215d0adc"
   },
   "outputs": [
    {
     "data": {
      "text/html": [
       "<div>\n",
       "<style scoped>\n",
       "    .dataframe tbody tr th:only-of-type {\n",
       "        vertical-align: middle;\n",
       "    }\n",
       "\n",
       "    .dataframe tbody tr th {\n",
       "        vertical-align: top;\n",
       "    }\n",
       "\n",
       "    .dataframe thead th {\n",
       "        text-align: right;\n",
       "    }\n",
       "</style>\n",
       "<table border=\"1\" class=\"dataframe\">\n",
       "  <thead>\n",
       "    <tr style=\"text-align: right;\">\n",
       "      <th></th>\n",
       "      <th>F1</th>\n",
       "      <th>F2</th>\n",
       "      <th>F3</th>\n",
       "      <th>F4</th>\n",
       "      <th>F5</th>\n",
       "      <th>F6</th>\n",
       "      <th>F7</th>\n",
       "      <th>F8</th>\n",
       "      <th>F9</th>\n",
       "      <th>F10</th>\n",
       "      <th>F11</th>\n",
       "      <th>F12</th>\n",
       "      <th>F13</th>\n",
       "      <th>F14</th>\n",
       "      <th>F15</th>\n",
       "      <th>Class</th>\n",
       "    </tr>\n",
       "  </thead>\n",
       "  <tbody>\n",
       "    <tr>\n",
       "      <td>0</td>\n",
       "      <td>16.77</td>\n",
       "      <td>1.25</td>\n",
       "      <td>1080</td>\n",
       "      <td>4.04</td>\n",
       "      <td>20</td>\n",
       "      <td>30.36</td>\n",
       "      <td>-7.24</td>\n",
       "      <td>112.86</td>\n",
       "      <td>9.00</td>\n",
       "      <td>7.74</td>\n",
       "      <td>-15.70</td>\n",
       "      <td>-36.32</td>\n",
       "      <td>26.10</td>\n",
       "      <td>-184.14</td>\n",
       "      <td>-7.743013</td>\n",
       "      <td>0</td>\n",
       "    </tr>\n",
       "    <tr>\n",
       "      <td>1</td>\n",
       "      <td>12.45</td>\n",
       "      <td>1.63</td>\n",
       "      <td>156</td>\n",
       "      <td>-6.98</td>\n",
       "      <td>2</td>\n",
       "      <td>21.52</td>\n",
       "      <td>1.20</td>\n",
       "      <td>105.86</td>\n",
       "      <td>0.43</td>\n",
       "      <td>10.11</td>\n",
       "      <td>-25.06</td>\n",
       "      <td>-23.32</td>\n",
       "      <td>2.55</td>\n",
       "      <td>-208.14</td>\n",
       "      <td>-7.743013</td>\n",
       "      <td>1</td>\n",
       "    </tr>\n",
       "    <tr>\n",
       "      <td>2</td>\n",
       "      <td>0.06</td>\n",
       "      <td>1.09</td>\n",
       "      <td>855</td>\n",
       "      <td>6.08</td>\n",
       "      <td>20</td>\n",
       "      <td>33.76</td>\n",
       "      <td>-9.06</td>\n",
       "      <td>262.86</td>\n",
       "      <td>9.15</td>\n",
       "      <td>6.01</td>\n",
       "      <td>-14.40</td>\n",
       "      <td>-36.32</td>\n",
       "      <td>26.25</td>\n",
       "      <td>-394.14</td>\n",
       "      <td>-6.670000</td>\n",
       "      <td>0</td>\n",
       "    </tr>\n",
       "    <tr>\n",
       "      <td>3</td>\n",
       "      <td>1.80</td>\n",
       "      <td>2.04</td>\n",
       "      <td>435</td>\n",
       "      <td>1.72</td>\n",
       "      <td>20</td>\n",
       "      <td>31.96</td>\n",
       "      <td>-8.30</td>\n",
       "      <td>157.86</td>\n",
       "      <td>5.35</td>\n",
       "      <td>6.15</td>\n",
       "      <td>-17.64</td>\n",
       "      <td>-36.32</td>\n",
       "      <td>17.25</td>\n",
       "      <td>-64.14</td>\n",
       "      <td>-7.743013</td>\n",
       "      <td>0</td>\n",
       "    </tr>\n",
       "    <tr>\n",
       "      <td>4</td>\n",
       "      <td>15.45</td>\n",
       "      <td>1.38</td>\n",
       "      <td>195</td>\n",
       "      <td>-8.70</td>\n",
       "      <td>2</td>\n",
       "      <td>21.10</td>\n",
       "      <td>-0.06</td>\n",
       "      <td>112.86</td>\n",
       "      <td>1.37</td>\n",
       "      <td>10.26</td>\n",
       "      <td>-27.50</td>\n",
       "      <td>-23.32</td>\n",
       "      <td>2.01</td>\n",
       "      <td>-250.14</td>\n",
       "      <td>-7.743013</td>\n",
       "      <td>1</td>\n",
       "    </tr>\n",
       "  </tbody>\n",
       "</table>\n",
       "</div>"
      ],
      "text/plain": [
       "      F1    F2    F3    F4  F5     F6    F7      F8    F9    F10    F11  \\\n",
       "0  16.77  1.25  1080  4.04  20  30.36 -7.24  112.86  9.00   7.74 -15.70   \n",
       "1  12.45  1.63   156 -6.98   2  21.52  1.20  105.86  0.43  10.11 -25.06   \n",
       "2   0.06  1.09   855  6.08  20  33.76 -9.06  262.86  9.15   6.01 -14.40   \n",
       "3   1.80  2.04   435  1.72  20  31.96 -8.30  157.86  5.35   6.15 -17.64   \n",
       "4  15.45  1.38   195 -8.70   2  21.10 -0.06  112.86  1.37  10.26 -27.50   \n",
       "\n",
       "     F12    F13     F14       F15  Class  \n",
       "0 -36.32  26.10 -184.14 -7.743013      0  \n",
       "1 -23.32   2.55 -208.14 -7.743013      1  \n",
       "2 -36.32  26.25 -394.14 -6.670000      0  \n",
       "3 -36.32  17.25  -64.14 -7.743013      0  \n",
       "4 -23.32   2.01 -250.14 -7.743013      1  "
      ]
     },
     "execution_count": 97,
     "metadata": {},
     "output_type": "execute_result"
    }
   ],
   "source": [
    "dropped_data_with_overall_mean_svm = data_with_overall_mean.drop(removed_feats.tolist(),axis=1)\n",
    "dropped_data_with_overall_mean_svm.head()"
   ]
  },
  {
   "cell_type": "code",
   "execution_count": 98,
   "metadata": {
    "colab": {
     "base_uri": "https://localhost:8080/"
    },
    "id": "Di9wFRaTYFJB",
    "outputId": "73597fa9-4203-40e2-8349-9f742558c48e"
   },
   "outputs": [
    {
     "name": "stdout",
     "output_type": "stream",
     "text": [
      "1500\n"
     ]
    }
   ],
   "source": [
    "X_mean_svm = dropped_data_with_overall_mean_svm.iloc[:,:-1]\n",
    "y_mean_svm = dropped_data_with_overall_mean_svm.iloc[:,-1]\n",
    "print(len(X_mean_svm))"
   ]
  },
  {
   "cell_type": "code",
   "execution_count": 99,
   "metadata": {
    "id": "e3FbXZZue0zE"
   },
   "outputs": [],
   "source": [
    "x_mean_svm_train,x_mean_svm_test,y_mean_svm_train,y_mean_svm_test = train_test_split(X_mean_svm,y_mean_svm,test_size=0.2,random_state=42)"
   ]
  },
  {
   "cell_type": "code",
   "execution_count": 100,
   "metadata": {
    "id": "_en0pUWGe02x"
   },
   "outputs": [],
   "source": [
    "# fit on training data column\n",
    "scale = StandardScaler().fit(x_mean_svm_train)\n",
    "    \n",
    "# transform the training data column\n",
    "x_mean_svm_train_stand = scale.transform(x_mean_svm_train)\n",
    "\n",
    "# transform the testing data column\n",
    "x_mean_svm_test_stand = scale.transform(x_mean_svm_test)\n",
    "\n",
    "X_mean_svm_stand = scale.transform(X_mean_svm)\n",
    "\n",
    "\n"
   ]
  },
  {
   "cell_type": "code",
   "execution_count": 101,
   "metadata": {
    "colab": {
     "base_uri": "https://localhost:8080/"
    },
    "id": "Pev-J7ALe06L",
    "outputId": "a3f05de3-a5e7-4db0-88aa-107c92439363"
   },
   "outputs": [
    {
     "data": {
      "text/plain": [
       "SVC(kernel='linear')"
      ]
     },
     "execution_count": 101,
     "metadata": {},
     "output_type": "execute_result"
    }
   ],
   "source": [
    "clf = SVC(kernel='linear')\n",
    "#Train the model using the training sets\n",
    "clf.fit(x_mean_svm_train_stand, y_mean_svm_train)\n"
   ]
  },
  {
   "cell_type": "code",
   "execution_count": 102,
   "metadata": {
    "id": "V_bD1h7ze09j"
   },
   "outputs": [],
   "source": [
    "#Predict the response for test dataset\n",
    "y_pred = clf.predict(x_mean_svm_test_stand)"
   ]
  },
  {
   "cell_type": "code",
   "execution_count": 103,
   "metadata": {
    "colab": {
     "base_uri": "https://localhost:8080/"
    },
    "id": "vJcHGVqXe1A2",
    "outputId": "59186bae-8f03-4b78-9a4b-aaefdb3792ce"
   },
   "outputs": [
    {
     "name": "stdout",
     "output_type": "stream",
     "text": [
      "Accuracy: 0.8766666666666667\n",
      "Precision Score :  0.8766666666666667\n",
      "Recall Score :  0.8766666666666667\n",
      "Recall Score :  0.8764931360313781\n"
     ]
    },
    {
     "name": "stderr",
     "output_type": "stream",
     "text": [
      "C:\\Users\\ASUS\\Anaconda3\\lib\\site-packages\\sklearn\\metrics\\_classification.py:1298: UserWarning: Note that pos_label (set to 'positive') is ignored when average != 'binary' (got 'micro'). You may use labels=[pos_label] to specify a single positive class.\n",
      "  % (pos_label, average), UserWarning)\n",
      "C:\\Users\\ASUS\\Anaconda3\\lib\\site-packages\\sklearn\\metrics\\_classification.py:1298: UserWarning: Note that pos_label (set to 'positive') is ignored when average != 'binary' (got 'micro'). You may use labels=[pos_label] to specify a single positive class.\n",
      "  % (pos_label, average), UserWarning)\n"
     ]
    }
   ],
   "source": [
    "# Model Accuracy: how often is the classifier correct?\n",
    "print(\"Accuracy:\",accuracy_score(y_mean_svm_test, y_pred))\n",
    "\n",
    "print(\"Precision Score : \",precision_score(y_mean_svm_test, y_pred, \n",
    "                                           pos_label='positive'\n",
    "                                           ,average='micro'))\n",
    "print(\"Recall Score : \",recall_score(y_mean_svm_test, y_pred, \n",
    "                                           pos_label='positive'\n",
    "                                           ,average='micro'))\n",
    "\n",
    "print(\"Recall Score : \",roc_auc_score(y_mean_svm_test, y_pred))\n",
    "\n",
    "\n",
    "\n"
   ]
  },
  {
   "cell_type": "markdown",
   "metadata": {
    "id": "xuFLNXNQfJND"
   },
   "source": [
    "**<h4>K-Fold Cross Validation</h4>**"
   ]
  },
  {
   "cell_type": "code",
   "execution_count": 104,
   "metadata": {
    "id": "WPxXIOrHe1Dr"
   },
   "outputs": [],
   "source": [
    "clf = SVC(kernel='linear')\n",
    "kfold_validation = KFold(5)\n",
    "\n",
    "\n"
   ]
  },
  {
   "cell_type": "code",
   "execution_count": 105,
   "metadata": {
    "colab": {
     "base_uri": "https://localhost:8080/"
    },
    "id": "EYF8nxVgfFdk",
    "outputId": "d4aa11f8-8cfe-469d-b37f-e57016857871"
   },
   "outputs": [
    {
     "name": "stdout",
     "output_type": "stream",
     "text": [
      "[0.89666667 0.83666667 0.83       0.87333333 0.84      ]\n",
      "0.8553333333333333\n"
     ]
    }
   ],
   "source": [
    "results = cross_val_score(clf,X_mean_svm_stand,y_mean_svm,cv=kfold_validation,n_jobs=5)\n",
    "print(results)\n",
    "print(np.mean(results))"
   ]
  },
  {
   "cell_type": "markdown",
   "metadata": {
    "id": "66Fc91OK4hDi"
   },
   "source": [
    "**<h2>Inputting missing values in column 'F15' with median of the overall data</h2>**"
   ]
  },
  {
   "cell_type": "code",
   "execution_count": 106,
   "metadata": {
    "colab": {
     "base_uri": "https://localhost:8080/",
     "height": 204
    },
    "id": "Ty0AY7E14OKa",
    "outputId": "0ebca1d1-4b65-48d4-8794-c3ebc3e4a34a"
   },
   "outputs": [
    {
     "data": {
      "text/html": [
       "<div>\n",
       "<style scoped>\n",
       "    .dataframe tbody tr th:only-of-type {\n",
       "        vertical-align: middle;\n",
       "    }\n",
       "\n",
       "    .dataframe tbody tr th {\n",
       "        vertical-align: top;\n",
       "    }\n",
       "\n",
       "    .dataframe thead th {\n",
       "        text-align: right;\n",
       "    }\n",
       "</style>\n",
       "<table border=\"1\" class=\"dataframe\">\n",
       "  <thead>\n",
       "    <tr style=\"text-align: right;\">\n",
       "      <th></th>\n",
       "      <th>F1</th>\n",
       "      <th>F2</th>\n",
       "      <th>F3</th>\n",
       "      <th>F4</th>\n",
       "      <th>F5</th>\n",
       "      <th>F6</th>\n",
       "      <th>F7</th>\n",
       "      <th>F8</th>\n",
       "      <th>F9</th>\n",
       "      <th>F10</th>\n",
       "      <th>F11</th>\n",
       "      <th>F12</th>\n",
       "      <th>F13</th>\n",
       "      <th>F14</th>\n",
       "      <th>F15</th>\n",
       "      <th>Class</th>\n",
       "    </tr>\n",
       "  </thead>\n",
       "  <tbody>\n",
       "    <tr>\n",
       "      <td>0</td>\n",
       "      <td>16.77</td>\n",
       "      <td>1.25</td>\n",
       "      <td>1080</td>\n",
       "      <td>4.04</td>\n",
       "      <td>20</td>\n",
       "      <td>30.36</td>\n",
       "      <td>-7.24</td>\n",
       "      <td>112.86</td>\n",
       "      <td>9.00</td>\n",
       "      <td>7.74</td>\n",
       "      <td>-15.70</td>\n",
       "      <td>-36.32</td>\n",
       "      <td>26.10</td>\n",
       "      <td>-184.14</td>\n",
       "      <td>NaN</td>\n",
       "      <td>False</td>\n",
       "    </tr>\n",
       "    <tr>\n",
       "      <td>1</td>\n",
       "      <td>12.45</td>\n",
       "      <td>1.63</td>\n",
       "      <td>156</td>\n",
       "      <td>-6.98</td>\n",
       "      <td>2</td>\n",
       "      <td>21.52</td>\n",
       "      <td>1.20</td>\n",
       "      <td>105.86</td>\n",
       "      <td>0.43</td>\n",
       "      <td>10.11</td>\n",
       "      <td>-25.06</td>\n",
       "      <td>-23.32</td>\n",
       "      <td>2.55</td>\n",
       "      <td>-208.14</td>\n",
       "      <td>NaN</td>\n",
       "      <td>True</td>\n",
       "    </tr>\n",
       "    <tr>\n",
       "      <td>2</td>\n",
       "      <td>0.06</td>\n",
       "      <td>1.09</td>\n",
       "      <td>855</td>\n",
       "      <td>6.08</td>\n",
       "      <td>20</td>\n",
       "      <td>33.76</td>\n",
       "      <td>-9.06</td>\n",
       "      <td>262.86</td>\n",
       "      <td>9.15</td>\n",
       "      <td>6.01</td>\n",
       "      <td>-14.40</td>\n",
       "      <td>-36.32</td>\n",
       "      <td>26.25</td>\n",
       "      <td>-394.14</td>\n",
       "      <td>-6.67</td>\n",
       "      <td>False</td>\n",
       "    </tr>\n",
       "    <tr>\n",
       "      <td>3</td>\n",
       "      <td>1.80</td>\n",
       "      <td>2.04</td>\n",
       "      <td>435</td>\n",
       "      <td>1.72</td>\n",
       "      <td>20</td>\n",
       "      <td>31.96</td>\n",
       "      <td>-8.30</td>\n",
       "      <td>157.86</td>\n",
       "      <td>5.35</td>\n",
       "      <td>6.15</td>\n",
       "      <td>-17.64</td>\n",
       "      <td>-36.32</td>\n",
       "      <td>17.25</td>\n",
       "      <td>-64.14</td>\n",
       "      <td>NaN</td>\n",
       "      <td>False</td>\n",
       "    </tr>\n",
       "    <tr>\n",
       "      <td>4</td>\n",
       "      <td>15.45</td>\n",
       "      <td>1.38</td>\n",
       "      <td>195</td>\n",
       "      <td>-8.70</td>\n",
       "      <td>2</td>\n",
       "      <td>21.10</td>\n",
       "      <td>-0.06</td>\n",
       "      <td>112.86</td>\n",
       "      <td>1.37</td>\n",
       "      <td>10.26</td>\n",
       "      <td>-27.50</td>\n",
       "      <td>-23.32</td>\n",
       "      <td>2.01</td>\n",
       "      <td>-250.14</td>\n",
       "      <td>NaN</td>\n",
       "      <td>True</td>\n",
       "    </tr>\n",
       "  </tbody>\n",
       "</table>\n",
       "</div>"
      ],
      "text/plain": [
       "      F1    F2    F3    F4  F5     F6    F7      F8    F9    F10    F11  \\\n",
       "0  16.77  1.25  1080  4.04  20  30.36 -7.24  112.86  9.00   7.74 -15.70   \n",
       "1  12.45  1.63   156 -6.98   2  21.52  1.20  105.86  0.43  10.11 -25.06   \n",
       "2   0.06  1.09   855  6.08  20  33.76 -9.06  262.86  9.15   6.01 -14.40   \n",
       "3   1.80  2.04   435  1.72  20  31.96 -8.30  157.86  5.35   6.15 -17.64   \n",
       "4  15.45  1.38   195 -8.70   2  21.10 -0.06  112.86  1.37  10.26 -27.50   \n",
       "\n",
       "     F12    F13     F14   F15  Class  \n",
       "0 -36.32  26.10 -184.14   NaN  False  \n",
       "1 -23.32   2.55 -208.14   NaN   True  \n",
       "2 -36.32  26.25 -394.14 -6.67  False  \n",
       "3 -36.32  17.25  -64.14   NaN  False  \n",
       "4 -23.32   2.01 -250.14   NaN   True  "
      ]
     },
     "execution_count": 106,
     "metadata": {},
     "output_type": "execute_result"
    }
   ],
   "source": [
    "data_with_overall_median = data.copy()\n",
    "data_with_overall_median.head()"
   ]
  },
  {
   "cell_type": "code",
   "execution_count": 107,
   "metadata": {
    "colab": {
     "base_uri": "https://localhost:8080/",
     "height": 204
    },
    "id": "tjCapzz94tKF",
    "outputId": "20f0c3a0-3be3-4be0-b58d-b3fb3f7b271c"
   },
   "outputs": [
    {
     "data": {
      "text/html": [
       "<div>\n",
       "<style scoped>\n",
       "    .dataframe tbody tr th:only-of-type {\n",
       "        vertical-align: middle;\n",
       "    }\n",
       "\n",
       "    .dataframe tbody tr th {\n",
       "        vertical-align: top;\n",
       "    }\n",
       "\n",
       "    .dataframe thead th {\n",
       "        text-align: right;\n",
       "    }\n",
       "</style>\n",
       "<table border=\"1\" class=\"dataframe\">\n",
       "  <thead>\n",
       "    <tr style=\"text-align: right;\">\n",
       "      <th></th>\n",
       "      <th>F1</th>\n",
       "      <th>F2</th>\n",
       "      <th>F3</th>\n",
       "      <th>F4</th>\n",
       "      <th>F5</th>\n",
       "      <th>F6</th>\n",
       "      <th>F7</th>\n",
       "      <th>F8</th>\n",
       "      <th>F9</th>\n",
       "      <th>F10</th>\n",
       "      <th>F11</th>\n",
       "      <th>F12</th>\n",
       "      <th>F13</th>\n",
       "      <th>F14</th>\n",
       "      <th>F15</th>\n",
       "      <th>Class</th>\n",
       "    </tr>\n",
       "  </thead>\n",
       "  <tbody>\n",
       "    <tr>\n",
       "      <td>0</td>\n",
       "      <td>16.77</td>\n",
       "      <td>1.25</td>\n",
       "      <td>1080</td>\n",
       "      <td>4.04</td>\n",
       "      <td>20</td>\n",
       "      <td>30.36</td>\n",
       "      <td>-7.24</td>\n",
       "      <td>112.86</td>\n",
       "      <td>9.00</td>\n",
       "      <td>7.74</td>\n",
       "      <td>-15.70</td>\n",
       "      <td>-36.32</td>\n",
       "      <td>26.10</td>\n",
       "      <td>-184.14</td>\n",
       "      <td>-7.75</td>\n",
       "      <td>False</td>\n",
       "    </tr>\n",
       "    <tr>\n",
       "      <td>1</td>\n",
       "      <td>12.45</td>\n",
       "      <td>1.63</td>\n",
       "      <td>156</td>\n",
       "      <td>-6.98</td>\n",
       "      <td>2</td>\n",
       "      <td>21.52</td>\n",
       "      <td>1.20</td>\n",
       "      <td>105.86</td>\n",
       "      <td>0.43</td>\n",
       "      <td>10.11</td>\n",
       "      <td>-25.06</td>\n",
       "      <td>-23.32</td>\n",
       "      <td>2.55</td>\n",
       "      <td>-208.14</td>\n",
       "      <td>-7.75</td>\n",
       "      <td>True</td>\n",
       "    </tr>\n",
       "    <tr>\n",
       "      <td>2</td>\n",
       "      <td>0.06</td>\n",
       "      <td>1.09</td>\n",
       "      <td>855</td>\n",
       "      <td>6.08</td>\n",
       "      <td>20</td>\n",
       "      <td>33.76</td>\n",
       "      <td>-9.06</td>\n",
       "      <td>262.86</td>\n",
       "      <td>9.15</td>\n",
       "      <td>6.01</td>\n",
       "      <td>-14.40</td>\n",
       "      <td>-36.32</td>\n",
       "      <td>26.25</td>\n",
       "      <td>-394.14</td>\n",
       "      <td>-6.67</td>\n",
       "      <td>False</td>\n",
       "    </tr>\n",
       "    <tr>\n",
       "      <td>3</td>\n",
       "      <td>1.80</td>\n",
       "      <td>2.04</td>\n",
       "      <td>435</td>\n",
       "      <td>1.72</td>\n",
       "      <td>20</td>\n",
       "      <td>31.96</td>\n",
       "      <td>-8.30</td>\n",
       "      <td>157.86</td>\n",
       "      <td>5.35</td>\n",
       "      <td>6.15</td>\n",
       "      <td>-17.64</td>\n",
       "      <td>-36.32</td>\n",
       "      <td>17.25</td>\n",
       "      <td>-64.14</td>\n",
       "      <td>-7.75</td>\n",
       "      <td>False</td>\n",
       "    </tr>\n",
       "    <tr>\n",
       "      <td>4</td>\n",
       "      <td>15.45</td>\n",
       "      <td>1.38</td>\n",
       "      <td>195</td>\n",
       "      <td>-8.70</td>\n",
       "      <td>2</td>\n",
       "      <td>21.10</td>\n",
       "      <td>-0.06</td>\n",
       "      <td>112.86</td>\n",
       "      <td>1.37</td>\n",
       "      <td>10.26</td>\n",
       "      <td>-27.50</td>\n",
       "      <td>-23.32</td>\n",
       "      <td>2.01</td>\n",
       "      <td>-250.14</td>\n",
       "      <td>-7.75</td>\n",
       "      <td>True</td>\n",
       "    </tr>\n",
       "  </tbody>\n",
       "</table>\n",
       "</div>"
      ],
      "text/plain": [
       "      F1    F2    F3    F4  F5     F6    F7      F8    F9    F10    F11  \\\n",
       "0  16.77  1.25  1080  4.04  20  30.36 -7.24  112.86  9.00   7.74 -15.70   \n",
       "1  12.45  1.63   156 -6.98   2  21.52  1.20  105.86  0.43  10.11 -25.06   \n",
       "2   0.06  1.09   855  6.08  20  33.76 -9.06  262.86  9.15   6.01 -14.40   \n",
       "3   1.80  2.04   435  1.72  20  31.96 -8.30  157.86  5.35   6.15 -17.64   \n",
       "4  15.45  1.38   195 -8.70   2  21.10 -0.06  112.86  1.37  10.26 -27.50   \n",
       "\n",
       "     F12    F13     F14   F15  Class  \n",
       "0 -36.32  26.10 -184.14 -7.75  False  \n",
       "1 -23.32   2.55 -208.14 -7.75   True  \n",
       "2 -36.32  26.25 -394.14 -6.67  False  \n",
       "3 -36.32  17.25  -64.14 -7.75  False  \n",
       "4 -23.32   2.01 -250.14 -7.75   True  "
      ]
     },
     "execution_count": 107,
     "metadata": {},
     "output_type": "execute_result"
    }
   ],
   "source": [
    "data_with_overall_median.loc[data_with_overall_median['F15'].isnull()==True,\"F15\"] = data_with_overall_median['F15'].median()\n",
    "data_with_overall_median.head()"
   ]
  },
  {
   "cell_type": "code",
   "execution_count": 108,
   "metadata": {
    "colab": {
     "base_uri": "https://localhost:8080/",
     "height": 204
    },
    "id": "9nt8VGpD4tM7",
    "outputId": "f84b199d-20b0-4065-cd8f-01b7cc2052f5"
   },
   "outputs": [
    {
     "data": {
      "text/html": [
       "<div>\n",
       "<style scoped>\n",
       "    .dataframe tbody tr th:only-of-type {\n",
       "        vertical-align: middle;\n",
       "    }\n",
       "\n",
       "    .dataframe tbody tr th {\n",
       "        vertical-align: top;\n",
       "    }\n",
       "\n",
       "    .dataframe thead th {\n",
       "        text-align: right;\n",
       "    }\n",
       "</style>\n",
       "<table border=\"1\" class=\"dataframe\">\n",
       "  <thead>\n",
       "    <tr style=\"text-align: right;\">\n",
       "      <th></th>\n",
       "      <th>F1</th>\n",
       "      <th>F2</th>\n",
       "      <th>F3</th>\n",
       "      <th>F4</th>\n",
       "      <th>F5</th>\n",
       "      <th>F6</th>\n",
       "      <th>F7</th>\n",
       "      <th>F8</th>\n",
       "      <th>F9</th>\n",
       "      <th>F10</th>\n",
       "      <th>F11</th>\n",
       "      <th>F12</th>\n",
       "      <th>F13</th>\n",
       "      <th>F14</th>\n",
       "      <th>F15</th>\n",
       "      <th>Class</th>\n",
       "    </tr>\n",
       "  </thead>\n",
       "  <tbody>\n",
       "    <tr>\n",
       "      <td>0</td>\n",
       "      <td>16.77</td>\n",
       "      <td>1.25</td>\n",
       "      <td>1080</td>\n",
       "      <td>4.04</td>\n",
       "      <td>20</td>\n",
       "      <td>30.36</td>\n",
       "      <td>-7.24</td>\n",
       "      <td>112.86</td>\n",
       "      <td>9.00</td>\n",
       "      <td>7.74</td>\n",
       "      <td>-15.70</td>\n",
       "      <td>-36.32</td>\n",
       "      <td>26.10</td>\n",
       "      <td>-184.14</td>\n",
       "      <td>-7.75</td>\n",
       "      <td>0</td>\n",
       "    </tr>\n",
       "    <tr>\n",
       "      <td>1</td>\n",
       "      <td>12.45</td>\n",
       "      <td>1.63</td>\n",
       "      <td>156</td>\n",
       "      <td>-6.98</td>\n",
       "      <td>2</td>\n",
       "      <td>21.52</td>\n",
       "      <td>1.20</td>\n",
       "      <td>105.86</td>\n",
       "      <td>0.43</td>\n",
       "      <td>10.11</td>\n",
       "      <td>-25.06</td>\n",
       "      <td>-23.32</td>\n",
       "      <td>2.55</td>\n",
       "      <td>-208.14</td>\n",
       "      <td>-7.75</td>\n",
       "      <td>1</td>\n",
       "    </tr>\n",
       "    <tr>\n",
       "      <td>2</td>\n",
       "      <td>0.06</td>\n",
       "      <td>1.09</td>\n",
       "      <td>855</td>\n",
       "      <td>6.08</td>\n",
       "      <td>20</td>\n",
       "      <td>33.76</td>\n",
       "      <td>-9.06</td>\n",
       "      <td>262.86</td>\n",
       "      <td>9.15</td>\n",
       "      <td>6.01</td>\n",
       "      <td>-14.40</td>\n",
       "      <td>-36.32</td>\n",
       "      <td>26.25</td>\n",
       "      <td>-394.14</td>\n",
       "      <td>-6.67</td>\n",
       "      <td>0</td>\n",
       "    </tr>\n",
       "    <tr>\n",
       "      <td>3</td>\n",
       "      <td>1.80</td>\n",
       "      <td>2.04</td>\n",
       "      <td>435</td>\n",
       "      <td>1.72</td>\n",
       "      <td>20</td>\n",
       "      <td>31.96</td>\n",
       "      <td>-8.30</td>\n",
       "      <td>157.86</td>\n",
       "      <td>5.35</td>\n",
       "      <td>6.15</td>\n",
       "      <td>-17.64</td>\n",
       "      <td>-36.32</td>\n",
       "      <td>17.25</td>\n",
       "      <td>-64.14</td>\n",
       "      <td>-7.75</td>\n",
       "      <td>0</td>\n",
       "    </tr>\n",
       "    <tr>\n",
       "      <td>4</td>\n",
       "      <td>15.45</td>\n",
       "      <td>1.38</td>\n",
       "      <td>195</td>\n",
       "      <td>-8.70</td>\n",
       "      <td>2</td>\n",
       "      <td>21.10</td>\n",
       "      <td>-0.06</td>\n",
       "      <td>112.86</td>\n",
       "      <td>1.37</td>\n",
       "      <td>10.26</td>\n",
       "      <td>-27.50</td>\n",
       "      <td>-23.32</td>\n",
       "      <td>2.01</td>\n",
       "      <td>-250.14</td>\n",
       "      <td>-7.75</td>\n",
       "      <td>1</td>\n",
       "    </tr>\n",
       "  </tbody>\n",
       "</table>\n",
       "</div>"
      ],
      "text/plain": [
       "      F1    F2    F3    F4  F5     F6    F7      F8    F9    F10    F11  \\\n",
       "0  16.77  1.25  1080  4.04  20  30.36 -7.24  112.86  9.00   7.74 -15.70   \n",
       "1  12.45  1.63   156 -6.98   2  21.52  1.20  105.86  0.43  10.11 -25.06   \n",
       "2   0.06  1.09   855  6.08  20  33.76 -9.06  262.86  9.15   6.01 -14.40   \n",
       "3   1.80  2.04   435  1.72  20  31.96 -8.30  157.86  5.35   6.15 -17.64   \n",
       "4  15.45  1.38   195 -8.70   2  21.10 -0.06  112.86  1.37  10.26 -27.50   \n",
       "\n",
       "     F12    F13     F14   F15  Class  \n",
       "0 -36.32  26.10 -184.14 -7.75      0  \n",
       "1 -23.32   2.55 -208.14 -7.75      1  \n",
       "2 -36.32  26.25 -394.14 -6.67      0  \n",
       "3 -36.32  17.25  -64.14 -7.75      0  \n",
       "4 -23.32   2.01 -250.14 -7.75      1  "
      ]
     },
     "execution_count": 108,
     "metadata": {},
     "output_type": "execute_result"
    }
   ],
   "source": [
    "le = LabelEncoder()\n",
    "data_with_overall_median['Class'] = le.fit_transform(data_with_overall_median['Class'])\n",
    "data_with_overall_median.head()"
   ]
  },
  {
   "cell_type": "code",
   "execution_count": 109,
   "metadata": {
    "id": "Fe1k3dVE4tPv"
   },
   "outputs": [],
   "source": [
    "X_median = data_with_overall_median.iloc[:,:-1]\n",
    "y_median = data_with_overall_median.iloc[:,-1]"
   ]
  },
  {
   "cell_type": "code",
   "execution_count": 110,
   "metadata": {
    "id": "Od4V3MY_4tSr"
   },
   "outputs": [],
   "source": [
    "x_median_train,x_median_test,y_median_train,y_median_test = train_test_split(X_median,y_median,test_size=0.2,random_state=42)"
   ]
  },
  {
   "cell_type": "markdown",
   "metadata": {
    "id": "SuFFhYxvpzTd"
   },
   "source": [
    "\n",
    "**<h2>Implementing Decision Tree Algorithm after Imputting with median of the overall data</h2>**"
   ]
  },
  {
   "cell_type": "code",
   "execution_count": 111,
   "metadata": {
    "colab": {
     "base_uri": "https://localhost:8080/"
    },
    "id": "zXnapnif4tVX",
    "outputId": "d0e05a37-e641-4051-a809-8a0d5de2ecc4"
   },
   "outputs": [
    {
     "data": {
      "text/plain": [
       "DecisionTreeClassifier()"
      ]
     },
     "execution_count": 111,
     "metadata": {},
     "output_type": "execute_result"
    }
   ],
   "source": [
    "clf = DecisionTreeClassifier()\n",
    "#Train the model using the training sets\n",
    "clf.fit(x_median_train, y_median_train)"
   ]
  },
  {
   "cell_type": "code",
   "execution_count": 112,
   "metadata": {
    "id": "rFJHSdD94tXq"
   },
   "outputs": [],
   "source": [
    "#Predict the response for test dataset\n",
    "y_pred = clf.predict(x_median_test)"
   ]
  },
  {
   "cell_type": "code",
   "execution_count": 113,
   "metadata": {
    "colab": {
     "base_uri": "https://localhost:8080/"
    },
    "id": "8bMkPm_m5FmS",
    "outputId": "268d480b-f451-4783-d4dd-d1073344813b"
   },
   "outputs": [
    {
     "name": "stdout",
     "output_type": "stream",
     "text": [
      "Accuracy: 0.8133333333333334\n",
      "Precision Score :  0.8133333333333334\n",
      "Recall Score :  0.8133333333333334\n",
      "Recall Score :  0.8138705651631307\n"
     ]
    },
    {
     "name": "stderr",
     "output_type": "stream",
     "text": [
      "C:\\Users\\ASUS\\Anaconda3\\lib\\site-packages\\sklearn\\metrics\\_classification.py:1298: UserWarning: Note that pos_label (set to 'positive') is ignored when average != 'binary' (got 'micro'). You may use labels=[pos_label] to specify a single positive class.\n",
      "  % (pos_label, average), UserWarning)\n",
      "C:\\Users\\ASUS\\Anaconda3\\lib\\site-packages\\sklearn\\metrics\\_classification.py:1298: UserWarning: Note that pos_label (set to 'positive') is ignored when average != 'binary' (got 'micro'). You may use labels=[pos_label] to specify a single positive class.\n",
      "  % (pos_label, average), UserWarning)\n"
     ]
    }
   ],
   "source": [
    "# Model Accuracy: how often is the classifier correct?\n",
    "print(\"Accuracy:\",accuracy_score(y_median_test, y_pred))\n",
    "\n",
    "print(\"Precision Score : \",precision_score(y_median_test, y_pred, \n",
    "                                           pos_label='positive'\n",
    "                                           ,average='micro'))\n",
    "print(\"Recall Score : \",recall_score(y_median_test, y_pred, \n",
    "                                           pos_label='positive'\n",
    "                                           ,average='micro'))\n",
    "\n",
    "print(\"Recall Score : \",roc_auc_score(y_median_test, y_pred))"
   ]
  },
  {
   "cell_type": "code",
   "execution_count": 114,
   "metadata": {
    "colab": {
     "base_uri": "https://localhost:8080/",
     "height": 523
    },
    "id": "F3zn4MSs7TOA",
    "outputId": "115c99f7-b0ae-40fd-de85-dd2920a100f1"
   },
   "outputs": [
    {
     "name": "stdout",
     "output_type": "stream",
     "text": [
      "Feature: 0, Score: 0.03515\n",
      "Feature: 1, Score: 0.06971\n",
      "Feature: 2, Score: 0.07917\n",
      "Feature: 3, Score: 0.04658\n",
      "Feature: 4, Score: 0.00351\n",
      "Feature: 5, Score: 0.13868\n",
      "Feature: 6, Score: 0.03499\n",
      "Feature: 7, Score: 0.07804\n",
      "Feature: 8, Score: 0.04111\n",
      "Feature: 9, Score: 0.02603\n",
      "Feature: 10, Score: 0.03570\n",
      "Feature: 11, Score: 0.00735\n",
      "Feature: 12, Score: 0.07491\n",
      "Feature: 13, Score: 0.03951\n",
      "Feature: 14, Score: 0.28956\n"
     ]
    },
    {
     "data": {
      "image/png": "[encoded data removed]",
      "text/plain": [
       "<Figure size 432x288 with 1 Axes>"
      ]
     },
     "metadata": {
      "needs_background": "light"
     },
     "output_type": "display_data"
    }
   ],
   "source": [
    "importance = clf.feature_importances_\n",
    "# summarize feature importance\n",
    "for i,v in enumerate(importance):\n",
    "\tprint('Feature: %0d, Score: %.5f' % (i,v))\n",
    "# plot feature importance\n",
    "plt.bar([x for x in range(len(importance))], importance)\n",
    "plt.show()"
   ]
  },
  {
   "cell_type": "markdown",
   "metadata": {
    "id": "zetOTmi_kMJN"
   },
   "source": [
    "**<h4>K-Fold Cross Validation</h4>**"
   ]
  },
  {
   "cell_type": "code",
   "execution_count": 115,
   "metadata": {
    "id": "4-rEES5ukQmG"
   },
   "outputs": [],
   "source": [
    "clf = DecisionTreeClassifier()\n",
    "kfold_validation = KFold(5)"
   ]
  },
  {
   "cell_type": "code",
   "execution_count": 116,
   "metadata": {
    "colab": {
     "base_uri": "https://localhost:8080/"
    },
    "id": "vFZPnzdakQol",
    "outputId": "4e5eac9c-e34f-43a3-9ca0-806a2b5f9ce0"
   },
   "outputs": [
    {
     "name": "stdout",
     "output_type": "stream",
     "text": [
      "[0.76       0.76666667 0.76666667 0.77666667 0.81333333]\n",
      "0.7766666666666667\n"
     ]
    }
   ],
   "source": [
    "results = cross_val_score(clf,X_median,y_median,cv=kfold_validation)\n",
    "print(results)\n",
    "print(np.mean(results))"
   ]
  },
  {
   "cell_type": "markdown",
   "metadata": {
    "id": "WmgQ_7sgqG62"
   },
   "source": [
    "\n",
    "**<h2>Implementing Random Forest Algorithm after Imputting with median of the overall data</h2>**"
   ]
  },
  {
   "cell_type": "code",
   "execution_count": 117,
   "metadata": {
    "colab": {
     "base_uri": "https://localhost:8080/"
    },
    "id": "frrs9DWmqJ7q",
    "outputId": "68675574-df84-4032-8270-b7654230bef0"
   },
   "outputs": [
    {
     "data": {
      "text/plain": [
       "RandomForestClassifier()"
      ]
     },
     "execution_count": 117,
     "metadata": {},
     "output_type": "execute_result"
    }
   ],
   "source": [
    "clf = RandomForestClassifier()\n",
    "#Train the model using the training sets\n",
    "clf.fit(x_median_train, y_median_train)"
   ]
  },
  {
   "cell_type": "code",
   "execution_count": 118,
   "metadata": {
    "id": "FquL_JcWqJ_J"
   },
   "outputs": [],
   "source": [
    "#Predict the response for test dataset\n",
    "y_pred = clf.predict(x_median_test)"
   ]
  },
  {
   "cell_type": "code",
   "execution_count": 119,
   "metadata": {
    "colab": {
     "base_uri": "https://localhost:8080/"
    },
    "id": "Eda4owxrqKR-",
    "outputId": "f8d2ac67-530a-454d-a16b-c33f4d889d25"
   },
   "outputs": [
    {
     "name": "stdout",
     "output_type": "stream",
     "text": [
      "Accuracy: 0.9066666666666666\n",
      "Precision Score :  0.9066666666666666\n",
      "Recall Score :  0.9066666666666666\n",
      "Recall Score :  0.9071135674808344\n"
     ]
    },
    {
     "name": "stderr",
     "output_type": "stream",
     "text": [
      "C:\\Users\\ASUS\\Anaconda3\\lib\\site-packages\\sklearn\\metrics\\_classification.py:1298: UserWarning: Note that pos_label (set to 'positive') is ignored when average != 'binary' (got 'micro'). You may use labels=[pos_label] to specify a single positive class.\n",
      "  % (pos_label, average), UserWarning)\n",
      "C:\\Users\\ASUS\\Anaconda3\\lib\\site-packages\\sklearn\\metrics\\_classification.py:1298: UserWarning: Note that pos_label (set to 'positive') is ignored when average != 'binary' (got 'micro'). You may use labels=[pos_label] to specify a single positive class.\n",
      "  % (pos_label, average), UserWarning)\n"
     ]
    }
   ],
   "source": [
    "# Model Accuracy: how often is the classifier correct?\n",
    "print(\"Accuracy:\",accuracy_score(y_median_test, y_pred))\n",
    "\n",
    "print(\"Precision Score : \",precision_score(y_median_test, y_pred, \n",
    "                                           pos_label='positive'\n",
    "                                           ,average='micro'))\n",
    "print(\"Recall Score : \",recall_score(y_median_test, y_pred, \n",
    "                                           pos_label='positive'\n",
    "                                           ,average='micro'))\n",
    "\n",
    "print(\"Recall Score : \",roc_auc_score(y_median_test, y_pred))"
   ]
  },
  {
   "cell_type": "code",
   "execution_count": 120,
   "metadata": {
    "colab": {
     "base_uri": "https://localhost:8080/",
     "height": 520
    },
    "id": "szXgmF6u7bJ1",
    "outputId": "605b2dc1-0cf5-4c92-8da5-c738b4710633"
   },
   "outputs": [
    {
     "name": "stdout",
     "output_type": "stream",
     "text": [
      "Feature: 0, Score: 0.06044\n",
      "Feature: 1, Score: 0.06268\n",
      "Feature: 2, Score: 0.04308\n",
      "Feature: 3, Score: 0.07495\n",
      "Feature: 4, Score: 0.00996\n",
      "Feature: 5, Score: 0.13577\n",
      "Feature: 6, Score: 0.05277\n",
      "Feature: 7, Score: 0.07635\n",
      "Feature: 8, Score: 0.05232\n",
      "Feature: 9, Score: 0.05805\n",
      "Feature: 10, Score: 0.05992\n",
      "Feature: 11, Score: 0.01966\n",
      "Feature: 12, Score: 0.08797\n",
      "Feature: 13, Score: 0.03890\n",
      "Feature: 14, Score: 0.16717\n"
     ]
    },
    {
     "data": {
      "image/png": "[encoded data removed]",
      "text/plain": [
       "<Figure size 432x288 with 1 Axes>"
      ]
     },
     "metadata": {
      "needs_background": "light"
     },
     "output_type": "display_data"
    }
   ],
   "source": [
    "importance = clf.feature_importances_\n",
    "# summarize feature importance\n",
    "for i,v in enumerate(importance):\n",
    "\tprint('Feature: %0d, Score: %.5f' % (i,v))\n",
    "# plot feature importance\n",
    "plt.bar([x for x in range(len(importance))], importance)\n",
    "plt.show()"
   ]
  },
  {
   "cell_type": "markdown",
   "metadata": {
    "id": "V8pXKVIDqKbj"
   },
   "source": [
    "**<h4>K-Fold Cross Validation</h4>**"
   ]
  },
  {
   "cell_type": "code",
   "execution_count": 121,
   "metadata": {
    "id": "LANkEECcqKnh"
   },
   "outputs": [],
   "source": [
    "clf = RandomForestClassifier()\n",
    "kfold_validation = KFold(5)"
   ]
  },
  {
   "cell_type": "code",
   "execution_count": 122,
   "metadata": {
    "colab": {
     "base_uri": "https://localhost:8080/"
    },
    "id": "fAgVMtUsqKqY",
    "outputId": "7c337d0b-1f3e-4529-f99c-d229a804b460"
   },
   "outputs": [
    {
     "name": "stdout",
     "output_type": "stream",
     "text": [
      "[0.90666667 0.83       0.83333333 0.89666667 0.87333333]\n",
      "0.868\n"
     ]
    }
   ],
   "source": [
    "results = cross_val_score(clf,X_median,y_median,cv=kfold_validation)\n",
    "print(results)\n",
    "print(np.mean(results))"
   ]
  },
  {
   "cell_type": "markdown",
   "metadata": {
    "id": "mctVBPGe0z9F"
   },
   "source": [
    "**<h4>Feature Scaling Using Standardization</h4>**"
   ]
  },
  {
   "cell_type": "code",
   "execution_count": 123,
   "metadata": {
    "id": "3FqJvYJz07RT"
   },
   "outputs": [],
   "source": [
    "# fit on training data column\n",
    "scale = StandardScaler().fit(x_median_train)\n",
    "    \n",
    "# transform the training data column\n",
    "x_median_train_stand = scale.transform(x_median_train)\n",
    "\n",
    "# transform the testing data column\n",
    "x_median_test_stand = scale.transform(x_median_test)\n"
   ]
  },
  {
   "cell_type": "markdown",
   "metadata": {
    "id": "seCuH-b91GRg"
   },
   "source": [
    "\n",
    "\n",
    "\n",
    "\n",
    "**<h2>Implementing Logistic Regression Algorithm after Imputting with median of the overall data</h2>**\n",
    "\n",
    "**<h4>Feature Selection Using Lasso Regression In Logistic Regression Algorithm</h4>**"
   ]
  },
  {
   "cell_type": "code",
   "execution_count": 124,
   "metadata": {
    "colab": {
     "base_uri": "https://localhost:8080/"
    },
    "id": "m80eFvCC07UP",
    "outputId": "af8fb909-8384-4add-f88b-0d2fa52cbf36"
   },
   "outputs": [
    {
     "data": {
      "text/plain": [
       "SelectFromModel(estimator=LogisticRegression(C=0.1, penalty='l1',\n",
       "                                             solver='liblinear'))"
      ]
     },
     "execution_count": 124,
     "metadata": {},
     "output_type": "execute_result"
    }
   ],
   "source": [
    "sel_ = SelectFromModel(LogisticRegression(C=0.1, penalty='l1',solver='liblinear'))\n",
    "sel_.fit(x_median_train_stand, y_median_train)"
   ]
  },
  {
   "cell_type": "code",
   "execution_count": 125,
   "metadata": {
    "colab": {
     "base_uri": "https://localhost:8080/"
    },
    "id": "t9YWaq6V07XU",
    "outputId": "5e06da9b-1f84-49fa-dde5-6e32a374bcdf"
   },
   "outputs": [
    {
     "data": {
      "text/plain": [
       "array([ True,  True,  True,  True,  True,  True, False,  True, False,\n",
       "        True,  True, False,  True,  True,  True])"
      ]
     },
     "execution_count": 125,
     "metadata": {},
     "output_type": "execute_result"
    }
   ],
   "source": [
    "sel_.get_support()"
   ]
  },
  {
   "cell_type": "code",
   "execution_count": 126,
   "metadata": {
    "colab": {
     "base_uri": "https://localhost:8080/"
    },
    "id": "ddSGz4xB07ae",
    "outputId": "0756c147-e747-4e32-aa05-9d1b1f3a38c8"
   },
   "outputs": [
    {
     "name": "stdout",
     "output_type": "stream",
     "text": [
      "total features: 15\n",
      "selected features: 12\n",
      "features with coefficients shrank to zero: 3\n"
     ]
    }
   ],
   "source": [
    "selected_feat = X_median.columns[(sel_.get_support())]\n",
    "print('total features: {}'.format((x_median_train_stand.shape[1])))\n",
    "print('selected features: {}'.format(len(selected_feat)))\n",
    "print('features with coefficients shrank to zero: {}'.format(\n",
    "      np.sum(sel_.estimator_.coef_ == 0)))\n"
   ]
  },
  {
   "cell_type": "code",
   "execution_count": 127,
   "metadata": {
    "colab": {
     "base_uri": "https://localhost:8080/"
    },
    "id": "AohRkdH507dJ",
    "outputId": "6b9f2ae2-4166-4859-fd0a-38d98199d00c"
   },
   "outputs": [
    {
     "data": {
      "text/plain": [
       "3"
      ]
     },
     "execution_count": 127,
     "metadata": {},
     "output_type": "execute_result"
    }
   ],
   "source": [
    "np.sum(sel_.estimator_.coef_ == 0)"
   ]
  },
  {
   "cell_type": "code",
   "execution_count": 128,
   "metadata": {
    "colab": {
     "base_uri": "https://localhost:8080/"
    },
    "id": "PP1edab-07gP",
    "outputId": "176fa2fc-5970-4bff-81e9-c5e9644cdfbc"
   },
   "outputs": [
    {
     "data": {
      "text/plain": [
       "Index(['F7', 'F9', 'F12'], dtype='object')"
      ]
     },
     "execution_count": 128,
     "metadata": {},
     "output_type": "execute_result"
    }
   ],
   "source": [
    "removed_feats = X_median.columns[(sel_.estimator_.coef_ == 0).ravel().tolist()]\n",
    "removed_feats"
   ]
  },
  {
   "cell_type": "code",
   "execution_count": 129,
   "metadata": {
    "colab": {
     "base_uri": "https://localhost:8080/",
     "height": 204
    },
    "id": "DK8DCfAp07ji",
    "outputId": "2d15427d-9ed2-470e-ec9a-e200da1a9746"
   },
   "outputs": [
    {
     "data": {
      "text/html": [
       "<div>\n",
       "<style scoped>\n",
       "    .dataframe tbody tr th:only-of-type {\n",
       "        vertical-align: middle;\n",
       "    }\n",
       "\n",
       "    .dataframe tbody tr th {\n",
       "        vertical-align: top;\n",
       "    }\n",
       "\n",
       "    .dataframe thead th {\n",
       "        text-align: right;\n",
       "    }\n",
       "</style>\n",
       "<table border=\"1\" class=\"dataframe\">\n",
       "  <thead>\n",
       "    <tr style=\"text-align: right;\">\n",
       "      <th></th>\n",
       "      <th>F1</th>\n",
       "      <th>F2</th>\n",
       "      <th>F3</th>\n",
       "      <th>F4</th>\n",
       "      <th>F5</th>\n",
       "      <th>F6</th>\n",
       "      <th>F8</th>\n",
       "      <th>F10</th>\n",
       "      <th>F11</th>\n",
       "      <th>F13</th>\n",
       "      <th>F14</th>\n",
       "      <th>F15</th>\n",
       "      <th>Class</th>\n",
       "    </tr>\n",
       "  </thead>\n",
       "  <tbody>\n",
       "    <tr>\n",
       "      <td>0</td>\n",
       "      <td>16.77</td>\n",
       "      <td>1.25</td>\n",
       "      <td>1080</td>\n",
       "      <td>4.04</td>\n",
       "      <td>20</td>\n",
       "      <td>30.36</td>\n",
       "      <td>112.86</td>\n",
       "      <td>7.74</td>\n",
       "      <td>-15.70</td>\n",
       "      <td>26.10</td>\n",
       "      <td>-184.14</td>\n",
       "      <td>-7.75</td>\n",
       "      <td>0</td>\n",
       "    </tr>\n",
       "    <tr>\n",
       "      <td>1</td>\n",
       "      <td>12.45</td>\n",
       "      <td>1.63</td>\n",
       "      <td>156</td>\n",
       "      <td>-6.98</td>\n",
       "      <td>2</td>\n",
       "      <td>21.52</td>\n",
       "      <td>105.86</td>\n",
       "      <td>10.11</td>\n",
       "      <td>-25.06</td>\n",
       "      <td>2.55</td>\n",
       "      <td>-208.14</td>\n",
       "      <td>-7.75</td>\n",
       "      <td>1</td>\n",
       "    </tr>\n",
       "    <tr>\n",
       "      <td>2</td>\n",
       "      <td>0.06</td>\n",
       "      <td>1.09</td>\n",
       "      <td>855</td>\n",
       "      <td>6.08</td>\n",
       "      <td>20</td>\n",
       "      <td>33.76</td>\n",
       "      <td>262.86</td>\n",
       "      <td>6.01</td>\n",
       "      <td>-14.40</td>\n",
       "      <td>26.25</td>\n",
       "      <td>-394.14</td>\n",
       "      <td>-6.67</td>\n",
       "      <td>0</td>\n",
       "    </tr>\n",
       "    <tr>\n",
       "      <td>3</td>\n",
       "      <td>1.80</td>\n",
       "      <td>2.04</td>\n",
       "      <td>435</td>\n",
       "      <td>1.72</td>\n",
       "      <td>20</td>\n",
       "      <td>31.96</td>\n",
       "      <td>157.86</td>\n",
       "      <td>6.15</td>\n",
       "      <td>-17.64</td>\n",
       "      <td>17.25</td>\n",
       "      <td>-64.14</td>\n",
       "      <td>-7.75</td>\n",
       "      <td>0</td>\n",
       "    </tr>\n",
       "    <tr>\n",
       "      <td>4</td>\n",
       "      <td>15.45</td>\n",
       "      <td>1.38</td>\n",
       "      <td>195</td>\n",
       "      <td>-8.70</td>\n",
       "      <td>2</td>\n",
       "      <td>21.10</td>\n",
       "      <td>112.86</td>\n",
       "      <td>10.26</td>\n",
       "      <td>-27.50</td>\n",
       "      <td>2.01</td>\n",
       "      <td>-250.14</td>\n",
       "      <td>-7.75</td>\n",
       "      <td>1</td>\n",
       "    </tr>\n",
       "  </tbody>\n",
       "</table>\n",
       "</div>"
      ],
      "text/plain": [
       "      F1    F2    F3    F4  F5     F6      F8    F10    F11    F13     F14  \\\n",
       "0  16.77  1.25  1080  4.04  20  30.36  112.86   7.74 -15.70  26.10 -184.14   \n",
       "1  12.45  1.63   156 -6.98   2  21.52  105.86  10.11 -25.06   2.55 -208.14   \n",
       "2   0.06  1.09   855  6.08  20  33.76  262.86   6.01 -14.40  26.25 -394.14   \n",
       "3   1.80  2.04   435  1.72  20  31.96  157.86   6.15 -17.64  17.25  -64.14   \n",
       "4  15.45  1.38   195 -8.70   2  21.10  112.86  10.26 -27.50   2.01 -250.14   \n",
       "\n",
       "    F15  Class  \n",
       "0 -7.75      0  \n",
       "1 -7.75      1  \n",
       "2 -6.67      0  \n",
       "3 -7.75      0  \n",
       "4 -7.75      1  "
      ]
     },
     "execution_count": 129,
     "metadata": {},
     "output_type": "execute_result"
    }
   ],
   "source": [
    "dropped_data_with_overall_median_lr = data_with_overall_median.drop(removed_feats.tolist(),axis=1)\n",
    "dropped_data_with_overall_median_lr.head()"
   ]
  },
  {
   "cell_type": "code",
   "execution_count": 130,
   "metadata": {
    "id": "YNzKYP6F07l_"
   },
   "outputs": [],
   "source": [
    "X_median_lr = dropped_data_with_overall_median_lr.iloc[:,:-1]\n",
    "y_median_lr = dropped_data_with_overall_median_lr.iloc[:,-1]\n"
   ]
  },
  {
   "cell_type": "code",
   "execution_count": 131,
   "metadata": {
    "id": "qJfhW6Pe07o0"
   },
   "outputs": [],
   "source": [
    "x_median_lr_train,x_median_lr_test,y_median_lr_train,y_median_lr_test = train_test_split(X_median_lr,y_median_lr,test_size=0.2,random_state=42)\n"
   ]
  },
  {
   "cell_type": "code",
   "execution_count": 132,
   "metadata": {
    "id": "aF-0af1O07rb"
   },
   "outputs": [],
   "source": [
    "# fit on training data column\n",
    "scale = StandardScaler().fit(x_median_lr_train)\n",
    "    \n",
    "# transform the training data column\n",
    "x_median_lr_train_stand = scale.transform(x_median_lr_train)\n",
    "\n",
    "# transform the testing data column\n",
    "x_median_lr_test_stand = scale.transform(x_median_lr_test)\n",
    "\n",
    "X_median_lr_stand = scale.transform(X_median_lr)\n"
   ]
  },
  {
   "cell_type": "code",
   "execution_count": 133,
   "metadata": {
    "colab": {
     "base_uri": "https://localhost:8080/"
    },
    "id": "isvZj2zS07uB",
    "outputId": "5433a326-01d1-443a-b2c0-4a61444e8af1"
   },
   "outputs": [
    {
     "data": {
      "text/plain": [
       "LogisticRegression()"
      ]
     },
     "execution_count": 133,
     "metadata": {},
     "output_type": "execute_result"
    }
   ],
   "source": [
    "clf = LogisticRegression()\n",
    "#Train the model using the training sets\n",
    "clf.fit(x_median_lr_train_stand, y_median_lr_train)\n",
    "\n"
   ]
  },
  {
   "cell_type": "code",
   "execution_count": 134,
   "metadata": {
    "id": "J3ijJzI607ww"
   },
   "outputs": [],
   "source": [
    "#Predict the response for test dataset\n",
    "y_pred = clf.predict(x_median_lr_test_stand)\n"
   ]
  },
  {
   "cell_type": "code",
   "execution_count": 135,
   "metadata": {
    "colab": {
     "base_uri": "https://localhost:8080/"
    },
    "id": "QU_CX2yF07za",
    "outputId": "5381ef35-6bc8-4512-dade-3f5f6a83f628"
   },
   "outputs": [
    {
     "name": "stdout",
     "output_type": "stream",
     "text": [
      "Accuracy: 0.8633333333333333\n",
      "Precision Score :  0.8633333333333333\n",
      "Recall Score :  0.8633333333333333\n",
      "Recall Score :  0.8627651987876627\n"
     ]
    },
    {
     "name": "stderr",
     "output_type": "stream",
     "text": [
      "C:\\Users\\ASUS\\Anaconda3\\lib\\site-packages\\sklearn\\metrics\\_classification.py:1298: UserWarning: Note that pos_label (set to 'positive') is ignored when average != 'binary' (got 'micro'). You may use labels=[pos_label] to specify a single positive class.\n",
      "  % (pos_label, average), UserWarning)\n",
      "C:\\Users\\ASUS\\Anaconda3\\lib\\site-packages\\sklearn\\metrics\\_classification.py:1298: UserWarning: Note that pos_label (set to 'positive') is ignored when average != 'binary' (got 'micro'). You may use labels=[pos_label] to specify a single positive class.\n",
      "  % (pos_label, average), UserWarning)\n"
     ]
    }
   ],
   "source": [
    "# Model Accuracy: how often is the classifier correct?\n",
    "print(\"Accuracy:\",accuracy_score(y_median_lr_test, y_pred))\n",
    "\n",
    "print(\"Precision Score : \",precision_score(y_median_lr_test, y_pred, \n",
    "                                           pos_label='positive'\n",
    "                                           ,average='micro'))\n",
    "print(\"Recall Score : \",recall_score(y_median_lr_test, y_pred, \n",
    "                                           pos_label='positive'\n",
    "                                           ,average='micro'))\n",
    "\n",
    "print(\"Recall Score : \",roc_auc_score(y_median_lr_test, y_pred))"
   ]
  },
  {
   "cell_type": "markdown",
   "metadata": {
    "id": "L3r1pevo5lnW"
   },
   "source": [
    "**<h4>K-Fold Validation In Logistic Regression</h4>**"
   ]
  },
  {
   "cell_type": "code",
   "execution_count": 136,
   "metadata": {
    "id": "XerSoUhA073k"
   },
   "outputs": [],
   "source": [
    "clf = LogisticRegression()\n",
    "kfold_validation = KFold(5)"
   ]
  },
  {
   "cell_type": "code",
   "execution_count": 137,
   "metadata": {
    "colab": {
     "base_uri": "https://localhost:8080/"
    },
    "id": "YG36SUXe076Z",
    "outputId": "15425460-9f02-4d0c-c8b6-ebf6971c873f"
   },
   "outputs": [
    {
     "name": "stdout",
     "output_type": "stream",
     "text": [
      "[0.89666667 0.83       0.82333333 0.85666667 0.81      ]\n",
      "0.8433333333333334\n"
     ]
    }
   ],
   "source": [
    "results = cross_val_score(clf,X_median_lr_stand,y_median_lr,cv=kfold_validation,n_jobs=5)\n",
    "print(results)\n",
    "print(np.mean(results))"
   ]
  },
  {
   "cell_type": "markdown",
   "metadata": {
    "id": "fJH63dZ-56y_"
   },
   "source": [
    "**<h2>Implementing Support Vector Machine Algorithm after Imputting with median of the overall data</h2>**\n",
    "\n",
    "**<h4>Feature Selection Using Lasso Regression In Support Vector Machine Algorithm</h4>**"
   ]
  },
  {
   "cell_type": "code",
   "execution_count": 138,
   "metadata": {
    "colab": {
     "base_uri": "https://localhost:8080/"
    },
    "id": "0w78bf69078y",
    "outputId": "29bf132c-620b-4ead-8573-90fc9a1369f3"
   },
   "outputs": [
    {
     "name": "stderr",
     "output_type": "stream",
     "text": [
      "C:\\Users\\ASUS\\Anaconda3\\lib\\site-packages\\sklearn\\svm\\_base.py:986: ConvergenceWarning: Liblinear failed to converge, increase the number of iterations.\n",
      "  \"the number of iterations.\", ConvergenceWarning)\n"
     ]
    },
    {
     "data": {
      "text/plain": [
       "SelectFromModel(estimator=LinearSVC(C=0.1, dual=False, penalty='l1'))"
      ]
     },
     "execution_count": 138,
     "metadata": {},
     "output_type": "execute_result"
    }
   ],
   "source": [
    "sel_ = SelectFromModel(LinearSVC(C=0.1, penalty='l1',dual=False))\n",
    "sel_.fit(x_median_train_stand, y_median_train)\n"
   ]
  },
  {
   "cell_type": "code",
   "execution_count": 139,
   "metadata": {
    "colab": {
     "base_uri": "https://localhost:8080/"
    },
    "id": "1Agntol57MNG",
    "outputId": "dbe580e5-5556-4d60-9873-761421afb5cd"
   },
   "outputs": [
    {
     "data": {
      "text/plain": [
       "array([ True,  True,  True,  True,  True,  True,  True,  True,  True,\n",
       "        True,  True,  True,  True,  True,  True])"
      ]
     },
     "execution_count": 139,
     "metadata": {},
     "output_type": "execute_result"
    }
   ],
   "source": [
    "sel_.get_support()"
   ]
  },
  {
   "cell_type": "code",
   "execution_count": 140,
   "metadata": {
    "colab": {
     "base_uri": "https://localhost:8080/"
    },
    "id": "L_IEdfSP7MTE",
    "outputId": "e007dc4b-3c5e-4a2c-ba3a-772a6ccb0f2a"
   },
   "outputs": [
    {
     "name": "stdout",
     "output_type": "stream",
     "text": [
      "total features: 15\n",
      "selected features: 15\n",
      "features with coefficients shrank to zero: 0\n"
     ]
    }
   ],
   "source": [
    "selected_feat = X_median.columns[(sel_.get_support())]\n",
    "print('total features: {}'.format((x_median_train_stand.shape[1])))\n",
    "print('selected features: {}'.format(len(selected_feat)))\n",
    "print('features with coefficients shrank to zero: {}'.format(\n",
    "      np.sum(sel_.estimator_.coef_ == 0)))\n",
    "\n"
   ]
  },
  {
   "cell_type": "code",
   "execution_count": 141,
   "metadata": {
    "colab": {
     "base_uri": "https://localhost:8080/"
    },
    "id": "JxWkHHO37MYW",
    "outputId": "fe0348e5-afe4-4664-a7ba-2be066accebc"
   },
   "outputs": [
    {
     "data": {
      "text/plain": [
       "0"
      ]
     },
     "execution_count": 141,
     "metadata": {},
     "output_type": "execute_result"
    }
   ],
   "source": [
    "np.sum(sel_.estimator_.coef_ == 0)"
   ]
  },
  {
   "cell_type": "code",
   "execution_count": 142,
   "metadata": {
    "colab": {
     "base_uri": "https://localhost:8080/"
    },
    "id": "Wi2LMYHh7Mcr",
    "outputId": "b54c4d77-5f5f-4cac-d794-1900c2f2a09c"
   },
   "outputs": [
    {
     "data": {
      "text/plain": [
       "Index([], dtype='object')"
      ]
     },
     "execution_count": 142,
     "metadata": {},
     "output_type": "execute_result"
    }
   ],
   "source": [
    "removed_feats = X_median.columns[(sel_.estimator_.coef_ == 0).ravel().tolist()]\n",
    "removed_feats"
   ]
  },
  {
   "cell_type": "code",
   "execution_count": 143,
   "metadata": {
    "colab": {
     "base_uri": "https://localhost:8080/",
     "height": 204
    },
    "id": "7M8fqEVh7Mg5",
    "outputId": "34c8d176-d1e0-474c-de72-b2db06015575"
   },
   "outputs": [
    {
     "data": {
      "text/html": [
       "<div>\n",
       "<style scoped>\n",
       "    .dataframe tbody tr th:only-of-type {\n",
       "        vertical-align: middle;\n",
       "    }\n",
       "\n",
       "    .dataframe tbody tr th {\n",
       "        vertical-align: top;\n",
       "    }\n",
       "\n",
       "    .dataframe thead th {\n",
       "        text-align: right;\n",
       "    }\n",
       "</style>\n",
       "<table border=\"1\" class=\"dataframe\">\n",
       "  <thead>\n",
       "    <tr style=\"text-align: right;\">\n",
       "      <th></th>\n",
       "      <th>F1</th>\n",
       "      <th>F2</th>\n",
       "      <th>F3</th>\n",
       "      <th>F4</th>\n",
       "      <th>F5</th>\n",
       "      <th>F6</th>\n",
       "      <th>F7</th>\n",
       "      <th>F8</th>\n",
       "      <th>F9</th>\n",
       "      <th>F10</th>\n",
       "      <th>F11</th>\n",
       "      <th>F12</th>\n",
       "      <th>F13</th>\n",
       "      <th>F14</th>\n",
       "      <th>F15</th>\n",
       "      <th>Class</th>\n",
       "    </tr>\n",
       "  </thead>\n",
       "  <tbody>\n",
       "    <tr>\n",
       "      <td>0</td>\n",
       "      <td>16.77</td>\n",
       "      <td>1.25</td>\n",
       "      <td>1080</td>\n",
       "      <td>4.04</td>\n",
       "      <td>20</td>\n",
       "      <td>30.36</td>\n",
       "      <td>-7.24</td>\n",
       "      <td>112.86</td>\n",
       "      <td>9.00</td>\n",
       "      <td>7.74</td>\n",
       "      <td>-15.70</td>\n",
       "      <td>-36.32</td>\n",
       "      <td>26.10</td>\n",
       "      <td>-184.14</td>\n",
       "      <td>-7.75</td>\n",
       "      <td>0</td>\n",
       "    </tr>\n",
       "    <tr>\n",
       "      <td>1</td>\n",
       "      <td>12.45</td>\n",
       "      <td>1.63</td>\n",
       "      <td>156</td>\n",
       "      <td>-6.98</td>\n",
       "      <td>2</td>\n",
       "      <td>21.52</td>\n",
       "      <td>1.20</td>\n",
       "      <td>105.86</td>\n",
       "      <td>0.43</td>\n",
       "      <td>10.11</td>\n",
       "      <td>-25.06</td>\n",
       "      <td>-23.32</td>\n",
       "      <td>2.55</td>\n",
       "      <td>-208.14</td>\n",
       "      <td>-7.75</td>\n",
       "      <td>1</td>\n",
       "    </tr>\n",
       "    <tr>\n",
       "      <td>2</td>\n",
       "      <td>0.06</td>\n",
       "      <td>1.09</td>\n",
       "      <td>855</td>\n",
       "      <td>6.08</td>\n",
       "      <td>20</td>\n",
       "      <td>33.76</td>\n",
       "      <td>-9.06</td>\n",
       "      <td>262.86</td>\n",
       "      <td>9.15</td>\n",
       "      <td>6.01</td>\n",
       "      <td>-14.40</td>\n",
       "      <td>-36.32</td>\n",
       "      <td>26.25</td>\n",
       "      <td>-394.14</td>\n",
       "      <td>-6.67</td>\n",
       "      <td>0</td>\n",
       "    </tr>\n",
       "    <tr>\n",
       "      <td>3</td>\n",
       "      <td>1.80</td>\n",
       "      <td>2.04</td>\n",
       "      <td>435</td>\n",
       "      <td>1.72</td>\n",
       "      <td>20</td>\n",
       "      <td>31.96</td>\n",
       "      <td>-8.30</td>\n",
       "      <td>157.86</td>\n",
       "      <td>5.35</td>\n",
       "      <td>6.15</td>\n",
       "      <td>-17.64</td>\n",
       "      <td>-36.32</td>\n",
       "      <td>17.25</td>\n",
       "      <td>-64.14</td>\n",
       "      <td>-7.75</td>\n",
       "      <td>0</td>\n",
       "    </tr>\n",
       "    <tr>\n",
       "      <td>4</td>\n",
       "      <td>15.45</td>\n",
       "      <td>1.38</td>\n",
       "      <td>195</td>\n",
       "      <td>-8.70</td>\n",
       "      <td>2</td>\n",
       "      <td>21.10</td>\n",
       "      <td>-0.06</td>\n",
       "      <td>112.86</td>\n",
       "      <td>1.37</td>\n",
       "      <td>10.26</td>\n",
       "      <td>-27.50</td>\n",
       "      <td>-23.32</td>\n",
       "      <td>2.01</td>\n",
       "      <td>-250.14</td>\n",
       "      <td>-7.75</td>\n",
       "      <td>1</td>\n",
       "    </tr>\n",
       "  </tbody>\n",
       "</table>\n",
       "</div>"
      ],
      "text/plain": [
       "      F1    F2    F3    F4  F5     F6    F7      F8    F9    F10    F11  \\\n",
       "0  16.77  1.25  1080  4.04  20  30.36 -7.24  112.86  9.00   7.74 -15.70   \n",
       "1  12.45  1.63   156 -6.98   2  21.52  1.20  105.86  0.43  10.11 -25.06   \n",
       "2   0.06  1.09   855  6.08  20  33.76 -9.06  262.86  9.15   6.01 -14.40   \n",
       "3   1.80  2.04   435  1.72  20  31.96 -8.30  157.86  5.35   6.15 -17.64   \n",
       "4  15.45  1.38   195 -8.70   2  21.10 -0.06  112.86  1.37  10.26 -27.50   \n",
       "\n",
       "     F12    F13     F14   F15  Class  \n",
       "0 -36.32  26.10 -184.14 -7.75      0  \n",
       "1 -23.32   2.55 -208.14 -7.75      1  \n",
       "2 -36.32  26.25 -394.14 -6.67      0  \n",
       "3 -36.32  17.25  -64.14 -7.75      0  \n",
       "4 -23.32   2.01 -250.14 -7.75      1  "
      ]
     },
     "execution_count": 143,
     "metadata": {},
     "output_type": "execute_result"
    }
   ],
   "source": [
    "dropped_data_with_overall_median_svm = data_with_overall_median.drop(removed_feats.tolist(),axis=1)\n",
    "dropped_data_with_overall_median_svm.head()"
   ]
  },
  {
   "cell_type": "code",
   "execution_count": 144,
   "metadata": {
    "id": "H3G7dSsz7MjJ"
   },
   "outputs": [],
   "source": [
    "X_median_svm = dropped_data_with_overall_median_svm.iloc[:,:-1]\n",
    "y_median_svm = dropped_data_with_overall_median_svm.iloc[:,-1]"
   ]
  },
  {
   "cell_type": "code",
   "execution_count": 145,
   "metadata": {
    "id": "_rU_AFR17Ml6"
   },
   "outputs": [],
   "source": [
    "x_median_svm_train,x_median_svm_test,y_median_svm_train,y_median_svm_test = train_test_split(X_median_svm,y_median_svm,test_size=0.2,random_state=42)"
   ]
  },
  {
   "cell_type": "code",
   "execution_count": 146,
   "metadata": {
    "id": "EQV0IKxl7MoN"
   },
   "outputs": [],
   "source": [
    "# fit on training data column\n",
    "scale = StandardScaler().fit(x_median_svm_train)\n",
    "    \n",
    "# transform the training data column\n",
    "x_median_svm_train_stand = scale.transform(x_median_svm_train)\n",
    "\n",
    "# transform the testing data column\n",
    "x_median_svm_test_stand = scale.transform(x_median_svm_test)\n",
    "\n",
    "X_median_svm_stand = scale.transform(X_median_svm)\n"
   ]
  },
  {
   "cell_type": "code",
   "execution_count": 147,
   "metadata": {
    "colab": {
     "base_uri": "https://localhost:8080/"
    },
    "id": "zTXz6u8f7MrC",
    "outputId": "54868831-0ecb-44e3-9847-559c406c124d"
   },
   "outputs": [
    {
     "data": {
      "text/plain": [
       "SVC(kernel='linear')"
      ]
     },
     "execution_count": 147,
     "metadata": {},
     "output_type": "execute_result"
    }
   ],
   "source": [
    "clf = SVC(kernel='linear')\n",
    "#Train the model using the training sets\n",
    "clf.fit(x_median_svm_train_stand, y_median_svm_train)\n"
   ]
  },
  {
   "cell_type": "code",
   "execution_count": 148,
   "metadata": {
    "id": "EP94W1pD7MtN"
   },
   "outputs": [],
   "source": [
    "#Predict the response for test dataset\n",
    "y_pred = clf.predict(x_median_svm_test_stand)\n"
   ]
  },
  {
   "cell_type": "code",
   "execution_count": 149,
   "metadata": {
    "colab": {
     "base_uri": "https://localhost:8080/"
    },
    "id": "tO6KFW0K7NU6",
    "outputId": "b3cad2f1-8d3d-4760-e8f1-a50382726c7a"
   },
   "outputs": [
    {
     "name": "stdout",
     "output_type": "stream",
     "text": [
      "Accuracy: 0.8766666666666667\n",
      "Precision Score :  0.8766666666666667\n",
      "Recall Score :  0.8766666666666667\n",
      "Recall Score :  0.8764931360313781\n"
     ]
    },
    {
     "name": "stderr",
     "output_type": "stream",
     "text": [
      "C:\\Users\\ASUS\\Anaconda3\\lib\\site-packages\\sklearn\\metrics\\_classification.py:1298: UserWarning: Note that pos_label (set to 'positive') is ignored when average != 'binary' (got 'micro'). You may use labels=[pos_label] to specify a single positive class.\n",
      "  % (pos_label, average), UserWarning)\n",
      "C:\\Users\\ASUS\\Anaconda3\\lib\\site-packages\\sklearn\\metrics\\_classification.py:1298: UserWarning: Note that pos_label (set to 'positive') is ignored when average != 'binary' (got 'micro'). You may use labels=[pos_label] to specify a single positive class.\n",
      "  % (pos_label, average), UserWarning)\n"
     ]
    }
   ],
   "source": [
    "# Model Accuracy: how often is the classifier correct?\n",
    "print(\"Accuracy:\",accuracy_score(y_median_svm_test, y_pred))\n",
    "\n",
    "print(\"Precision Score : \",precision_score(y_median_svm_test, y_pred, \n",
    "                                           pos_label='positive'\n",
    "                                           ,average='micro'))\n",
    "print(\"Recall Score : \",recall_score(y_median_svm_test, y_pred, \n",
    "                                           pos_label='positive'\n",
    "                                           ,average='micro'))\n",
    "\n",
    "print(\"Recall Score : \",roc_auc_score(y_median_svm_test, y_pred))\n"
   ]
  },
  {
   "cell_type": "markdown",
   "metadata": {
    "id": "44fa16H2-sQ7"
   },
   "source": [
    "**<h4>K-Fold Validation</h4>**"
   ]
  },
  {
   "cell_type": "code",
   "execution_count": 150,
   "metadata": {
    "id": "iOUuRVAU-sgv"
   },
   "outputs": [],
   "source": [
    "clf = SVC(kernel='linear')\n",
    "kfold_validation = KFold(5)"
   ]
  },
  {
   "cell_type": "code",
   "execution_count": 151,
   "metadata": {
    "colab": {
     "base_uri": "https://localhost:8080/"
    },
    "id": "W5Jgngv27NXo",
    "outputId": "cc6e92a7-a2d4-4f31-d7f7-46a40ca6faf8"
   },
   "outputs": [
    {
     "name": "stdout",
     "output_type": "stream",
     "text": [
      "[0.89666667 0.83666667 0.83333333 0.87       0.83666667]\n",
      "0.8546666666666667\n"
     ]
    }
   ],
   "source": [
    "\n",
    "results = cross_val_score(clf,X_median_svm_stand,y_median_svm,cv=kfold_validation,n_jobs=5)\n",
    "print(results)\n",
    "print(np.mean(results))"
   ]
  },
  {
   "cell_type": "markdown",
   "metadata": {
    "id": "_1mXBdCSAyP1"
   },
   "source": [
    "**<h2>Imputting missing values using knn algorithm</h2>**"
   ]
  },
  {
   "cell_type": "code",
   "execution_count": 152,
   "metadata": {
    "colab": {
     "base_uri": "https://localhost:8080/",
     "height": 204
    },
    "id": "pCO0vQjAZcZX",
    "outputId": "3fe2daa8-7cd8-45a9-9610-877b6562ed61"
   },
   "outputs": [
    {
     "data": {
      "text/html": [
       "<div>\n",
       "<style scoped>\n",
       "    .dataframe tbody tr th:only-of-type {\n",
       "        vertical-align: middle;\n",
       "    }\n",
       "\n",
       "    .dataframe tbody tr th {\n",
       "        vertical-align: top;\n",
       "    }\n",
       "\n",
       "    .dataframe thead th {\n",
       "        text-align: right;\n",
       "    }\n",
       "</style>\n",
       "<table border=\"1\" class=\"dataframe\">\n",
       "  <thead>\n",
       "    <tr style=\"text-align: right;\">\n",
       "      <th></th>\n",
       "      <th>F1</th>\n",
       "      <th>F2</th>\n",
       "      <th>F3</th>\n",
       "      <th>F4</th>\n",
       "      <th>F5</th>\n",
       "      <th>F6</th>\n",
       "      <th>F7</th>\n",
       "      <th>F8</th>\n",
       "      <th>F9</th>\n",
       "      <th>F10</th>\n",
       "      <th>F11</th>\n",
       "      <th>F12</th>\n",
       "      <th>F13</th>\n",
       "      <th>F14</th>\n",
       "      <th>F15</th>\n",
       "      <th>Class</th>\n",
       "    </tr>\n",
       "  </thead>\n",
       "  <tbody>\n",
       "    <tr>\n",
       "      <td>0</td>\n",
       "      <td>16.77</td>\n",
       "      <td>1.25</td>\n",
       "      <td>1080</td>\n",
       "      <td>4.04</td>\n",
       "      <td>20</td>\n",
       "      <td>30.36</td>\n",
       "      <td>-7.24</td>\n",
       "      <td>112.86</td>\n",
       "      <td>9.00</td>\n",
       "      <td>7.74</td>\n",
       "      <td>-15.70</td>\n",
       "      <td>-36.32</td>\n",
       "      <td>26.10</td>\n",
       "      <td>-184.14</td>\n",
       "      <td>NaN</td>\n",
       "      <td>False</td>\n",
       "    </tr>\n",
       "    <tr>\n",
       "      <td>1</td>\n",
       "      <td>12.45</td>\n",
       "      <td>1.63</td>\n",
       "      <td>156</td>\n",
       "      <td>-6.98</td>\n",
       "      <td>2</td>\n",
       "      <td>21.52</td>\n",
       "      <td>1.20</td>\n",
       "      <td>105.86</td>\n",
       "      <td>0.43</td>\n",
       "      <td>10.11</td>\n",
       "      <td>-25.06</td>\n",
       "      <td>-23.32</td>\n",
       "      <td>2.55</td>\n",
       "      <td>-208.14</td>\n",
       "      <td>NaN</td>\n",
       "      <td>True</td>\n",
       "    </tr>\n",
       "    <tr>\n",
       "      <td>2</td>\n",
       "      <td>0.06</td>\n",
       "      <td>1.09</td>\n",
       "      <td>855</td>\n",
       "      <td>6.08</td>\n",
       "      <td>20</td>\n",
       "      <td>33.76</td>\n",
       "      <td>-9.06</td>\n",
       "      <td>262.86</td>\n",
       "      <td>9.15</td>\n",
       "      <td>6.01</td>\n",
       "      <td>-14.40</td>\n",
       "      <td>-36.32</td>\n",
       "      <td>26.25</td>\n",
       "      <td>-394.14</td>\n",
       "      <td>-6.67</td>\n",
       "      <td>False</td>\n",
       "    </tr>\n",
       "    <tr>\n",
       "      <td>3</td>\n",
       "      <td>1.80</td>\n",
       "      <td>2.04</td>\n",
       "      <td>435</td>\n",
       "      <td>1.72</td>\n",
       "      <td>20</td>\n",
       "      <td>31.96</td>\n",
       "      <td>-8.30</td>\n",
       "      <td>157.86</td>\n",
       "      <td>5.35</td>\n",
       "      <td>6.15</td>\n",
       "      <td>-17.64</td>\n",
       "      <td>-36.32</td>\n",
       "      <td>17.25</td>\n",
       "      <td>-64.14</td>\n",
       "      <td>NaN</td>\n",
       "      <td>False</td>\n",
       "    </tr>\n",
       "    <tr>\n",
       "      <td>4</td>\n",
       "      <td>15.45</td>\n",
       "      <td>1.38</td>\n",
       "      <td>195</td>\n",
       "      <td>-8.70</td>\n",
       "      <td>2</td>\n",
       "      <td>21.10</td>\n",
       "      <td>-0.06</td>\n",
       "      <td>112.86</td>\n",
       "      <td>1.37</td>\n",
       "      <td>10.26</td>\n",
       "      <td>-27.50</td>\n",
       "      <td>-23.32</td>\n",
       "      <td>2.01</td>\n",
       "      <td>-250.14</td>\n",
       "      <td>NaN</td>\n",
       "      <td>True</td>\n",
       "    </tr>\n",
       "  </tbody>\n",
       "</table>\n",
       "</div>"
      ],
      "text/plain": [
       "      F1    F2    F3    F4  F5     F6    F7      F8    F9    F10    F11  \\\n",
       "0  16.77  1.25  1080  4.04  20  30.36 -7.24  112.86  9.00   7.74 -15.70   \n",
       "1  12.45  1.63   156 -6.98   2  21.52  1.20  105.86  0.43  10.11 -25.06   \n",
       "2   0.06  1.09   855  6.08  20  33.76 -9.06  262.86  9.15   6.01 -14.40   \n",
       "3   1.80  2.04   435  1.72  20  31.96 -8.30  157.86  5.35   6.15 -17.64   \n",
       "4  15.45  1.38   195 -8.70   2  21.10 -0.06  112.86  1.37  10.26 -27.50   \n",
       "\n",
       "     F12    F13     F14   F15  Class  \n",
       "0 -36.32  26.10 -184.14   NaN  False  \n",
       "1 -23.32   2.55 -208.14   NaN   True  \n",
       "2 -36.32  26.25 -394.14 -6.67  False  \n",
       "3 -36.32  17.25  -64.14   NaN  False  \n",
       "4 -23.32   2.01 -250.14   NaN   True  "
      ]
     },
     "execution_count": 152,
     "metadata": {},
     "output_type": "execute_result"
    }
   ],
   "source": [
    "data_with_knn_imputter = data.copy()\n",
    "data_with_knn_imputter.head()"
   ]
  },
  {
   "cell_type": "code",
   "execution_count": 153,
   "metadata": {
    "colab": {
     "base_uri": "https://localhost:8080/",
     "height": 204
    },
    "id": "H-3xHVVugtCe",
    "outputId": "bb779e68-c7d9-4eb9-8130-7f84296325ed"
   },
   "outputs": [
    {
     "data": {
      "text/html": [
       "<div>\n",
       "<style scoped>\n",
       "    .dataframe tbody tr th:only-of-type {\n",
       "        vertical-align: middle;\n",
       "    }\n",
       "\n",
       "    .dataframe tbody tr th {\n",
       "        vertical-align: top;\n",
       "    }\n",
       "\n",
       "    .dataframe thead th {\n",
       "        text-align: right;\n",
       "    }\n",
       "</style>\n",
       "<table border=\"1\" class=\"dataframe\">\n",
       "  <thead>\n",
       "    <tr style=\"text-align: right;\">\n",
       "      <th></th>\n",
       "      <th>F1</th>\n",
       "      <th>F2</th>\n",
       "      <th>F3</th>\n",
       "      <th>F4</th>\n",
       "      <th>F5</th>\n",
       "      <th>F6</th>\n",
       "      <th>F7</th>\n",
       "      <th>F8</th>\n",
       "      <th>F9</th>\n",
       "      <th>F10</th>\n",
       "      <th>F11</th>\n",
       "      <th>F12</th>\n",
       "      <th>F13</th>\n",
       "      <th>F14</th>\n",
       "      <th>F15</th>\n",
       "      <th>Class</th>\n",
       "    </tr>\n",
       "  </thead>\n",
       "  <tbody>\n",
       "    <tr>\n",
       "      <td>0</td>\n",
       "      <td>16.77</td>\n",
       "      <td>1.25</td>\n",
       "      <td>1080</td>\n",
       "      <td>4.04</td>\n",
       "      <td>20</td>\n",
       "      <td>30.36</td>\n",
       "      <td>-7.24</td>\n",
       "      <td>112.86</td>\n",
       "      <td>9.00</td>\n",
       "      <td>7.74</td>\n",
       "      <td>-15.70</td>\n",
       "      <td>-36.32</td>\n",
       "      <td>26.10</td>\n",
       "      <td>-184.14</td>\n",
       "      <td>NaN</td>\n",
       "      <td>0</td>\n",
       "    </tr>\n",
       "    <tr>\n",
       "      <td>1</td>\n",
       "      <td>12.45</td>\n",
       "      <td>1.63</td>\n",
       "      <td>156</td>\n",
       "      <td>-6.98</td>\n",
       "      <td>2</td>\n",
       "      <td>21.52</td>\n",
       "      <td>1.20</td>\n",
       "      <td>105.86</td>\n",
       "      <td>0.43</td>\n",
       "      <td>10.11</td>\n",
       "      <td>-25.06</td>\n",
       "      <td>-23.32</td>\n",
       "      <td>2.55</td>\n",
       "      <td>-208.14</td>\n",
       "      <td>NaN</td>\n",
       "      <td>1</td>\n",
       "    </tr>\n",
       "    <tr>\n",
       "      <td>2</td>\n",
       "      <td>0.06</td>\n",
       "      <td>1.09</td>\n",
       "      <td>855</td>\n",
       "      <td>6.08</td>\n",
       "      <td>20</td>\n",
       "      <td>33.76</td>\n",
       "      <td>-9.06</td>\n",
       "      <td>262.86</td>\n",
       "      <td>9.15</td>\n",
       "      <td>6.01</td>\n",
       "      <td>-14.40</td>\n",
       "      <td>-36.32</td>\n",
       "      <td>26.25</td>\n",
       "      <td>-394.14</td>\n",
       "      <td>-6.67</td>\n",
       "      <td>0</td>\n",
       "    </tr>\n",
       "    <tr>\n",
       "      <td>3</td>\n",
       "      <td>1.80</td>\n",
       "      <td>2.04</td>\n",
       "      <td>435</td>\n",
       "      <td>1.72</td>\n",
       "      <td>20</td>\n",
       "      <td>31.96</td>\n",
       "      <td>-8.30</td>\n",
       "      <td>157.86</td>\n",
       "      <td>5.35</td>\n",
       "      <td>6.15</td>\n",
       "      <td>-17.64</td>\n",
       "      <td>-36.32</td>\n",
       "      <td>17.25</td>\n",
       "      <td>-64.14</td>\n",
       "      <td>NaN</td>\n",
       "      <td>0</td>\n",
       "    </tr>\n",
       "    <tr>\n",
       "      <td>4</td>\n",
       "      <td>15.45</td>\n",
       "      <td>1.38</td>\n",
       "      <td>195</td>\n",
       "      <td>-8.70</td>\n",
       "      <td>2</td>\n",
       "      <td>21.10</td>\n",
       "      <td>-0.06</td>\n",
       "      <td>112.86</td>\n",
       "      <td>1.37</td>\n",
       "      <td>10.26</td>\n",
       "      <td>-27.50</td>\n",
       "      <td>-23.32</td>\n",
       "      <td>2.01</td>\n",
       "      <td>-250.14</td>\n",
       "      <td>NaN</td>\n",
       "      <td>1</td>\n",
       "    </tr>\n",
       "  </tbody>\n",
       "</table>\n",
       "</div>"
      ],
      "text/plain": [
       "      F1    F2    F3    F4  F5     F6    F7      F8    F9    F10    F11  \\\n",
       "0  16.77  1.25  1080  4.04  20  30.36 -7.24  112.86  9.00   7.74 -15.70   \n",
       "1  12.45  1.63   156 -6.98   2  21.52  1.20  105.86  0.43  10.11 -25.06   \n",
       "2   0.06  1.09   855  6.08  20  33.76 -9.06  262.86  9.15   6.01 -14.40   \n",
       "3   1.80  2.04   435  1.72  20  31.96 -8.30  157.86  5.35   6.15 -17.64   \n",
       "4  15.45  1.38   195 -8.70   2  21.10 -0.06  112.86  1.37  10.26 -27.50   \n",
       "\n",
       "     F12    F13     F14   F15  Class  \n",
       "0 -36.32  26.10 -184.14   NaN      0  \n",
       "1 -23.32   2.55 -208.14   NaN      1  \n",
       "2 -36.32  26.25 -394.14 -6.67      0  \n",
       "3 -36.32  17.25  -64.14   NaN      0  \n",
       "4 -23.32   2.01 -250.14   NaN      1  "
      ]
     },
     "execution_count": 153,
     "metadata": {},
     "output_type": "execute_result"
    }
   ],
   "source": [
    "le = LabelEncoder()\n",
    "data_with_knn_imputter['Class'] = le.fit_transform(data_with_knn_imputter['Class'])\n",
    "data_with_knn_imputter.head()"
   ]
  },
  {
   "cell_type": "code",
   "execution_count": 154,
   "metadata": {
    "id": "iiDUCyHYYdMl"
   },
   "outputs": [],
   "source": [
    "from sklearn.impute import KNNImputer\n",
    "imputter = KNNImputer(n_neighbors=30)\n",
    "filled_values = imputter.fit_transform(data_with_knn_imputter)"
   ]
  },
  {
   "cell_type": "code",
   "execution_count": 155,
   "metadata": {
    "colab": {
     "base_uri": "https://localhost:8080/",
     "height": 204
    },
    "id": "Xy4Ft_5BdpZn",
    "outputId": "f57f09a5-627c-4189-b3c3-66a2d0f9e630"
   },
   "outputs": [
    {
     "data": {
      "text/html": [
       "<div>\n",
       "<style scoped>\n",
       "    .dataframe tbody tr th:only-of-type {\n",
       "        vertical-align: middle;\n",
       "    }\n",
       "\n",
       "    .dataframe tbody tr th {\n",
       "        vertical-align: top;\n",
       "    }\n",
       "\n",
       "    .dataframe thead th {\n",
       "        text-align: right;\n",
       "    }\n",
       "</style>\n",
       "<table border=\"1\" class=\"dataframe\">\n",
       "  <thead>\n",
       "    <tr style=\"text-align: right;\">\n",
       "      <th></th>\n",
       "      <th>F1</th>\n",
       "      <th>F2</th>\n",
       "      <th>F3</th>\n",
       "      <th>F4</th>\n",
       "      <th>F5</th>\n",
       "      <th>F6</th>\n",
       "      <th>F7</th>\n",
       "      <th>F8</th>\n",
       "      <th>F9</th>\n",
       "      <th>F10</th>\n",
       "      <th>F11</th>\n",
       "      <th>F12</th>\n",
       "      <th>F13</th>\n",
       "      <th>F14</th>\n",
       "      <th>F15</th>\n",
       "      <th>Class</th>\n",
       "    </tr>\n",
       "  </thead>\n",
       "  <tbody>\n",
       "    <tr>\n",
       "      <td>0</td>\n",
       "      <td>16.77</td>\n",
       "      <td>1.25</td>\n",
       "      <td>1080.0</td>\n",
       "      <td>4.04</td>\n",
       "      <td>20.0</td>\n",
       "      <td>30.36</td>\n",
       "      <td>-7.24</td>\n",
       "      <td>112.86</td>\n",
       "      <td>9.00</td>\n",
       "      <td>7.74</td>\n",
       "      <td>-15.70</td>\n",
       "      <td>-36.32</td>\n",
       "      <td>26.10</td>\n",
       "      <td>-184.14</td>\n",
       "      <td>-7.632333</td>\n",
       "      <td>0.0</td>\n",
       "    </tr>\n",
       "    <tr>\n",
       "      <td>1</td>\n",
       "      <td>12.45</td>\n",
       "      <td>1.63</td>\n",
       "      <td>156.0</td>\n",
       "      <td>-6.98</td>\n",
       "      <td>2.0</td>\n",
       "      <td>21.52</td>\n",
       "      <td>1.20</td>\n",
       "      <td>105.86</td>\n",
       "      <td>0.43</td>\n",
       "      <td>10.11</td>\n",
       "      <td>-25.06</td>\n",
       "      <td>-23.32</td>\n",
       "      <td>2.55</td>\n",
       "      <td>-208.14</td>\n",
       "      <td>-8.087333</td>\n",
       "      <td>1.0</td>\n",
       "    </tr>\n",
       "    <tr>\n",
       "      <td>2</td>\n",
       "      <td>0.06</td>\n",
       "      <td>1.09</td>\n",
       "      <td>855.0</td>\n",
       "      <td>6.08</td>\n",
       "      <td>20.0</td>\n",
       "      <td>33.76</td>\n",
       "      <td>-9.06</td>\n",
       "      <td>262.86</td>\n",
       "      <td>9.15</td>\n",
       "      <td>6.01</td>\n",
       "      <td>-14.40</td>\n",
       "      <td>-36.32</td>\n",
       "      <td>26.25</td>\n",
       "      <td>-394.14</td>\n",
       "      <td>-6.670000</td>\n",
       "      <td>0.0</td>\n",
       "    </tr>\n",
       "    <tr>\n",
       "      <td>3</td>\n",
       "      <td>1.80</td>\n",
       "      <td>2.04</td>\n",
       "      <td>435.0</td>\n",
       "      <td>1.72</td>\n",
       "      <td>20.0</td>\n",
       "      <td>31.96</td>\n",
       "      <td>-8.30</td>\n",
       "      <td>157.86</td>\n",
       "      <td>5.35</td>\n",
       "      <td>6.15</td>\n",
       "      <td>-17.64</td>\n",
       "      <td>-36.32</td>\n",
       "      <td>17.25</td>\n",
       "      <td>-64.14</td>\n",
       "      <td>-7.486000</td>\n",
       "      <td>0.0</td>\n",
       "    </tr>\n",
       "    <tr>\n",
       "      <td>4</td>\n",
       "      <td>15.45</td>\n",
       "      <td>1.38</td>\n",
       "      <td>195.0</td>\n",
       "      <td>-8.70</td>\n",
       "      <td>2.0</td>\n",
       "      <td>21.10</td>\n",
       "      <td>-0.06</td>\n",
       "      <td>112.86</td>\n",
       "      <td>1.37</td>\n",
       "      <td>10.26</td>\n",
       "      <td>-27.50</td>\n",
       "      <td>-23.32</td>\n",
       "      <td>2.01</td>\n",
       "      <td>-250.14</td>\n",
       "      <td>-7.991000</td>\n",
       "      <td>1.0</td>\n",
       "    </tr>\n",
       "  </tbody>\n",
       "</table>\n",
       "</div>"
      ],
      "text/plain": [
       "      F1    F2      F3    F4    F5     F6    F7      F8    F9    F10    F11  \\\n",
       "0  16.77  1.25  1080.0  4.04  20.0  30.36 -7.24  112.86  9.00   7.74 -15.70   \n",
       "1  12.45  1.63   156.0 -6.98   2.0  21.52  1.20  105.86  0.43  10.11 -25.06   \n",
       "2   0.06  1.09   855.0  6.08  20.0  33.76 -9.06  262.86  9.15   6.01 -14.40   \n",
       "3   1.80  2.04   435.0  1.72  20.0  31.96 -8.30  157.86  5.35   6.15 -17.64   \n",
       "4  15.45  1.38   195.0 -8.70   2.0  21.10 -0.06  112.86  1.37  10.26 -27.50   \n",
       "\n",
       "     F12    F13     F14       F15  Class  \n",
       "0 -36.32  26.10 -184.14 -7.632333    0.0  \n",
       "1 -23.32   2.55 -208.14 -8.087333    1.0  \n",
       "2 -36.32  26.25 -394.14 -6.670000    0.0  \n",
       "3 -36.32  17.25  -64.14 -7.486000    0.0  \n",
       "4 -23.32   2.01 -250.14 -7.991000    1.0  "
      ]
     },
     "execution_count": 155,
     "metadata": {},
     "output_type": "execute_result"
    }
   ],
   "source": [
    "columns = data.columns.tolist()\n",
    "data_with_knn_filled = pd.DataFrame(data=filled_values,columns=columns)\n",
    "data_with_knn_filled.head() "
   ]
  },
  {
   "cell_type": "code",
   "execution_count": 156,
   "metadata": {
    "id": "INi_NtJHfPQH"
   },
   "outputs": [],
   "source": [
    "X_knn = data_with_knn_filled.iloc[:,:-1]\n",
    "y_knn = data_with_knn_filled.iloc[:,-1]"
   ]
  },
  {
   "cell_type": "code",
   "execution_count": 157,
   "metadata": {
    "id": "Y-ruyA62g9nA"
   },
   "outputs": [],
   "source": [
    "x_knn_train,x_knn_test,y_knn_train,y_knn_test = train_test_split(X_knn,y_knn,test_size=0.2,random_state=42)"
   ]
  },
  {
   "cell_type": "markdown",
   "metadata": {
    "id": "mMOpOsHmpANn"
   },
   "source": [
    "\n",
    "**<h2>Implementing Decision Tree Algorithm after Imputting the missing values using KNN algorithm</h2>**"
   ]
  },
  {
   "cell_type": "code",
   "execution_count": 158,
   "metadata": {
    "colab": {
     "base_uri": "https://localhost:8080/"
    },
    "id": "keqpahsEhAwL",
    "outputId": "268c4dc1-9a67-45a9-dc1d-a110bf2567ef"
   },
   "outputs": [
    {
     "data": {
      "text/plain": [
       "DecisionTreeClassifier()"
      ]
     },
     "execution_count": 158,
     "metadata": {},
     "output_type": "execute_result"
    }
   ],
   "source": [
    "clf = DecisionTreeClassifier()\n",
    "#Train the model using the training sets\n",
    "clf.fit(x_knn_train,y_knn_train)"
   ]
  },
  {
   "cell_type": "code",
   "execution_count": 159,
   "metadata": {
    "id": "UjbQAdpdhCVp"
   },
   "outputs": [],
   "source": [
    "#Predict the response for test dataset\n",
    "y_pred = clf.predict(x_knn_test)"
   ]
  },
  {
   "cell_type": "code",
   "execution_count": 160,
   "metadata": {
    "colab": {
     "base_uri": "https://localhost:8080/"
    },
    "id": "b5j9hfj_hG31",
    "outputId": "359bdc43-92f6-4730-fe76-b11b48d15ba4"
   },
   "outputs": [
    {
     "name": "stdout",
     "output_type": "stream",
     "text": [
      "Accuracy: 0.8066666666666666\n",
      "Precision Score :  0.8066666666666666\n",
      "Recall Score :  0.8066666666666666\n",
      "Recall Score :  0.8061151720449278\n"
     ]
    },
    {
     "name": "stderr",
     "output_type": "stream",
     "text": [
      "C:\\Users\\ASUS\\Anaconda3\\lib\\site-packages\\sklearn\\metrics\\_classification.py:1298: UserWarning: Note that pos_label (set to 'positive') is ignored when average != 'binary' (got 'micro'). You may use labels=[pos_label] to specify a single positive class.\n",
      "  % (pos_label, average), UserWarning)\n",
      "C:\\Users\\ASUS\\Anaconda3\\lib\\site-packages\\sklearn\\metrics\\_classification.py:1298: UserWarning: Note that pos_label (set to 'positive') is ignored when average != 'binary' (got 'micro'). You may use labels=[pos_label] to specify a single positive class.\n",
      "  % (pos_label, average), UserWarning)\n"
     ]
    }
   ],
   "source": [
    "# Model Accuracy: how often is the classifier correct?\n",
    "print(\"Accuracy:\",accuracy_score(y_knn_test,y_pred))\n",
    "\n",
    "print(\"Precision Score : \",precision_score(y_knn_test,y_pred, \n",
    "                                           pos_label='positive'\n",
    "                                           ,average='micro'))\n",
    "print(\"Recall Score : \",recall_score(y_knn_test,y_pred, \n",
    "                                           pos_label='positive'\n",
    "                                           ,average='micro'))\n",
    "\n",
    "print(\"Recall Score : \",roc_auc_score(y_knn_test,y_pred))"
   ]
  },
  {
   "cell_type": "code",
   "execution_count": 161,
   "metadata": {
    "colab": {
     "base_uri": "https://localhost:8080/",
     "height": 520
    },
    "id": "8OUb6egw7lVR",
    "outputId": "0543e5ca-2c08-420d-e779-6f82e5229a87"
   },
   "outputs": [
    {
     "name": "stdout",
     "output_type": "stream",
     "text": [
      "Feature: 0, Score: 0.03954\n",
      "Feature: 1, Score: 0.06757\n",
      "Feature: 2, Score: 0.04820\n",
      "Feature: 3, Score: 0.05204\n",
      "Feature: 4, Score: 0.00294\n",
      "Feature: 5, Score: 0.15422\n",
      "Feature: 6, Score: 0.01653\n",
      "Feature: 7, Score: 0.06640\n",
      "Feature: 8, Score: 0.04532\n",
      "Feature: 9, Score: 0.03521\n",
      "Feature: 10, Score: 0.02988\n",
      "Feature: 11, Score: 0.00186\n",
      "Feature: 12, Score: 0.08580\n",
      "Feature: 13, Score: 0.02928\n",
      "Feature: 14, Score: 0.32521\n"
     ]
    },
    {
     "data": {
      "image/png": "[encoded data removed]",
      "text/plain": [
       "<Figure size 432x288 with 1 Axes>"
      ]
     },
     "metadata": {
      "needs_background": "light"
     },
     "output_type": "display_data"
    }
   ],
   "source": [
    "importance = clf.feature_importances_\n",
    "# summarize feature importance\n",
    "for i,v in enumerate(importance):\n",
    "\tprint('Feature: %0d, Score: %.5f' % (i,v))\n",
    "# plot feature importance\n",
    "plt.bar([x for x in range(len(importance))], importance)\n",
    "plt.show()"
   ]
  },
  {
   "cell_type": "markdown",
   "metadata": {
    "id": "_oR5iB8ikWpU"
   },
   "source": [
    "**<h4>K-Fold Cross Validation</h4>**"
   ]
  },
  {
   "cell_type": "code",
   "execution_count": 162,
   "metadata": {
    "id": "2KH9358khQso"
   },
   "outputs": [],
   "source": [
    "clf = DecisionTreeClassifier()\n",
    "kfold_validation = KFold(5)"
   ]
  },
  {
   "cell_type": "code",
   "execution_count": 163,
   "metadata": {
    "colab": {
     "base_uri": "https://localhost:8080/"
    },
    "id": "yWTfLfiZkbuz",
    "outputId": "363a3e03-c778-4ef7-fc55-f13b76a5c643"
   },
   "outputs": [
    {
     "name": "stdout",
     "output_type": "stream",
     "text": [
      "[0.79333333 0.77666667 0.79       0.80666667 0.77      ]\n",
      "0.7873333333333333\n"
     ]
    }
   ],
   "source": [
    "results = cross_val_score(clf,X_knn,y_knn,cv=kfold_validation)\n",
    "print(results)\n",
    "print(np.mean(results))"
   ]
  },
  {
   "cell_type": "markdown",
   "metadata": {
    "id": "t37z006tmT5v"
   },
   "source": [
    "\n",
    "**<h2>Implementing Random Forest Algorithm after Imputting the missing values using KNN algorithm</h2>**"
   ]
  },
  {
   "cell_type": "code",
   "execution_count": 164,
   "metadata": {
    "colab": {
     "base_uri": "https://localhost:8080/"
    },
    "id": "v184UmQElSJ2",
    "outputId": "47e5c446-2786-4ea9-ca16-a5229cfdeb5a"
   },
   "outputs": [
    {
     "data": {
      "text/plain": [
       "RandomForestClassifier()"
      ]
     },
     "execution_count": 164,
     "metadata": {},
     "output_type": "execute_result"
    }
   ],
   "source": [
    "clf = RandomForestClassifier()\n",
    "#Train the model using the training sets\n",
    "clf.fit(x_knn_train,y_knn_train)"
   ]
  },
  {
   "cell_type": "code",
   "execution_count": 165,
   "metadata": {
    "id": "rXSexp-ZqwNJ"
   },
   "outputs": [],
   "source": [
    "#Predict the response for test dataset\n",
    "y_pred = clf.predict(x_knn_test)"
   ]
  },
  {
   "cell_type": "code",
   "execution_count": 166,
   "metadata": {
    "colab": {
     "base_uri": "https://localhost:8080/"
    },
    "id": "b6K_Msk4qwPy",
    "outputId": "61799056-f6f5-47df-b976-5a6ded8666c1"
   },
   "outputs": [
    {
     "name": "stdout",
     "output_type": "stream",
     "text": [
      "Accuracy: 0.89\n",
      "Precision Score :  0.89\n",
      "Recall Score :  0.89\n",
      "Recall Score :  0.8898645034765555\n"
     ]
    },
    {
     "name": "stderr",
     "output_type": "stream",
     "text": [
      "C:\\Users\\ASUS\\Anaconda3\\lib\\site-packages\\sklearn\\metrics\\_classification.py:1298: UserWarning: Note that pos_label (set to 'positive') is ignored when average != 'binary' (got 'micro'). You may use labels=[pos_label] to specify a single positive class.\n",
      "  % (pos_label, average), UserWarning)\n",
      "C:\\Users\\ASUS\\Anaconda3\\lib\\site-packages\\sklearn\\metrics\\_classification.py:1298: UserWarning: Note that pos_label (set to 'positive') is ignored when average != 'binary' (got 'micro'). You may use labels=[pos_label] to specify a single positive class.\n",
      "  % (pos_label, average), UserWarning)\n"
     ]
    }
   ],
   "source": [
    "# Model Accuracy: how often is the classifier correct?\n",
    "print(\"Accuracy:\",accuracy_score(y_knn_test, y_pred))\n",
    "\n",
    "print(\"Precision Score : \",precision_score(y_knn_test, y_pred, \n",
    "                                           pos_label='positive'\n",
    "                                           ,average='micro'))\n",
    "print(\"Recall Score : \",recall_score(y_knn_test, y_pred, \n",
    "                                           pos_label='positive'\n",
    "                                           ,average='micro'))\n",
    "\n",
    "print(\"Recall Score : \",roc_auc_score(y_knn_test, y_pred))"
   ]
  },
  {
   "cell_type": "code",
   "execution_count": 167,
   "metadata": {
    "colab": {
     "base_uri": "https://localhost:8080/",
     "height": 520
    },
    "id": "U7IzuFRf7yNV",
    "outputId": "64869f7c-b67b-4b9b-c29e-e5f31c88c172"
   },
   "outputs": [
    {
     "name": "stdout",
     "output_type": "stream",
     "text": [
      "Feature: 0, Score: 0.06218\n",
      "Feature: 1, Score: 0.05762\n",
      "Feature: 2, Score: 0.03992\n",
      "Feature: 3, Score: 0.07034\n",
      "Feature: 4, Score: 0.01135\n",
      "Feature: 5, Score: 0.13646\n",
      "Feature: 6, Score: 0.05107\n",
      "Feature: 7, Score: 0.06578\n",
      "Feature: 8, Score: 0.04624\n",
      "Feature: 9, Score: 0.05116\n",
      "Feature: 10, Score: 0.05294\n",
      "Feature: 11, Score: 0.01873\n",
      "Feature: 12, Score: 0.07416\n",
      "Feature: 13, Score: 0.03582\n",
      "Feature: 14, Score: 0.22624\n"
     ]
    },
    {
     "data": {
      "image/png": "[encoded data removed]",
      "text/plain": [
       "<Figure size 432x288 with 1 Axes>"
      ]
     },
     "metadata": {
      "needs_background": "light"
     },
     "output_type": "display_data"
    }
   ],
   "source": [
    "importance = clf.feature_importances_\n",
    "# summarize feature importance\n",
    "for i,v in enumerate(importance):\n",
    "\tprint('Feature: %0d, Score: %.5f' % (i,v))\n",
    "# plot feature importance\n",
    "plt.bar([x for x in range(len(importance))], importance)\n",
    "plt.show()"
   ]
  },
  {
   "cell_type": "markdown",
   "metadata": {
    "id": "7xM64Cywq2la"
   },
   "source": [
    "**<h4>K-Fold Cross Validation</h4>**"
   ]
  },
  {
   "cell_type": "code",
   "execution_count": 168,
   "metadata": {
    "id": "vuYhmM9sqwT8"
   },
   "outputs": [],
   "source": [
    "clf = RandomForestClassifier()\n",
    "kfold_validation = KFold(5)"
   ]
  },
  {
   "cell_type": "code",
   "execution_count": 169,
   "metadata": {
    "colab": {
     "base_uri": "https://localhost:8080/"
    },
    "id": "sFW2bcbyq8YL",
    "outputId": "cc048a9c-c644-4e45-ae00-fb586f346442"
   },
   "outputs": [
    {
     "name": "stdout",
     "output_type": "stream",
     "text": [
      "[0.89       0.84       0.84       0.9        0.86333333]\n",
      "0.8666666666666666\n"
     ]
    }
   ],
   "source": [
    "results = cross_val_score(clf,X_knn,y_knn,cv=kfold_validation)\n",
    "print(results)\n",
    "print(np.mean(results))"
   ]
  },
  {
   "cell_type": "markdown",
   "metadata": {
    "id": "QVkiN1ZfIVmC"
   },
   "source": [
    "**<h4>Feature Scaling Using Standardization </h4>**"
   ]
  },
  {
   "cell_type": "code",
   "execution_count": 170,
   "metadata": {
    "id": "-RamCq8AIWDd"
   },
   "outputs": [],
   "source": [
    "# fit on training data column\n",
    "scale = StandardScaler().fit(x_knn_train)\n",
    "    \n",
    "# transform the training data column\n",
    "x_knn_train_stand = scale.transform(x_knn_train)\n",
    "\n",
    "# transform the testing data column\n",
    "x_knn_test_stand = scale.transform(x_knn_test)"
   ]
  },
  {
   "cell_type": "markdown",
   "metadata": {
    "id": "yiMiLTuaHCl6"
   },
   "source": [
    "\n",
    "\n",
    "\n",
    "\n",
    "**<h2>Implementing Logistic Regression Algorithm after Imputting missing values with KNN</h2>**\n",
    "\n",
    "**<h4>Feature Selection Using Lasso Regression In Logistic Regression Algorithm</h4>**"
   ]
  },
  {
   "cell_type": "code",
   "execution_count": 171,
   "metadata": {
    "colab": {
     "base_uri": "https://localhost:8080/"
    },
    "id": "qsmk-lo6HDsN",
    "outputId": "61c5efa3-8b5a-4c65-eee2-ef4ac6385724"
   },
   "outputs": [
    {
     "data": {
      "text/plain": [
       "SelectFromModel(estimator=LogisticRegression(C=0.1, penalty='l1',\n",
       "                                             solver='liblinear'))"
      ]
     },
     "execution_count": 171,
     "metadata": {},
     "output_type": "execute_result"
    }
   ],
   "source": [
    "sel_ = SelectFromModel(LogisticRegression(C=0.1, penalty='l1',solver='liblinear'))\n",
    "sel_.fit(x_knn_train_stand,y_knn_train)\n",
    "\n",
    "\n",
    "\n"
   ]
  },
  {
   "cell_type": "code",
   "execution_count": 172,
   "metadata": {
    "colab": {
     "base_uri": "https://localhost:8080/"
    },
    "id": "S6qKKpi-HDvS",
    "outputId": "546bf960-2b86-4b79-b7dd-7d75079674fc"
   },
   "outputs": [
    {
     "data": {
      "text/plain": [
       "array([ True,  True,  True,  True,  True,  True, False,  True, False,\n",
       "        True,  True, False,  True,  True,  True])"
      ]
     },
     "execution_count": 172,
     "metadata": {},
     "output_type": "execute_result"
    }
   ],
   "source": [
    "sel_.get_support()\n",
    "\n",
    "\n",
    "\n"
   ]
  },
  {
   "cell_type": "code",
   "execution_count": 173,
   "metadata": {
    "colab": {
     "base_uri": "https://localhost:8080/"
    },
    "id": "6W21mvIlHDzv",
    "outputId": "9ffcfc16-675c-48ce-a4e0-2ec6dd785771"
   },
   "outputs": [
    {
     "name": "stdout",
     "output_type": "stream",
     "text": [
      "total features: 15\n",
      "selected features: 12\n",
      "features with coefficients shrank to zero: 3\n"
     ]
    }
   ],
   "source": [
    "selected_feat = X_knn.columns[(sel_.get_support())]\n",
    "print('total features: {}'.format((x_knn_train_stand.shape[1])))\n",
    "print('selected features: {}'.format(len(selected_feat)))\n",
    "print('features with coefficients shrank to zero: {}'.format(\n",
    "      np.sum(sel_.estimator_.coef_ == 0)))\n",
    "\n",
    "\n",
    "\n",
    "\n"
   ]
  },
  {
   "cell_type": "code",
   "execution_count": 174,
   "metadata": {
    "colab": {
     "base_uri": "https://localhost:8080/"
    },
    "id": "kAlTu7PtHD28",
    "outputId": "e5ed60a6-b562-43b1-b1ed-01547a9cb7c4"
   },
   "outputs": [
    {
     "data": {
      "text/plain": [
       "3"
      ]
     },
     "execution_count": 174,
     "metadata": {},
     "output_type": "execute_result"
    }
   ],
   "source": [
    "np.sum(sel_.estimator_.coef_ == 0)"
   ]
  },
  {
   "cell_type": "code",
   "execution_count": 175,
   "metadata": {
    "colab": {
     "base_uri": "https://localhost:8080/"
    },
    "id": "hf_5MK3RKLEz",
    "outputId": "786bf380-eed6-4e72-f6f2-4b27865a0c05"
   },
   "outputs": [
    {
     "data": {
      "text/plain": [
       "Index(['F7', 'F9', 'F12'], dtype='object')"
      ]
     },
     "execution_count": 175,
     "metadata": {},
     "output_type": "execute_result"
    }
   ],
   "source": [
    "removed_feats = X_knn.columns[(sel_.estimator_.coef_ == 0).ravel().tolist()]\n",
    "removed_feats"
   ]
  },
  {
   "cell_type": "code",
   "execution_count": 176,
   "metadata": {
    "colab": {
     "base_uri": "https://localhost:8080/",
     "height": 204
    },
    "id": "lDTLR3rvKLJc",
    "outputId": "168d87ba-6fb8-4bf5-cd68-ad1f3087ed9a"
   },
   "outputs": [
    {
     "data": {
      "text/html": [
       "<div>\n",
       "<style scoped>\n",
       "    .dataframe tbody tr th:only-of-type {\n",
       "        vertical-align: middle;\n",
       "    }\n",
       "\n",
       "    .dataframe tbody tr th {\n",
       "        vertical-align: top;\n",
       "    }\n",
       "\n",
       "    .dataframe thead th {\n",
       "        text-align: right;\n",
       "    }\n",
       "</style>\n",
       "<table border=\"1\" class=\"dataframe\">\n",
       "  <thead>\n",
       "    <tr style=\"text-align: right;\">\n",
       "      <th></th>\n",
       "      <th>F1</th>\n",
       "      <th>F2</th>\n",
       "      <th>F3</th>\n",
       "      <th>F4</th>\n",
       "      <th>F5</th>\n",
       "      <th>F6</th>\n",
       "      <th>F8</th>\n",
       "      <th>F10</th>\n",
       "      <th>F11</th>\n",
       "      <th>F13</th>\n",
       "      <th>F14</th>\n",
       "      <th>F15</th>\n",
       "      <th>Class</th>\n",
       "    </tr>\n",
       "  </thead>\n",
       "  <tbody>\n",
       "    <tr>\n",
       "      <td>0</td>\n",
       "      <td>16.77</td>\n",
       "      <td>1.25</td>\n",
       "      <td>1080.0</td>\n",
       "      <td>4.04</td>\n",
       "      <td>20.0</td>\n",
       "      <td>30.36</td>\n",
       "      <td>112.86</td>\n",
       "      <td>7.74</td>\n",
       "      <td>-15.70</td>\n",
       "      <td>26.10</td>\n",
       "      <td>-184.14</td>\n",
       "      <td>-7.632333</td>\n",
       "      <td>0.0</td>\n",
       "    </tr>\n",
       "    <tr>\n",
       "      <td>1</td>\n",
       "      <td>12.45</td>\n",
       "      <td>1.63</td>\n",
       "      <td>156.0</td>\n",
       "      <td>-6.98</td>\n",
       "      <td>2.0</td>\n",
       "      <td>21.52</td>\n",
       "      <td>105.86</td>\n",
       "      <td>10.11</td>\n",
       "      <td>-25.06</td>\n",
       "      <td>2.55</td>\n",
       "      <td>-208.14</td>\n",
       "      <td>-8.087333</td>\n",
       "      <td>1.0</td>\n",
       "    </tr>\n",
       "    <tr>\n",
       "      <td>2</td>\n",
       "      <td>0.06</td>\n",
       "      <td>1.09</td>\n",
       "      <td>855.0</td>\n",
       "      <td>6.08</td>\n",
       "      <td>20.0</td>\n",
       "      <td>33.76</td>\n",
       "      <td>262.86</td>\n",
       "      <td>6.01</td>\n",
       "      <td>-14.40</td>\n",
       "      <td>26.25</td>\n",
       "      <td>-394.14</td>\n",
       "      <td>-6.670000</td>\n",
       "      <td>0.0</td>\n",
       "    </tr>\n",
       "    <tr>\n",
       "      <td>3</td>\n",
       "      <td>1.80</td>\n",
       "      <td>2.04</td>\n",
       "      <td>435.0</td>\n",
       "      <td>1.72</td>\n",
       "      <td>20.0</td>\n",
       "      <td>31.96</td>\n",
       "      <td>157.86</td>\n",
       "      <td>6.15</td>\n",
       "      <td>-17.64</td>\n",
       "      <td>17.25</td>\n",
       "      <td>-64.14</td>\n",
       "      <td>-7.486000</td>\n",
       "      <td>0.0</td>\n",
       "    </tr>\n",
       "    <tr>\n",
       "      <td>4</td>\n",
       "      <td>15.45</td>\n",
       "      <td>1.38</td>\n",
       "      <td>195.0</td>\n",
       "      <td>-8.70</td>\n",
       "      <td>2.0</td>\n",
       "      <td>21.10</td>\n",
       "      <td>112.86</td>\n",
       "      <td>10.26</td>\n",
       "      <td>-27.50</td>\n",
       "      <td>2.01</td>\n",
       "      <td>-250.14</td>\n",
       "      <td>-7.991000</td>\n",
       "      <td>1.0</td>\n",
       "    </tr>\n",
       "  </tbody>\n",
       "</table>\n",
       "</div>"
      ],
      "text/plain": [
       "      F1    F2      F3    F4    F5     F6      F8    F10    F11    F13  \\\n",
       "0  16.77  1.25  1080.0  4.04  20.0  30.36  112.86   7.74 -15.70  26.10   \n",
       "1  12.45  1.63   156.0 -6.98   2.0  21.52  105.86  10.11 -25.06   2.55   \n",
       "2   0.06  1.09   855.0  6.08  20.0  33.76  262.86   6.01 -14.40  26.25   \n",
       "3   1.80  2.04   435.0  1.72  20.0  31.96  157.86   6.15 -17.64  17.25   \n",
       "4  15.45  1.38   195.0 -8.70   2.0  21.10  112.86  10.26 -27.50   2.01   \n",
       "\n",
       "      F14       F15  Class  \n",
       "0 -184.14 -7.632333    0.0  \n",
       "1 -208.14 -8.087333    1.0  \n",
       "2 -394.14 -6.670000    0.0  \n",
       "3  -64.14 -7.486000    0.0  \n",
       "4 -250.14 -7.991000    1.0  "
      ]
     },
     "execution_count": 176,
     "metadata": {},
     "output_type": "execute_result"
    }
   ],
   "source": [
    "dropped_data_with_knn_filled_lr = data_with_knn_filled.drop(removed_feats.tolist(),axis=1)\n",
    "dropped_data_with_knn_filled_lr.head()"
   ]
  },
  {
   "cell_type": "code",
   "execution_count": 177,
   "metadata": {
    "id": "rHR3poZjKLNB"
   },
   "outputs": [],
   "source": [
    "X_knn_lr = dropped_data_with_knn_filled_lr.iloc[:,:-1]\n",
    "y_knn_lr = dropped_data_with_knn_filled_lr.iloc[:,-1]"
   ]
  },
  {
   "cell_type": "code",
   "execution_count": 178,
   "metadata": {
    "id": "zPA8uBkKKLRs"
   },
   "outputs": [],
   "source": [
    "x_knn_lr_train,x_knn_lr_test,y_knn_lr_train,y_knn_lr_test = train_test_split(X_knn_lr,y_knn_lr,test_size=0.2,random_state=42)"
   ]
  },
  {
   "cell_type": "code",
   "execution_count": 179,
   "metadata": {
    "id": "PXzcuXsIHD7P"
   },
   "outputs": [],
   "source": [
    "# fit on training data column\n",
    "scale = StandardScaler().fit(x_knn_lr_train)\n",
    "    \n",
    "# transform the training data column\n",
    "x_knn_lr_train_stand = scale.transform(x_knn_lr_train)\n",
    "\n",
    "# transform the testing data column\n",
    "x_knn_lr_test_stand = scale.transform(x_knn_lr_test)\n",
    "\n",
    "X_knn_lr_stand = scale.transform(X_knn_lr)\n",
    "\n"
   ]
  },
  {
   "cell_type": "code",
   "execution_count": 180,
   "metadata": {
    "colab": {
     "base_uri": "https://localhost:8080/"
    },
    "id": "7SCgucNdHD-_",
    "outputId": "bf75a464-504b-4a19-c3b5-c06eb3effe1d"
   },
   "outputs": [
    {
     "data": {
      "text/plain": [
       "LogisticRegression()"
      ]
     },
     "execution_count": 180,
     "metadata": {},
     "output_type": "execute_result"
    }
   ],
   "source": [
    "clf = LogisticRegression()\n",
    "#Train the model using the training sets\n",
    "clf.fit(x_knn_lr_train_stand, y_knn_lr_train)\n"
   ]
  },
  {
   "cell_type": "code",
   "execution_count": 181,
   "metadata": {
    "id": "p4ob4YZeMoOL"
   },
   "outputs": [],
   "source": [
    "#Predict the response for test dataset\n",
    "y_pred = clf.predict(x_knn_lr_test_stand)\n"
   ]
  },
  {
   "cell_type": "code",
   "execution_count": 182,
   "metadata": {
    "colab": {
     "base_uri": "https://localhost:8080/"
    },
    "id": "gSqDmYCHMoV5",
    "outputId": "f2796550-c25b-47bb-c6cf-836e6073a98a"
   },
   "outputs": [
    {
     "name": "stdout",
     "output_type": "stream",
     "text": [
      "Accuracy: 0.87\n",
      "Precision Score :  0.87\n",
      "Recall Score :  0.87\n",
      "Recall Score :  0.8701640221073275\n"
     ]
    },
    {
     "name": "stderr",
     "output_type": "stream",
     "text": [
      "C:\\Users\\ASUS\\Anaconda3\\lib\\site-packages\\sklearn\\metrics\\_classification.py:1298: UserWarning: Note that pos_label (set to 'positive') is ignored when average != 'binary' (got 'micro'). You may use labels=[pos_label] to specify a single positive class.\n",
      "  % (pos_label, average), UserWarning)\n",
      "C:\\Users\\ASUS\\Anaconda3\\lib\\site-packages\\sklearn\\metrics\\_classification.py:1298: UserWarning: Note that pos_label (set to 'positive') is ignored when average != 'binary' (got 'micro'). You may use labels=[pos_label] to specify a single positive class.\n",
      "  % (pos_label, average), UserWarning)\n"
     ]
    }
   ],
   "source": [
    "# Model Accuracy: how often is the classifier correct?\n",
    "print(\"Accuracy:\",accuracy_score(y_knn_lr_test, y_pred))\n",
    "\n",
    "print(\"Precision Score : \",precision_score(y_knn_lr_test, y_pred, \n",
    "                                           pos_label='positive'\n",
    "                                           ,average='micro'))\n",
    "print(\"Recall Score : \",recall_score(y_knn_lr_test, y_pred, \n",
    "                                           pos_label='positive'\n",
    "                                           ,average='micro'))\n",
    "\n",
    "print(\"Recall Score : \",roc_auc_score(y_knn_lr_test, y_pred))\n"
   ]
  },
  {
   "cell_type": "markdown",
   "metadata": {
    "id": "hCCix2vOM2rH"
   },
   "source": [
    "**<h4>K-Fold Validation</h4>**"
   ]
  },
  {
   "cell_type": "code",
   "execution_count": 183,
   "metadata": {
    "id": "OieTXAMiMod6"
   },
   "outputs": [],
   "source": [
    "clf = LogisticRegression()\n",
    "kfold_validation = KFold(5)"
   ]
  },
  {
   "cell_type": "code",
   "execution_count": 184,
   "metadata": {
    "colab": {
     "base_uri": "https://localhost:8080/"
    },
    "id": "QdaoVJLTHBrz",
    "outputId": "cba7f0e0-e27e-49dc-87c1-dfe790d05926"
   },
   "outputs": [
    {
     "name": "stdout",
     "output_type": "stream",
     "text": [
      "[0.86333333 0.80333333 0.81333333 0.84333333 0.80666667]\n",
      "0.826\n"
     ]
    }
   ],
   "source": [
    "results = cross_val_score(clf,X_knn_lr_stand,y_knn_lr,cv=kfold_validation,n_jobs=5)\n",
    "print(results)\n",
    "print(np.mean(results))"
   ]
  },
  {
   "cell_type": "markdown",
   "metadata": {
    "id": "gJlo3OhyOwGP"
   },
   "source": [
    "\n",
    "\n",
    "\n",
    "\n",
    "**<h2>Implementing Logistic Regression Algorithm after Imputting missing values with KNN</h2>**\n",
    "\n",
    "**<h4>Feature Selection Using Lasso Regression In Support Vector Machine ALgorithm Algorithm</h4>**"
   ]
  },
  {
   "cell_type": "code",
   "execution_count": 185,
   "metadata": {
    "colab": {
     "base_uri": "https://localhost:8080/"
    },
    "id": "c4h2fJxzOx23",
    "outputId": "1b3db8f8-58ea-4825-91f5-1ef9eceac09c"
   },
   "outputs": [
    {
     "name": "stderr",
     "output_type": "stream",
     "text": [
      "C:\\Users\\ASUS\\Anaconda3\\lib\\site-packages\\sklearn\\svm\\_base.py:986: ConvergenceWarning: Liblinear failed to converge, increase the number of iterations.\n",
      "  \"the number of iterations.\", ConvergenceWarning)\n"
     ]
    },
    {
     "data": {
      "text/plain": [
       "SelectFromModel(estimator=LinearSVC(C=0.1, dual=False, penalty='l1'))"
      ]
     },
     "execution_count": 185,
     "metadata": {},
     "output_type": "execute_result"
    }
   ],
   "source": [
    "sel_ = SelectFromModel(LinearSVC(C=0.1, penalty='l1',dual=False))\n",
    "sel_.fit(x_knn_train_stand,y_knn_train)\n"
   ]
  },
  {
   "cell_type": "code",
   "execution_count": 186,
   "metadata": {
    "colab": {
     "base_uri": "https://localhost:8080/"
    },
    "id": "XJ494YuYOx7S",
    "outputId": "01a59267-202c-4139-c737-6dfb5d831da9"
   },
   "outputs": [
    {
     "data": {
      "text/plain": [
       "array([ True,  True,  True,  True,  True,  True,  True,  True,  True,\n",
       "        True,  True,  True,  True,  True,  True])"
      ]
     },
     "execution_count": 186,
     "metadata": {},
     "output_type": "execute_result"
    }
   ],
   "source": [
    "sel_.get_support()"
   ]
  },
  {
   "cell_type": "code",
   "execution_count": 187,
   "metadata": {
    "colab": {
     "base_uri": "https://localhost:8080/"
    },
    "id": "h2IQsaHHOx_u",
    "outputId": "24dba8be-f53d-4bea-bafd-2a6a9ccb2d2a"
   },
   "outputs": [
    {
     "name": "stdout",
     "output_type": "stream",
     "text": [
      "total features: 15\n",
      "selected features: 15\n",
      "features with coefficients shrank to zero: 0\n"
     ]
    }
   ],
   "source": [
    "selected_feat = X_knn.columns[(sel_.get_support())]\n",
    "print('total features: {}'.format((x_knn_train_stand.shape[1])))\n",
    "print('selected features: {}'.format(len(selected_feat)))\n",
    "print('features with coefficients shrank to zero: {}'.format(\n",
    "      np.sum(sel_.estimator_.coef_ == 0)))\n",
    "\n"
   ]
  },
  {
   "cell_type": "code",
   "execution_count": 188,
   "metadata": {
    "colab": {
     "base_uri": "https://localhost:8080/"
    },
    "id": "l0bvOT72OyDo",
    "outputId": "df0925ef-6183-4e54-fd5f-af5cef8f1575"
   },
   "outputs": [
    {
     "data": {
      "text/plain": [
       "0"
      ]
     },
     "execution_count": 188,
     "metadata": {},
     "output_type": "execute_result"
    }
   ],
   "source": [
    "np.sum(sel_.estimator_.coef_ == 0)"
   ]
  },
  {
   "cell_type": "code",
   "execution_count": 189,
   "metadata": {
    "colab": {
     "base_uri": "https://localhost:8080/"
    },
    "id": "pYI5_OAdOyHQ",
    "outputId": "3a2321c4-fdb7-4a20-cb30-85bc79adaa64"
   },
   "outputs": [
    {
     "data": {
      "text/plain": [
       "Index([], dtype='object')"
      ]
     },
     "execution_count": 189,
     "metadata": {},
     "output_type": "execute_result"
    }
   ],
   "source": [
    "removed_feats = X_knn.columns[(sel_.estimator_.coef_ == 0).ravel().tolist()]\n",
    "removed_feats"
   ]
  },
  {
   "cell_type": "code",
   "execution_count": 190,
   "metadata": {
    "colab": {
     "base_uri": "https://localhost:8080/",
     "height": 204
    },
    "id": "4mNbsZm1OyKg",
    "outputId": "097110b0-3f20-40f1-bda2-5e1c1f66e9a7"
   },
   "outputs": [
    {
     "data": {
      "text/html": [
       "<div>\n",
       "<style scoped>\n",
       "    .dataframe tbody tr th:only-of-type {\n",
       "        vertical-align: middle;\n",
       "    }\n",
       "\n",
       "    .dataframe tbody tr th {\n",
       "        vertical-align: top;\n",
       "    }\n",
       "\n",
       "    .dataframe thead th {\n",
       "        text-align: right;\n",
       "    }\n",
       "</style>\n",
       "<table border=\"1\" class=\"dataframe\">\n",
       "  <thead>\n",
       "    <tr style=\"text-align: right;\">\n",
       "      <th></th>\n",
       "      <th>F1</th>\n",
       "      <th>F2</th>\n",
       "      <th>F3</th>\n",
       "      <th>F4</th>\n",
       "      <th>F5</th>\n",
       "      <th>F6</th>\n",
       "      <th>F7</th>\n",
       "      <th>F8</th>\n",
       "      <th>F9</th>\n",
       "      <th>F10</th>\n",
       "      <th>F11</th>\n",
       "      <th>F12</th>\n",
       "      <th>F13</th>\n",
       "      <th>F14</th>\n",
       "      <th>F15</th>\n",
       "      <th>Class</th>\n",
       "    </tr>\n",
       "  </thead>\n",
       "  <tbody>\n",
       "    <tr>\n",
       "      <td>0</td>\n",
       "      <td>16.77</td>\n",
       "      <td>1.25</td>\n",
       "      <td>1080.0</td>\n",
       "      <td>4.04</td>\n",
       "      <td>20.0</td>\n",
       "      <td>30.36</td>\n",
       "      <td>-7.24</td>\n",
       "      <td>112.86</td>\n",
       "      <td>9.00</td>\n",
       "      <td>7.74</td>\n",
       "      <td>-15.70</td>\n",
       "      <td>-36.32</td>\n",
       "      <td>26.10</td>\n",
       "      <td>-184.14</td>\n",
       "      <td>-7.632333</td>\n",
       "      <td>0.0</td>\n",
       "    </tr>\n",
       "    <tr>\n",
       "      <td>1</td>\n",
       "      <td>12.45</td>\n",
       "      <td>1.63</td>\n",
       "      <td>156.0</td>\n",
       "      <td>-6.98</td>\n",
       "      <td>2.0</td>\n",
       "      <td>21.52</td>\n",
       "      <td>1.20</td>\n",
       "      <td>105.86</td>\n",
       "      <td>0.43</td>\n",
       "      <td>10.11</td>\n",
       "      <td>-25.06</td>\n",
       "      <td>-23.32</td>\n",
       "      <td>2.55</td>\n",
       "      <td>-208.14</td>\n",
       "      <td>-8.087333</td>\n",
       "      <td>1.0</td>\n",
       "    </tr>\n",
       "    <tr>\n",
       "      <td>2</td>\n",
       "      <td>0.06</td>\n",
       "      <td>1.09</td>\n",
       "      <td>855.0</td>\n",
       "      <td>6.08</td>\n",
       "      <td>20.0</td>\n",
       "      <td>33.76</td>\n",
       "      <td>-9.06</td>\n",
       "      <td>262.86</td>\n",
       "      <td>9.15</td>\n",
       "      <td>6.01</td>\n",
       "      <td>-14.40</td>\n",
       "      <td>-36.32</td>\n",
       "      <td>26.25</td>\n",
       "      <td>-394.14</td>\n",
       "      <td>-6.670000</td>\n",
       "      <td>0.0</td>\n",
       "    </tr>\n",
       "    <tr>\n",
       "      <td>3</td>\n",
       "      <td>1.80</td>\n",
       "      <td>2.04</td>\n",
       "      <td>435.0</td>\n",
       "      <td>1.72</td>\n",
       "      <td>20.0</td>\n",
       "      <td>31.96</td>\n",
       "      <td>-8.30</td>\n",
       "      <td>157.86</td>\n",
       "      <td>5.35</td>\n",
       "      <td>6.15</td>\n",
       "      <td>-17.64</td>\n",
       "      <td>-36.32</td>\n",
       "      <td>17.25</td>\n",
       "      <td>-64.14</td>\n",
       "      <td>-7.486000</td>\n",
       "      <td>0.0</td>\n",
       "    </tr>\n",
       "    <tr>\n",
       "      <td>4</td>\n",
       "      <td>15.45</td>\n",
       "      <td>1.38</td>\n",
       "      <td>195.0</td>\n",
       "      <td>-8.70</td>\n",
       "      <td>2.0</td>\n",
       "      <td>21.10</td>\n",
       "      <td>-0.06</td>\n",
       "      <td>112.86</td>\n",
       "      <td>1.37</td>\n",
       "      <td>10.26</td>\n",
       "      <td>-27.50</td>\n",
       "      <td>-23.32</td>\n",
       "      <td>2.01</td>\n",
       "      <td>-250.14</td>\n",
       "      <td>-7.991000</td>\n",
       "      <td>1.0</td>\n",
       "    </tr>\n",
       "  </tbody>\n",
       "</table>\n",
       "</div>"
      ],
      "text/plain": [
       "      F1    F2      F3    F4    F5     F6    F7      F8    F9    F10    F11  \\\n",
       "0  16.77  1.25  1080.0  4.04  20.0  30.36 -7.24  112.86  9.00   7.74 -15.70   \n",
       "1  12.45  1.63   156.0 -6.98   2.0  21.52  1.20  105.86  0.43  10.11 -25.06   \n",
       "2   0.06  1.09   855.0  6.08  20.0  33.76 -9.06  262.86  9.15   6.01 -14.40   \n",
       "3   1.80  2.04   435.0  1.72  20.0  31.96 -8.30  157.86  5.35   6.15 -17.64   \n",
       "4  15.45  1.38   195.0 -8.70   2.0  21.10 -0.06  112.86  1.37  10.26 -27.50   \n",
       "\n",
       "     F12    F13     F14       F15  Class  \n",
       "0 -36.32  26.10 -184.14 -7.632333    0.0  \n",
       "1 -23.32   2.55 -208.14 -8.087333    1.0  \n",
       "2 -36.32  26.25 -394.14 -6.670000    0.0  \n",
       "3 -36.32  17.25  -64.14 -7.486000    0.0  \n",
       "4 -23.32   2.01 -250.14 -7.991000    1.0  "
      ]
     },
     "execution_count": 190,
     "metadata": {},
     "output_type": "execute_result"
    }
   ],
   "source": [
    "dropped_data_with_knn_filled_svm = data_with_knn_filled.drop(removed_feats.tolist(),axis=1)\n",
    "dropped_data_with_knn_filled_svm.head()\n"
   ]
  },
  {
   "cell_type": "code",
   "execution_count": 191,
   "metadata": {
    "id": "vQOje6XMOyNt"
   },
   "outputs": [],
   "source": [
    "X_knn_svm = dropped_data_with_knn_filled_svm.iloc[:,:-1]\n",
    "y_knn_svm = dropped_data_with_knn_filled_svm.iloc[:,-1]\n",
    "\n",
    "\n",
    "\n",
    "\n",
    "\n"
   ]
  },
  {
   "cell_type": "code",
   "execution_count": 192,
   "metadata": {
    "id": "VtoUk6GoOyRP"
   },
   "outputs": [],
   "source": [
    "x_knn_svm_train,x_knn_svm_test,y_knn_svm_train,y_knn_svm_test = train_test_split(X_knn_svm,y_knn_svm,test_size=0.2,random_state=42)\n",
    "\n",
    "\n",
    "\n",
    "\n",
    "\n",
    "\n"
   ]
  },
  {
   "cell_type": "code",
   "execution_count": 193,
   "metadata": {
    "id": "lCA2RpjdOyUo"
   },
   "outputs": [],
   "source": [
    "# fit on training data column\n",
    "scale = StandardScaler().fit(x_knn_svm_train)\n",
    "    \n",
    "# transform the training data column\n",
    "x_knn_svm_train_stand = scale.transform(x_knn_svm_train)\n",
    "\n",
    "# transform the testing data column\n",
    "x_knn_svm_test_stand = scale.transform(x_knn_svm_test)\n",
    "\n",
    "X_knn_svm_stand = scale.transform(X_knn_svm)\n",
    "\n"
   ]
  },
  {
   "cell_type": "code",
   "execution_count": 194,
   "metadata": {
    "colab": {
     "base_uri": "https://localhost:8080/"
    },
    "id": "I8dWaNgsRzWR",
    "outputId": "a364debb-ddef-4390-dc71-d32d9f942ac8"
   },
   "outputs": [
    {
     "data": {
      "text/plain": [
       "SVC(kernel='linear')"
      ]
     },
     "execution_count": 194,
     "metadata": {},
     "output_type": "execute_result"
    }
   ],
   "source": [
    "clf = SVC(kernel='linear')\n",
    "#Train the model using the training sets\n",
    "clf.fit(x_knn_svm_train_stand, y_knn_svm_train)"
   ]
  },
  {
   "cell_type": "code",
   "execution_count": 195,
   "metadata": {
    "id": "YiRnVwpRRzad"
   },
   "outputs": [],
   "source": [
    "#Predict the response for test dataset\n",
    "y_pred = clf.predict(x_knn_svm_test_stand)\n",
    "\n"
   ]
  },
  {
   "cell_type": "code",
   "execution_count": 196,
   "metadata": {
    "colab": {
     "base_uri": "https://localhost:8080/"
    },
    "id": "lrL2063mOyak",
    "outputId": "d06c4be2-1835-400e-9571-8ecd42d38f76"
   },
   "outputs": [
    {
     "name": "stdout",
     "output_type": "stream",
     "text": [
      "Accuracy: 0.8766666666666667\n",
      "Precision Score :  0.8766666666666667\n",
      "Recall Score :  0.8766666666666667\n",
      "Recall Score :  0.8775628454269923\n"
     ]
    },
    {
     "name": "stderr",
     "output_type": "stream",
     "text": [
      "C:\\Users\\ASUS\\Anaconda3\\lib\\site-packages\\sklearn\\metrics\\_classification.py:1298: UserWarning: Note that pos_label (set to 'positive') is ignored when average != 'binary' (got 'micro'). You may use labels=[pos_label] to specify a single positive class.\n",
      "  % (pos_label, average), UserWarning)\n",
      "C:\\Users\\ASUS\\Anaconda3\\lib\\site-packages\\sklearn\\metrics\\_classification.py:1298: UserWarning: Note that pos_label (set to 'positive') is ignored when average != 'binary' (got 'micro'). You may use labels=[pos_label] to specify a single positive class.\n",
      "  % (pos_label, average), UserWarning)\n"
     ]
    }
   ],
   "source": [
    "# Model Accuracy: how often is the classifier correct?\n",
    "print(\"Accuracy:\",accuracy_score(y_knn_svm_test, y_pred))\n",
    "\n",
    "print(\"Precision Score : \",precision_score(y_knn_svm_test, y_pred, \n",
    "                                           pos_label='positive'\n",
    "                                           ,average='micro'))\n",
    "print(\"Recall Score : \",recall_score(y_knn_svm_test, y_pred, \n",
    "                                           pos_label='positive'\n",
    "                                           ,average='micro'))\n",
    "\n",
    "print(\"Recall Score : \",roc_auc_score(y_knn_svm_test, y_pred))\n",
    "\n",
    "\n"
   ]
  },
  {
   "cell_type": "markdown",
   "metadata": {
    "id": "lHWTxS9FSeKB"
   },
   "source": [
    "**<h4>K-Fold Cross Validation</h4>**"
   ]
  },
  {
   "cell_type": "code",
   "execution_count": 197,
   "metadata": {
    "id": "6ANDr1QxOyed"
   },
   "outputs": [],
   "source": [
    "clf = SVC(kernel='linear')\n",
    "kfold_validation = KFold(5)"
   ]
  },
  {
   "cell_type": "code",
   "execution_count": 198,
   "metadata": {
    "colab": {
     "base_uri": "https://localhost:8080/"
    },
    "id": "ZUJfPK69SixK",
    "outputId": "eff5c08a-1f30-4d9d-a723-183312884ef4"
   },
   "outputs": [
    {
     "name": "stdout",
     "output_type": "stream",
     "text": [
      "[0.88333333 0.83333333 0.84       0.87666667 0.82666667]\n",
      "0.852\n"
     ]
    }
   ],
   "source": [
    "results = cross_val_score(clf,X_knn_svm_stand,y_knn_svm,cv=kfold_validation,n_jobs=5)\n",
    "print(results)\n",
    "print(np.mean(results))"
   ]
  },
  {
   "cell_type": "markdown",
   "metadata": {},
   "source": [
    "**<h1>Submission</h1>**"
   ]
  },
  {
   "cell_type": "markdown",
   "metadata": {
    "id": "LgerBit1cxkC"
   },
   "source": [
    "<h4>Among all those models, random forest algorithm gets the maximum accuracy among all other algorithm. Decision Tree performs worst among all other algorithms. When we remove missing column then, it affects the accuracy of the model but when we fill the missing rows with either mean or median the accuracy of random forest increase from 83 to around 86-87%. So, we are doing the submission at the test datasets using random forest algorithm and we are going to fill the missing data with the mean value in our test dataset as well.</h4>"
   ]
  },
  {
   "cell_type": "code",
   "execution_count": 199,
   "metadata": {
    "colab": {
     "base_uri": "https://localhost:8080/",
     "height": 419
    },
    "id": "C147ysmpS7BW",
    "outputId": "717ed455-2538-4e49-9d67-e41d51de3a08"
   },
   "outputs": [],
   "source": [
    "training_df = pd.read_csv('CE802_P2_Data.csv')\n",
    "testing_df = pd.read_csv('CE802_P2_Test.csv')"
   ]
  },
  {
   "cell_type": "code",
   "execution_count": 200,
   "metadata": {
    "id": "jhgiikbkS7E8"
   },
   "outputs": [
    {
     "data": {
      "text/html": [
       "<div>\n",
       "<style scoped>\n",
       "    .dataframe tbody tr th:only-of-type {\n",
       "        vertical-align: middle;\n",
       "    }\n",
       "\n",
       "    .dataframe tbody tr th {\n",
       "        vertical-align: top;\n",
       "    }\n",
       "\n",
       "    .dataframe thead th {\n",
       "        text-align: right;\n",
       "    }\n",
       "</style>\n",
       "<table border=\"1\" class=\"dataframe\">\n",
       "  <thead>\n",
       "    <tr style=\"text-align: right;\">\n",
       "      <th></th>\n",
       "      <th>F1</th>\n",
       "      <th>F2</th>\n",
       "      <th>F3</th>\n",
       "      <th>F4</th>\n",
       "      <th>F5</th>\n",
       "      <th>F6</th>\n",
       "      <th>F7</th>\n",
       "      <th>F8</th>\n",
       "      <th>F9</th>\n",
       "      <th>F10</th>\n",
       "      <th>F11</th>\n",
       "      <th>F12</th>\n",
       "      <th>F13</th>\n",
       "      <th>F14</th>\n",
       "      <th>F15</th>\n",
       "      <th>Class</th>\n",
       "    </tr>\n",
       "  </thead>\n",
       "  <tbody>\n",
       "    <tr>\n",
       "      <td>0</td>\n",
       "      <td>16.77</td>\n",
       "      <td>1.25</td>\n",
       "      <td>1080</td>\n",
       "      <td>4.04</td>\n",
       "      <td>20</td>\n",
       "      <td>30.36</td>\n",
       "      <td>-7.24</td>\n",
       "      <td>112.86</td>\n",
       "      <td>9.00</td>\n",
       "      <td>7.74</td>\n",
       "      <td>-15.70</td>\n",
       "      <td>-36.32</td>\n",
       "      <td>26.10</td>\n",
       "      <td>-184.14</td>\n",
       "      <td>NaN</td>\n",
       "      <td>False</td>\n",
       "    </tr>\n",
       "    <tr>\n",
       "      <td>1</td>\n",
       "      <td>12.45</td>\n",
       "      <td>1.63</td>\n",
       "      <td>156</td>\n",
       "      <td>-6.98</td>\n",
       "      <td>2</td>\n",
       "      <td>21.52</td>\n",
       "      <td>1.20</td>\n",
       "      <td>105.86</td>\n",
       "      <td>0.43</td>\n",
       "      <td>10.11</td>\n",
       "      <td>-25.06</td>\n",
       "      <td>-23.32</td>\n",
       "      <td>2.55</td>\n",
       "      <td>-208.14</td>\n",
       "      <td>NaN</td>\n",
       "      <td>True</td>\n",
       "    </tr>\n",
       "    <tr>\n",
       "      <td>2</td>\n",
       "      <td>0.06</td>\n",
       "      <td>1.09</td>\n",
       "      <td>855</td>\n",
       "      <td>6.08</td>\n",
       "      <td>20</td>\n",
       "      <td>33.76</td>\n",
       "      <td>-9.06</td>\n",
       "      <td>262.86</td>\n",
       "      <td>9.15</td>\n",
       "      <td>6.01</td>\n",
       "      <td>-14.40</td>\n",
       "      <td>-36.32</td>\n",
       "      <td>26.25</td>\n",
       "      <td>-394.14</td>\n",
       "      <td>-6.67</td>\n",
       "      <td>False</td>\n",
       "    </tr>\n",
       "    <tr>\n",
       "      <td>3</td>\n",
       "      <td>1.80</td>\n",
       "      <td>2.04</td>\n",
       "      <td>435</td>\n",
       "      <td>1.72</td>\n",
       "      <td>20</td>\n",
       "      <td>31.96</td>\n",
       "      <td>-8.30</td>\n",
       "      <td>157.86</td>\n",
       "      <td>5.35</td>\n",
       "      <td>6.15</td>\n",
       "      <td>-17.64</td>\n",
       "      <td>-36.32</td>\n",
       "      <td>17.25</td>\n",
       "      <td>-64.14</td>\n",
       "      <td>NaN</td>\n",
       "      <td>False</td>\n",
       "    </tr>\n",
       "    <tr>\n",
       "      <td>4</td>\n",
       "      <td>15.45</td>\n",
       "      <td>1.38</td>\n",
       "      <td>195</td>\n",
       "      <td>-8.70</td>\n",
       "      <td>2</td>\n",
       "      <td>21.10</td>\n",
       "      <td>-0.06</td>\n",
       "      <td>112.86</td>\n",
       "      <td>1.37</td>\n",
       "      <td>10.26</td>\n",
       "      <td>-27.50</td>\n",
       "      <td>-23.32</td>\n",
       "      <td>2.01</td>\n",
       "      <td>-250.14</td>\n",
       "      <td>NaN</td>\n",
       "      <td>True</td>\n",
       "    </tr>\n",
       "  </tbody>\n",
       "</table>\n",
       "</div>"
      ],
      "text/plain": [
       "      F1    F2    F3    F4  F5     F6    F7      F8    F9    F10    F11  \\\n",
       "0  16.77  1.25  1080  4.04  20  30.36 -7.24  112.86  9.00   7.74 -15.70   \n",
       "1  12.45  1.63   156 -6.98   2  21.52  1.20  105.86  0.43  10.11 -25.06   \n",
       "2   0.06  1.09   855  6.08  20  33.76 -9.06  262.86  9.15   6.01 -14.40   \n",
       "3   1.80  2.04   435  1.72  20  31.96 -8.30  157.86  5.35   6.15 -17.64   \n",
       "4  15.45  1.38   195 -8.70   2  21.10 -0.06  112.86  1.37  10.26 -27.50   \n",
       "\n",
       "     F12    F13     F14   F15  Class  \n",
       "0 -36.32  26.10 -184.14   NaN  False  \n",
       "1 -23.32   2.55 -208.14   NaN   True  \n",
       "2 -36.32  26.25 -394.14 -6.67  False  \n",
       "3 -36.32  17.25  -64.14   NaN  False  \n",
       "4 -23.32   2.01 -250.14   NaN   True  "
      ]
     },
     "execution_count": 200,
     "metadata": {},
     "output_type": "execute_result"
    }
   ],
   "source": [
    "training_df.head()"
   ]
  },
  {
   "cell_type": "code",
   "execution_count": 201,
   "metadata": {
    "id": "3AlTqmvnS7KD"
   },
   "outputs": [
    {
     "data": {
      "text/html": [
       "<div>\n",
       "<style scoped>\n",
       "    .dataframe tbody tr th:only-of-type {\n",
       "        vertical-align: middle;\n",
       "    }\n",
       "\n",
       "    .dataframe tbody tr th {\n",
       "        vertical-align: top;\n",
       "    }\n",
       "\n",
       "    .dataframe thead th {\n",
       "        text-align: right;\n",
       "    }\n",
       "</style>\n",
       "<table border=\"1\" class=\"dataframe\">\n",
       "  <thead>\n",
       "    <tr style=\"text-align: right;\">\n",
       "      <th></th>\n",
       "      <th>F1</th>\n",
       "      <th>F2</th>\n",
       "      <th>F3</th>\n",
       "      <th>F4</th>\n",
       "      <th>F5</th>\n",
       "      <th>F6</th>\n",
       "      <th>F7</th>\n",
       "      <th>F8</th>\n",
       "      <th>F9</th>\n",
       "      <th>F10</th>\n",
       "      <th>F11</th>\n",
       "      <th>F12</th>\n",
       "      <th>F13</th>\n",
       "      <th>F14</th>\n",
       "      <th>F15</th>\n",
       "      <th>Class</th>\n",
       "    </tr>\n",
       "  </thead>\n",
       "  <tbody>\n",
       "    <tr>\n",
       "      <td>0</td>\n",
       "      <td>3.54</td>\n",
       "      <td>0.45</td>\n",
       "      <td>600</td>\n",
       "      <td>2.16</td>\n",
       "      <td>20</td>\n",
       "      <td>33.86</td>\n",
       "      <td>-4.16</td>\n",
       "      <td>207.86</td>\n",
       "      <td>8.30</td>\n",
       "      <td>6.64</td>\n",
       "      <td>-17.68</td>\n",
       "      <td>-36.32</td>\n",
       "      <td>16.80</td>\n",
       "      <td>-49.14</td>\n",
       "      <td>-6.81</td>\n",
       "      <td>NaN</td>\n",
       "    </tr>\n",
       "    <tr>\n",
       "      <td>1</td>\n",
       "      <td>12.96</td>\n",
       "      <td>4.50</td>\n",
       "      <td>6</td>\n",
       "      <td>-5.42</td>\n",
       "      <td>2</td>\n",
       "      <td>21.22</td>\n",
       "      <td>-0.66</td>\n",
       "      <td>115.86</td>\n",
       "      <td>1.95</td>\n",
       "      <td>10.19</td>\n",
       "      <td>-24.32</td>\n",
       "      <td>-21.32</td>\n",
       "      <td>0.06</td>\n",
       "      <td>-229.14</td>\n",
       "      <td>-7.10</td>\n",
       "      <td>NaN</td>\n",
       "    </tr>\n",
       "    <tr>\n",
       "      <td>2</td>\n",
       "      <td>13.02</td>\n",
       "      <td>2.74</td>\n",
       "      <td>81</td>\n",
       "      <td>-7.08</td>\n",
       "      <td>2</td>\n",
       "      <td>21.28</td>\n",
       "      <td>1.40</td>\n",
       "      <td>111.86</td>\n",
       "      <td>2.05</td>\n",
       "      <td>11.30</td>\n",
       "      <td>-34.98</td>\n",
       "      <td>-21.32</td>\n",
       "      <td>0.42</td>\n",
       "      <td>-217.14</td>\n",
       "      <td>-7.05</td>\n",
       "      <td>NaN</td>\n",
       "    </tr>\n",
       "    <tr>\n",
       "      <td>3</td>\n",
       "      <td>14.91</td>\n",
       "      <td>1.00</td>\n",
       "      <td>162</td>\n",
       "      <td>-8.30</td>\n",
       "      <td>2</td>\n",
       "      <td>21.12</td>\n",
       "      <td>-0.42</td>\n",
       "      <td>85.86</td>\n",
       "      <td>0.96</td>\n",
       "      <td>10.16</td>\n",
       "      <td>-24.68</td>\n",
       "      <td>-25.32</td>\n",
       "      <td>0.42</td>\n",
       "      <td>-202.14</td>\n",
       "      <td>NaN</td>\n",
       "      <td>NaN</td>\n",
       "    </tr>\n",
       "    <tr>\n",
       "      <td>4</td>\n",
       "      <td>2.61</td>\n",
       "      <td>1.46</td>\n",
       "      <td>1020</td>\n",
       "      <td>4.66</td>\n",
       "      <td>20</td>\n",
       "      <td>30.66</td>\n",
       "      <td>-0.46</td>\n",
       "      <td>122.86</td>\n",
       "      <td>7.20</td>\n",
       "      <td>7.04</td>\n",
       "      <td>-16.86</td>\n",
       "      <td>-26.32</td>\n",
       "      <td>20.25</td>\n",
       "      <td>-289.14</td>\n",
       "      <td>NaN</td>\n",
       "      <td>NaN</td>\n",
       "    </tr>\n",
       "  </tbody>\n",
       "</table>\n",
       "</div>"
      ],
      "text/plain": [
       "      F1    F2    F3    F4  F5     F6    F7      F8    F9    F10    F11  \\\n",
       "0   3.54  0.45   600  2.16  20  33.86 -4.16  207.86  8.30   6.64 -17.68   \n",
       "1  12.96  4.50     6 -5.42   2  21.22 -0.66  115.86  1.95  10.19 -24.32   \n",
       "2  13.02  2.74    81 -7.08   2  21.28  1.40  111.86  2.05  11.30 -34.98   \n",
       "3  14.91  1.00   162 -8.30   2  21.12 -0.42   85.86  0.96  10.16 -24.68   \n",
       "4   2.61  1.46  1020  4.66  20  30.66 -0.46  122.86  7.20   7.04 -16.86   \n",
       "\n",
       "     F12    F13     F14   F15  Class  \n",
       "0 -36.32  16.80  -49.14 -6.81    NaN  \n",
       "1 -21.32   0.06 -229.14 -7.10    NaN  \n",
       "2 -21.32   0.42 -217.14 -7.05    NaN  \n",
       "3 -25.32   0.42 -202.14   NaN    NaN  \n",
       "4 -26.32  20.25 -289.14   NaN    NaN  "
      ]
     },
     "execution_count": 201,
     "metadata": {},
     "output_type": "execute_result"
    }
   ],
   "source": [
    "testing_df.head()"
   ]
  },
  {
   "cell_type": "code",
   "execution_count": 202,
   "metadata": {
    "id": "PVG1zsPuS7N5"
   },
   "outputs": [
    {
     "data": {
      "text/html": [
       "<div>\n",
       "<style scoped>\n",
       "    .dataframe tbody tr th:only-of-type {\n",
       "        vertical-align: middle;\n",
       "    }\n",
       "\n",
       "    .dataframe tbody tr th {\n",
       "        vertical-align: top;\n",
       "    }\n",
       "\n",
       "    .dataframe thead th {\n",
       "        text-align: right;\n",
       "    }\n",
       "</style>\n",
       "<table border=\"1\" class=\"dataframe\">\n",
       "  <thead>\n",
       "    <tr style=\"text-align: right;\">\n",
       "      <th></th>\n",
       "      <th>F1</th>\n",
       "      <th>F2</th>\n",
       "      <th>F3</th>\n",
       "      <th>F4</th>\n",
       "      <th>F5</th>\n",
       "      <th>F6</th>\n",
       "      <th>F7</th>\n",
       "      <th>F8</th>\n",
       "      <th>F9</th>\n",
       "      <th>F10</th>\n",
       "      <th>F11</th>\n",
       "      <th>F12</th>\n",
       "      <th>F13</th>\n",
       "      <th>F14</th>\n",
       "      <th>F15</th>\n",
       "      <th>Class</th>\n",
       "    </tr>\n",
       "  </thead>\n",
       "  <tbody>\n",
       "    <tr>\n",
       "      <td>0</td>\n",
       "      <td>16.77</td>\n",
       "      <td>1.25</td>\n",
       "      <td>1080</td>\n",
       "      <td>4.04</td>\n",
       "      <td>20</td>\n",
       "      <td>30.36</td>\n",
       "      <td>-7.24</td>\n",
       "      <td>112.86</td>\n",
       "      <td>9.00</td>\n",
       "      <td>7.74</td>\n",
       "      <td>-15.70</td>\n",
       "      <td>-36.32</td>\n",
       "      <td>26.10</td>\n",
       "      <td>-184.14</td>\n",
       "      <td>NaN</td>\n",
       "      <td>0</td>\n",
       "    </tr>\n",
       "    <tr>\n",
       "      <td>1</td>\n",
       "      <td>12.45</td>\n",
       "      <td>1.63</td>\n",
       "      <td>156</td>\n",
       "      <td>-6.98</td>\n",
       "      <td>2</td>\n",
       "      <td>21.52</td>\n",
       "      <td>1.20</td>\n",
       "      <td>105.86</td>\n",
       "      <td>0.43</td>\n",
       "      <td>10.11</td>\n",
       "      <td>-25.06</td>\n",
       "      <td>-23.32</td>\n",
       "      <td>2.55</td>\n",
       "      <td>-208.14</td>\n",
       "      <td>NaN</td>\n",
       "      <td>1</td>\n",
       "    </tr>\n",
       "    <tr>\n",
       "      <td>2</td>\n",
       "      <td>0.06</td>\n",
       "      <td>1.09</td>\n",
       "      <td>855</td>\n",
       "      <td>6.08</td>\n",
       "      <td>20</td>\n",
       "      <td>33.76</td>\n",
       "      <td>-9.06</td>\n",
       "      <td>262.86</td>\n",
       "      <td>9.15</td>\n",
       "      <td>6.01</td>\n",
       "      <td>-14.40</td>\n",
       "      <td>-36.32</td>\n",
       "      <td>26.25</td>\n",
       "      <td>-394.14</td>\n",
       "      <td>-6.67</td>\n",
       "      <td>0</td>\n",
       "    </tr>\n",
       "    <tr>\n",
       "      <td>3</td>\n",
       "      <td>1.80</td>\n",
       "      <td>2.04</td>\n",
       "      <td>435</td>\n",
       "      <td>1.72</td>\n",
       "      <td>20</td>\n",
       "      <td>31.96</td>\n",
       "      <td>-8.30</td>\n",
       "      <td>157.86</td>\n",
       "      <td>5.35</td>\n",
       "      <td>6.15</td>\n",
       "      <td>-17.64</td>\n",
       "      <td>-36.32</td>\n",
       "      <td>17.25</td>\n",
       "      <td>-64.14</td>\n",
       "      <td>NaN</td>\n",
       "      <td>0</td>\n",
       "    </tr>\n",
       "    <tr>\n",
       "      <td>4</td>\n",
       "      <td>15.45</td>\n",
       "      <td>1.38</td>\n",
       "      <td>195</td>\n",
       "      <td>-8.70</td>\n",
       "      <td>2</td>\n",
       "      <td>21.10</td>\n",
       "      <td>-0.06</td>\n",
       "      <td>112.86</td>\n",
       "      <td>1.37</td>\n",
       "      <td>10.26</td>\n",
       "      <td>-27.50</td>\n",
       "      <td>-23.32</td>\n",
       "      <td>2.01</td>\n",
       "      <td>-250.14</td>\n",
       "      <td>NaN</td>\n",
       "      <td>1</td>\n",
       "    </tr>\n",
       "  </tbody>\n",
       "</table>\n",
       "</div>"
      ],
      "text/plain": [
       "      F1    F2    F3    F4  F5     F6    F7      F8    F9    F10    F11  \\\n",
       "0  16.77  1.25  1080  4.04  20  30.36 -7.24  112.86  9.00   7.74 -15.70   \n",
       "1  12.45  1.63   156 -6.98   2  21.52  1.20  105.86  0.43  10.11 -25.06   \n",
       "2   0.06  1.09   855  6.08  20  33.76 -9.06  262.86  9.15   6.01 -14.40   \n",
       "3   1.80  2.04   435  1.72  20  31.96 -8.30  157.86  5.35   6.15 -17.64   \n",
       "4  15.45  1.38   195 -8.70   2  21.10 -0.06  112.86  1.37  10.26 -27.50   \n",
       "\n",
       "     F12    F13     F14   F15  Class  \n",
       "0 -36.32  26.10 -184.14   NaN      0  \n",
       "1 -23.32   2.55 -208.14   NaN      1  \n",
       "2 -36.32  26.25 -394.14 -6.67      0  \n",
       "3 -36.32  17.25  -64.14   NaN      0  \n",
       "4 -23.32   2.01 -250.14   NaN      1  "
      ]
     },
     "execution_count": 202,
     "metadata": {},
     "output_type": "execute_result"
    }
   ],
   "source": [
    "le = LabelEncoder()\n",
    "training_df['Class'] = le.fit_transform(training_df['Class'])\n",
    "training_df.head()"
   ]
  },
  {
   "cell_type": "markdown",
   "metadata": {},
   "source": [
    "**<h4>Filling the missing values in the training and testing datasets with the mean of the overall distribution of data</h4>**"
   ]
  },
  {
   "cell_type": "code",
   "execution_count": 203,
   "metadata": {
    "id": "5uXLMI7NS7Rc"
   },
   "outputs": [
    {
     "data": {
      "text/html": [
       "<div>\n",
       "<style scoped>\n",
       "    .dataframe tbody tr th:only-of-type {\n",
       "        vertical-align: middle;\n",
       "    }\n",
       "\n",
       "    .dataframe tbody tr th {\n",
       "        vertical-align: top;\n",
       "    }\n",
       "\n",
       "    .dataframe thead th {\n",
       "        text-align: right;\n",
       "    }\n",
       "</style>\n",
       "<table border=\"1\" class=\"dataframe\">\n",
       "  <thead>\n",
       "    <tr style=\"text-align: right;\">\n",
       "      <th></th>\n",
       "      <th>F1</th>\n",
       "      <th>F2</th>\n",
       "      <th>F3</th>\n",
       "      <th>F4</th>\n",
       "      <th>F5</th>\n",
       "      <th>F6</th>\n",
       "      <th>F7</th>\n",
       "      <th>F8</th>\n",
       "      <th>F9</th>\n",
       "      <th>F10</th>\n",
       "      <th>F11</th>\n",
       "      <th>F12</th>\n",
       "      <th>F13</th>\n",
       "      <th>F14</th>\n",
       "      <th>F15</th>\n",
       "      <th>Class</th>\n",
       "    </tr>\n",
       "  </thead>\n",
       "  <tbody>\n",
       "    <tr>\n",
       "      <td>0</td>\n",
       "      <td>16.77</td>\n",
       "      <td>1.25</td>\n",
       "      <td>1080</td>\n",
       "      <td>4.04</td>\n",
       "      <td>20</td>\n",
       "      <td>30.36</td>\n",
       "      <td>-7.24</td>\n",
       "      <td>112.86</td>\n",
       "      <td>9.00</td>\n",
       "      <td>7.74</td>\n",
       "      <td>-15.70</td>\n",
       "      <td>-36.32</td>\n",
       "      <td>26.10</td>\n",
       "      <td>-184.14</td>\n",
       "      <td>-7.743013</td>\n",
       "      <td>0</td>\n",
       "    </tr>\n",
       "    <tr>\n",
       "      <td>1</td>\n",
       "      <td>12.45</td>\n",
       "      <td>1.63</td>\n",
       "      <td>156</td>\n",
       "      <td>-6.98</td>\n",
       "      <td>2</td>\n",
       "      <td>21.52</td>\n",
       "      <td>1.20</td>\n",
       "      <td>105.86</td>\n",
       "      <td>0.43</td>\n",
       "      <td>10.11</td>\n",
       "      <td>-25.06</td>\n",
       "      <td>-23.32</td>\n",
       "      <td>2.55</td>\n",
       "      <td>-208.14</td>\n",
       "      <td>-7.743013</td>\n",
       "      <td>1</td>\n",
       "    </tr>\n",
       "    <tr>\n",
       "      <td>2</td>\n",
       "      <td>0.06</td>\n",
       "      <td>1.09</td>\n",
       "      <td>855</td>\n",
       "      <td>6.08</td>\n",
       "      <td>20</td>\n",
       "      <td>33.76</td>\n",
       "      <td>-9.06</td>\n",
       "      <td>262.86</td>\n",
       "      <td>9.15</td>\n",
       "      <td>6.01</td>\n",
       "      <td>-14.40</td>\n",
       "      <td>-36.32</td>\n",
       "      <td>26.25</td>\n",
       "      <td>-394.14</td>\n",
       "      <td>-6.670000</td>\n",
       "      <td>0</td>\n",
       "    </tr>\n",
       "    <tr>\n",
       "      <td>3</td>\n",
       "      <td>1.80</td>\n",
       "      <td>2.04</td>\n",
       "      <td>435</td>\n",
       "      <td>1.72</td>\n",
       "      <td>20</td>\n",
       "      <td>31.96</td>\n",
       "      <td>-8.30</td>\n",
       "      <td>157.86</td>\n",
       "      <td>5.35</td>\n",
       "      <td>6.15</td>\n",
       "      <td>-17.64</td>\n",
       "      <td>-36.32</td>\n",
       "      <td>17.25</td>\n",
       "      <td>-64.14</td>\n",
       "      <td>-7.743013</td>\n",
       "      <td>0</td>\n",
       "    </tr>\n",
       "    <tr>\n",
       "      <td>4</td>\n",
       "      <td>15.45</td>\n",
       "      <td>1.38</td>\n",
       "      <td>195</td>\n",
       "      <td>-8.70</td>\n",
       "      <td>2</td>\n",
       "      <td>21.10</td>\n",
       "      <td>-0.06</td>\n",
       "      <td>112.86</td>\n",
       "      <td>1.37</td>\n",
       "      <td>10.26</td>\n",
       "      <td>-27.50</td>\n",
       "      <td>-23.32</td>\n",
       "      <td>2.01</td>\n",
       "      <td>-250.14</td>\n",
       "      <td>-7.743013</td>\n",
       "      <td>1</td>\n",
       "    </tr>\n",
       "  </tbody>\n",
       "</table>\n",
       "</div>"
      ],
      "text/plain": [
       "      F1    F2    F3    F4  F5     F6    F7      F8    F9    F10    F11  \\\n",
       "0  16.77  1.25  1080  4.04  20  30.36 -7.24  112.86  9.00   7.74 -15.70   \n",
       "1  12.45  1.63   156 -6.98   2  21.52  1.20  105.86  0.43  10.11 -25.06   \n",
       "2   0.06  1.09   855  6.08  20  33.76 -9.06  262.86  9.15   6.01 -14.40   \n",
       "3   1.80  2.04   435  1.72  20  31.96 -8.30  157.86  5.35   6.15 -17.64   \n",
       "4  15.45  1.38   195 -8.70   2  21.10 -0.06  112.86  1.37  10.26 -27.50   \n",
       "\n",
       "     F12    F13     F14       F15  Class  \n",
       "0 -36.32  26.10 -184.14 -7.743013      0  \n",
       "1 -23.32   2.55 -208.14 -7.743013      1  \n",
       "2 -36.32  26.25 -394.14 -6.670000      0  \n",
       "3 -36.32  17.25  -64.14 -7.743013      0  \n",
       "4 -23.32   2.01 -250.14 -7.743013      1  "
      ]
     },
     "execution_count": 203,
     "metadata": {},
     "output_type": "execute_result"
    }
   ],
   "source": [
    "training_df.loc[training_df['F15'].isnull()==True,\"F15\"] = training_df['F15'].mean()\n",
    "training_df.head()"
   ]
  },
  {
   "cell_type": "code",
   "execution_count": 204,
   "metadata": {},
   "outputs": [
    {
     "data": {
      "text/html": [
       "<div>\n",
       "<style scoped>\n",
       "    .dataframe tbody tr th:only-of-type {\n",
       "        vertical-align: middle;\n",
       "    }\n",
       "\n",
       "    .dataframe tbody tr th {\n",
       "        vertical-align: top;\n",
       "    }\n",
       "\n",
       "    .dataframe thead th {\n",
       "        text-align: right;\n",
       "    }\n",
       "</style>\n",
       "<table border=\"1\" class=\"dataframe\">\n",
       "  <thead>\n",
       "    <tr style=\"text-align: right;\">\n",
       "      <th></th>\n",
       "      <th>F1</th>\n",
       "      <th>F2</th>\n",
       "      <th>F3</th>\n",
       "      <th>F4</th>\n",
       "      <th>F5</th>\n",
       "      <th>F6</th>\n",
       "      <th>F7</th>\n",
       "      <th>F8</th>\n",
       "      <th>F9</th>\n",
       "      <th>F10</th>\n",
       "      <th>F11</th>\n",
       "      <th>F12</th>\n",
       "      <th>F13</th>\n",
       "      <th>F14</th>\n",
       "      <th>F15</th>\n",
       "      <th>Class</th>\n",
       "    </tr>\n",
       "  </thead>\n",
       "  <tbody>\n",
       "    <tr>\n",
       "      <td>0</td>\n",
       "      <td>3.54</td>\n",
       "      <td>0.45</td>\n",
       "      <td>600</td>\n",
       "      <td>2.16</td>\n",
       "      <td>20</td>\n",
       "      <td>33.86</td>\n",
       "      <td>-4.16</td>\n",
       "      <td>207.86</td>\n",
       "      <td>8.30</td>\n",
       "      <td>6.64</td>\n",
       "      <td>-17.68</td>\n",
       "      <td>-36.32</td>\n",
       "      <td>16.80</td>\n",
       "      <td>-49.14</td>\n",
       "      <td>-6.810000</td>\n",
       "      <td>NaN</td>\n",
       "    </tr>\n",
       "    <tr>\n",
       "      <td>1</td>\n",
       "      <td>12.96</td>\n",
       "      <td>4.50</td>\n",
       "      <td>6</td>\n",
       "      <td>-5.42</td>\n",
       "      <td>2</td>\n",
       "      <td>21.22</td>\n",
       "      <td>-0.66</td>\n",
       "      <td>115.86</td>\n",
       "      <td>1.95</td>\n",
       "      <td>10.19</td>\n",
       "      <td>-24.32</td>\n",
       "      <td>-21.32</td>\n",
       "      <td>0.06</td>\n",
       "      <td>-229.14</td>\n",
       "      <td>-7.100000</td>\n",
       "      <td>NaN</td>\n",
       "    </tr>\n",
       "    <tr>\n",
       "      <td>2</td>\n",
       "      <td>13.02</td>\n",
       "      <td>2.74</td>\n",
       "      <td>81</td>\n",
       "      <td>-7.08</td>\n",
       "      <td>2</td>\n",
       "      <td>21.28</td>\n",
       "      <td>1.40</td>\n",
       "      <td>111.86</td>\n",
       "      <td>2.05</td>\n",
       "      <td>11.30</td>\n",
       "      <td>-34.98</td>\n",
       "      <td>-21.32</td>\n",
       "      <td>0.42</td>\n",
       "      <td>-217.14</td>\n",
       "      <td>-7.050000</td>\n",
       "      <td>NaN</td>\n",
       "    </tr>\n",
       "    <tr>\n",
       "      <td>3</td>\n",
       "      <td>14.91</td>\n",
       "      <td>1.00</td>\n",
       "      <td>162</td>\n",
       "      <td>-8.30</td>\n",
       "      <td>2</td>\n",
       "      <td>21.12</td>\n",
       "      <td>-0.42</td>\n",
       "      <td>85.86</td>\n",
       "      <td>0.96</td>\n",
       "      <td>10.16</td>\n",
       "      <td>-24.68</td>\n",
       "      <td>-25.32</td>\n",
       "      <td>0.42</td>\n",
       "      <td>-202.14</td>\n",
       "      <td>-7.776347</td>\n",
       "      <td>NaN</td>\n",
       "    </tr>\n",
       "    <tr>\n",
       "      <td>4</td>\n",
       "      <td>2.61</td>\n",
       "      <td>1.46</td>\n",
       "      <td>1020</td>\n",
       "      <td>4.66</td>\n",
       "      <td>20</td>\n",
       "      <td>30.66</td>\n",
       "      <td>-0.46</td>\n",
       "      <td>122.86</td>\n",
       "      <td>7.20</td>\n",
       "      <td>7.04</td>\n",
       "      <td>-16.86</td>\n",
       "      <td>-26.32</td>\n",
       "      <td>20.25</td>\n",
       "      <td>-289.14</td>\n",
       "      <td>-7.776347</td>\n",
       "      <td>NaN</td>\n",
       "    </tr>\n",
       "  </tbody>\n",
       "</table>\n",
       "</div>"
      ],
      "text/plain": [
       "      F1    F2    F3    F4  F5     F6    F7      F8    F9    F10    F11  \\\n",
       "0   3.54  0.45   600  2.16  20  33.86 -4.16  207.86  8.30   6.64 -17.68   \n",
       "1  12.96  4.50     6 -5.42   2  21.22 -0.66  115.86  1.95  10.19 -24.32   \n",
       "2  13.02  2.74    81 -7.08   2  21.28  1.40  111.86  2.05  11.30 -34.98   \n",
       "3  14.91  1.00   162 -8.30   2  21.12 -0.42   85.86  0.96  10.16 -24.68   \n",
       "4   2.61  1.46  1020  4.66  20  30.66 -0.46  122.86  7.20   7.04 -16.86   \n",
       "\n",
       "     F12    F13     F14       F15  Class  \n",
       "0 -36.32  16.80  -49.14 -6.810000    NaN  \n",
       "1 -21.32   0.06 -229.14 -7.100000    NaN  \n",
       "2 -21.32   0.42 -217.14 -7.050000    NaN  \n",
       "3 -25.32   0.42 -202.14 -7.776347    NaN  \n",
       "4 -26.32  20.25 -289.14 -7.776347    NaN  "
      ]
     },
     "execution_count": 204,
     "metadata": {},
     "output_type": "execute_result"
    }
   ],
   "source": [
    "testing_df.loc[testing_df['F15'].isnull()==True,\"F15\"] = testing_df['F15'].mean()\n",
    "testing_df.head()"
   ]
  },
  {
   "cell_type": "code",
   "execution_count": 205,
   "metadata": {},
   "outputs": [],
   "source": [
    "training_data = training_df.iloc[:,:-1]\n",
    "training_labels = training_df.iloc[:,-1]\n",
    "testing_data = testing_df.iloc[:,:-1]"
   ]
  },
  {
   "cell_type": "code",
   "execution_count": 206,
   "metadata": {},
   "outputs": [
    {
     "data": {
      "text/plain": [
       "RandomForestClassifier()"
      ]
     },
     "execution_count": 206,
     "metadata": {},
     "output_type": "execute_result"
    }
   ],
   "source": [
    "clf = RandomForestClassifier()\n",
    "#Train the model using the training sets\n",
    "clf.fit(training_data, training_labels)"
   ]
  },
  {
   "cell_type": "code",
   "execution_count": 207,
   "metadata": {},
   "outputs": [
    {
     "name": "stdout",
     "output_type": "stream",
     "text": [
      "[0, 0, 0, 0, 0, 1, 1, 0, 1, 0, 0, 0, 0, 0, 0, 0, 0, 0, 1, 0, 0, 0, 1, 1, 0, 0, 0, 0, 1, 1, 1, 0, 0, 1, 1, 1, 1, 1, 1, 0, 0, 1, 0, 1, 1, 1, 1, 1, 1, 0, 0, 0, 1, 0, 0, 0, 0, 1, 1, 1, 1, 1, 0, 1, 0, 0, 1, 0, 1, 0, 1, 0, 0, 0, 1, 0, 1, 1, 0, 0, 0, 0, 0, 0, 0, 0, 1, 0, 1, 0, 1, 1, 0, 1, 0, 0, 1, 0, 0, 0, 1, 0, 0, 0, 0, 0, 1, 0, 0, 0, 0, 1, 1, 1, 0, 0, 1, 0, 0, 0, 0, 0, 0, 1, 0, 1, 0, 1, 0, 1, 1, 1, 1, 1, 1, 1, 1, 1, 0, 0, 1, 1, 0, 0, 1, 1, 0, 1, 0, 1, 1, 1, 1, 0, 0, 1, 1, 0, 0, 0, 1, 1, 0, 1, 0, 1, 0, 0, 0, 1, 1, 1, 0, 0, 1, 1, 1, 0, 1, 0, 0, 0, 0, 0, 0, 1, 1, 0, 1, 0, 0, 0, 0, 0, 0, 0, 1, 0, 0, 0, 0, 0, 0, 0, 0, 0, 0, 1, 0, 0, 1, 0, 1, 1, 1, 0, 0, 0, 0, 0, 0, 0, 1, 0, 0, 0, 0, 1, 1, 0, 0, 1, 1, 0, 0, 1, 0, 0, 0, 0, 0, 0, 1, 1, 1, 1, 1, 1, 0, 1, 0, 0, 1, 0, 1, 0, 0, 1, 1, 0, 1, 0, 0, 0, 1, 1, 0, 0, 1, 0, 0, 0, 1, 1, 0, 0, 0, 1, 1, 1, 1, 1, 0, 1, 0, 0, 1, 1, 0, 1, 1, 1, 1, 0, 1, 1, 0, 1, 1, 0, 0, 1, 0, 1, 1, 0, 1, 0, 0, 0, 0, 0, 0, 1, 1, 1, 1, 0, 1, 1, 1, 0, 0, 1, 0, 1, 0, 0, 1, 1, 1, 1, 0, 1, 1, 1, 0, 0, 1, 0, 0, 0, 0, 0, 1, 1, 1, 1, 1, 1, 0, 1, 1, 0, 0, 0, 1, 0, 1, 1, 0, 1, 0, 1, 0, 1, 0, 1, 1, 1, 0, 1, 0, 1, 0, 1, 0, 1, 1, 0, 0, 0, 0, 0, 1, 0, 0, 0, 1, 0, 0, 1, 0, 1, 1, 0, 0, 1, 0, 1, 0, 1, 0, 1, 1, 1, 0, 1, 0, 0, 1, 1, 1, 0, 0, 0, 0, 1, 0, 0, 1, 0, 0, 0, 0, 1, 0, 0, 0, 0, 0, 0, 1, 1, 0, 1, 0, 1, 1, 0, 0, 0, 0, 0, 0, 1, 0, 1, 0, 1, 0, 0, 0, 1, 0, 1, 0, 0, 0, 0, 1, 0, 1, 0, 0, 0, 0, 0, 0, 1, 1, 1, 0, 0, 0, 0, 1, 1, 0, 0, 0, 0, 0, 0, 0, 0, 1, 0, 1, 0, 1, 1, 0, 1, 1, 1, 1, 0, 1, 1, 1, 1, 0, 1, 0, 1, 1, 0, 1, 0, 1, 0, 1, 0, 1, 0, 1, 0, 1, 1, 0, 1, 0, 1, 0, 0, 0, 1, 1, 1, 1, 1, 1, 1, 1, 1, 0, 0, 1, 1, 0, 0, 0, 1, 0, 0, 0, 1, 0, 0, 0, 1, 1, 0, 0, 0, 1, 1, 0, 0, 0, 0, 0, 1, 0, 1, 1, 0, 1, 0, 0, 1, 1, 1, 0, 1, 0, 1, 0, 1, 0, 0, 0, 0, 0, 0, 0, 0, 0, 1, 1, 1, 0, 0, 0, 0, 0, 1, 1, 1, 1, 0, 0, 1, 0, 0, 0, 1, 1, 0, 1, 1, 1, 1, 0, 1, 0, 1, 0, 0, 0, 0, 0, 0, 1, 0, 0, 1, 1, 0, 1, 0, 0, 0, 1, 0, 0, 0, 0, 0, 0, 0, 1, 1, 1, 0, 0, 0, 0, 0, 1, 0, 1, 0, 1, 0, 0, 0, 0, 1, 0, 0, 0, 1, 0, 1, 0, 0, 1, 0, 1, 1, 0, 1, 0, 0, 1, 1, 0, 0, 1, 0, 0, 0, 1, 0, 1, 1, 0, 1, 1, 0, 1, 1, 1, 0, 1, 1, 0, 1, 0, 0, 0, 1, 1, 0, 0, 0, 0, 0, 0, 0, 0, 1, 1, 0, 0, 0, 0, 0, 1, 1, 1, 0, 0, 0, 0, 1, 1, 0, 1, 0, 1, 0, 0, 0, 0, 0, 1, 0, 0, 0, 0, 1, 0, 1, 1, 0, 1, 0, 1, 0, 1, 1, 0, 1, 0, 1, 1, 1, 1, 0, 1, 0, 0, 0, 1, 1, 0, 1, 1, 0, 0, 0, 1, 1, 0, 1, 1, 1, 1, 1, 0, 0, 0, 1, 0, 1, 1, 1, 1, 1, 1, 0, 1, 0, 1, 0, 0, 0, 0, 1, 1, 1, 1, 0, 0, 0, 1, 1, 0, 0, 1, 0, 1, 0, 1, 0, 1, 1, 0, 0, 1, 0, 0, 0, 0, 1, 1, 1, 1, 0, 0, 0, 1, 0, 1, 0, 1, 0, 1, 1, 1, 0, 0, 0, 0, 1, 0, 0, 1, 1, 0, 0, 1, 1, 0, 0, 1, 0, 0, 1, 0, 0, 0, 1, 0, 0, 1, 1, 1, 1, 0, 1, 0, 0, 0, 1, 0, 0, 0, 1, 1, 1, 1, 0, 0, 1, 0, 1, 0, 0, 1, 1, 0, 0, 1, 1, 0, 0, 0, 1, 0, 0, 1, 1, 0, 1, 0, 1, 1, 1, 1, 1, 0, 1, 0, 0, 1, 0, 1, 1, 0, 0, 1, 0, 0, 0, 1, 1, 0, 0, 0, 0, 1, 1, 0, 1, 1, 0, 1, 0, 0, 1, 0, 1, 0, 0, 1, 1, 1, 0, 0, 0, 0, 0, 0, 1, 0, 0, 0, 0, 0, 0, 1, 0, 1, 1, 0, 1, 0, 0, 0, 1, 0, 0, 1, 0, 1, 0, 0, 0, 1, 0, 0, 1, 1, 1, 1, 0, 0, 0, 1, 1, 0, 0, 0, 0, 0, 1, 1, 1, 1, 0, 1, 1, 0, 0, 0, 0, 0, 0, 1, 0, 0, 1, 0, 1, 1, 1, 0, 1, 1, 0, 1, 1, 0, 1, 1, 0, 1, 1, 0, 0, 0, 0, 0, 0, 0, 0, 1, 1, 0, 0, 0, 1, 0, 0, 0, 1, 1, 0, 1, 1, 1, 0, 0, 1, 0, 0, 0, 1, 1, 1, 0, 1, 1, 1, 0, 0, 1, 0, 0, 1, 0, 1, 0, 0, 1, 1, 0, 0, 1, 0, 1, 1, 0, 0, 0, 0, 0, 1, 1, 1, 1, 0, 0, 1, 1, 0, 0, 0, 0, 1, 0, 1, 0, 1, 0, 1, 1, 1, 1, 0, 0, 0, 1, 0, 1, 1, 1, 1, 0, 0, 0, 0, 0, 1, 0, 0, 0, 0, 1, 0, 1, 1, 1, 0, 0, 0, 0, 1, 0, 0, 1, 0, 0, 0, 0, 1, 1, 0, 0, 0, 1, 0, 0, 0, 1, 0, 0, 1, 1, 1, 0, 1, 0, 0, 0, 0, 1, 1, 1, 0, 1, 1, 0, 1, 0, 1, 0, 0, 1, 1, 0, 0, 1, 1, 0, 0, 0, 0, 1, 1, 1, 0, 1, 1, 0, 0, 1, 0, 1, 1, 1, 0, 0, 1, 0, 1, 0, 0, 0, 1, 1, 1, 1, 0, 0, 1, 0, 1, 1, 1, 1, 1, 1, 0, 0, 0, 1, 0, 1, 0, 1, 0, 1, 0, 0, 0, 0, 0, 0, 1, 0, 1, 1, 0, 0, 1, 1, 0, 1, 1, 1, 0, 1, 1, 1, 0, 1, 1, 1, 0, 0, 1, 1, 0, 1, 0, 0, 0, 0, 0, 0, 1, 0, 0, 0, 1, 1, 0, 0, 0, 1, 0, 0, 0, 0, 1, 1, 0, 1, 0, 1, 0, 1, 0, 1, 1, 0, 0, 0, 1, 1, 0, 1, 0, 0, 1, 1, 1, 1, 0, 0, 1, 1, 1, 0, 0, 0, 1, 0, 1, 0, 0, 1, 0, 1, 1, 1, 1, 0, 1, 0, 0, 1, 0, 0, 1, 0, 0, 0, 0, 1, 1, 1, 0, 0, 0, 0, 0, 0, 0, 0, 1, 1, 0, 1, 0, 1, 1, 0, 1, 1, 0, 0, 0, 0, 1, 1, 0, 1, 0, 0, 1, 1, 1, 0, 1, 0, 1, 0, 1, 0, 1, 0, 0, 1, 1, 0, 1, 1, 1, 0, 1, 0, 1, 0, 0, 1, 0, 1, 0, 1, 1, 1, 1, 1, 1, 0, 1, 1, 0, 0, 1, 0, 0, 1, 0, 0, 1, 0, 0, 0, 1, 0, 1, 0, 1, 0, 1, 0, 1, 1, 0, 1, 0, 0, 1, 1, 0, 1, 0, 1, 0, 0, 0, 0, 0, 1, 1, 0, 0, 1, 0, 0, 1, 1, 0, 1, 1, 0, 0, 0, 1, 0, 0, 0, 1, 0, 1, 1, 1, 1, 0, 1, 1, 0, 1, 1, 1, 0, 1, 0, 0, 1, 0, 0, 1, 1, 0, 0, 1, 1, 1, 1, 1, 0, 1]\n"
     ]
    }
   ],
   "source": [
    "#Predict the response for test dataset\n",
    "testing_labels = clf.predict(testing_data)\n",
    "testing_labels = testing_labels.tolist()\n",
    "print(testing_labels)"
   ]
  },
  {
   "cell_type": "code",
   "execution_count": 208,
   "metadata": {},
   "outputs": [
    {
     "data": {
      "text/html": [
       "<div>\n",
       "<style scoped>\n",
       "    .dataframe tbody tr th:only-of-type {\n",
       "        vertical-align: middle;\n",
       "    }\n",
       "\n",
       "    .dataframe tbody tr th {\n",
       "        vertical-align: top;\n",
       "    }\n",
       "\n",
       "    .dataframe thead th {\n",
       "        text-align: right;\n",
       "    }\n",
       "</style>\n",
       "<table border=\"1\" class=\"dataframe\">\n",
       "  <thead>\n",
       "    <tr style=\"text-align: right;\">\n",
       "      <th></th>\n",
       "      <th>F1</th>\n",
       "      <th>F2</th>\n",
       "      <th>F3</th>\n",
       "      <th>F4</th>\n",
       "      <th>F5</th>\n",
       "      <th>F6</th>\n",
       "      <th>F7</th>\n",
       "      <th>F8</th>\n",
       "      <th>F9</th>\n",
       "      <th>F10</th>\n",
       "      <th>F11</th>\n",
       "      <th>F12</th>\n",
       "      <th>F13</th>\n",
       "      <th>F14</th>\n",
       "      <th>F15</th>\n",
       "      <th>Class</th>\n",
       "    </tr>\n",
       "  </thead>\n",
       "  <tbody>\n",
       "    <tr>\n",
       "      <td>0</td>\n",
       "      <td>3.54</td>\n",
       "      <td>0.45</td>\n",
       "      <td>600</td>\n",
       "      <td>2.16</td>\n",
       "      <td>20</td>\n",
       "      <td>33.86</td>\n",
       "      <td>-4.16</td>\n",
       "      <td>207.86</td>\n",
       "      <td>8.30</td>\n",
       "      <td>6.64</td>\n",
       "      <td>-17.68</td>\n",
       "      <td>-36.32</td>\n",
       "      <td>16.80</td>\n",
       "      <td>-49.14</td>\n",
       "      <td>-6.810000</td>\n",
       "      <td>0</td>\n",
       "    </tr>\n",
       "    <tr>\n",
       "      <td>1</td>\n",
       "      <td>12.96</td>\n",
       "      <td>4.50</td>\n",
       "      <td>6</td>\n",
       "      <td>-5.42</td>\n",
       "      <td>2</td>\n",
       "      <td>21.22</td>\n",
       "      <td>-0.66</td>\n",
       "      <td>115.86</td>\n",
       "      <td>1.95</td>\n",
       "      <td>10.19</td>\n",
       "      <td>-24.32</td>\n",
       "      <td>-21.32</td>\n",
       "      <td>0.06</td>\n",
       "      <td>-229.14</td>\n",
       "      <td>-7.100000</td>\n",
       "      <td>0</td>\n",
       "    </tr>\n",
       "    <tr>\n",
       "      <td>2</td>\n",
       "      <td>13.02</td>\n",
       "      <td>2.74</td>\n",
       "      <td>81</td>\n",
       "      <td>-7.08</td>\n",
       "      <td>2</td>\n",
       "      <td>21.28</td>\n",
       "      <td>1.40</td>\n",
       "      <td>111.86</td>\n",
       "      <td>2.05</td>\n",
       "      <td>11.30</td>\n",
       "      <td>-34.98</td>\n",
       "      <td>-21.32</td>\n",
       "      <td>0.42</td>\n",
       "      <td>-217.14</td>\n",
       "      <td>-7.050000</td>\n",
       "      <td>0</td>\n",
       "    </tr>\n",
       "    <tr>\n",
       "      <td>3</td>\n",
       "      <td>14.91</td>\n",
       "      <td>1.00</td>\n",
       "      <td>162</td>\n",
       "      <td>-8.30</td>\n",
       "      <td>2</td>\n",
       "      <td>21.12</td>\n",
       "      <td>-0.42</td>\n",
       "      <td>85.86</td>\n",
       "      <td>0.96</td>\n",
       "      <td>10.16</td>\n",
       "      <td>-24.68</td>\n",
       "      <td>-25.32</td>\n",
       "      <td>0.42</td>\n",
       "      <td>-202.14</td>\n",
       "      <td>-7.776347</td>\n",
       "      <td>0</td>\n",
       "    </tr>\n",
       "    <tr>\n",
       "      <td>4</td>\n",
       "      <td>2.61</td>\n",
       "      <td>1.46</td>\n",
       "      <td>1020</td>\n",
       "      <td>4.66</td>\n",
       "      <td>20</td>\n",
       "      <td>30.66</td>\n",
       "      <td>-0.46</td>\n",
       "      <td>122.86</td>\n",
       "      <td>7.20</td>\n",
       "      <td>7.04</td>\n",
       "      <td>-16.86</td>\n",
       "      <td>-26.32</td>\n",
       "      <td>20.25</td>\n",
       "      <td>-289.14</td>\n",
       "      <td>-7.776347</td>\n",
       "      <td>0</td>\n",
       "    </tr>\n",
       "  </tbody>\n",
       "</table>\n",
       "</div>"
      ],
      "text/plain": [
       "      F1    F2    F3    F4  F5     F6    F7      F8    F9    F10    F11  \\\n",
       "0   3.54  0.45   600  2.16  20  33.86 -4.16  207.86  8.30   6.64 -17.68   \n",
       "1  12.96  4.50     6 -5.42   2  21.22 -0.66  115.86  1.95  10.19 -24.32   \n",
       "2  13.02  2.74    81 -7.08   2  21.28  1.40  111.86  2.05  11.30 -34.98   \n",
       "3  14.91  1.00   162 -8.30   2  21.12 -0.42   85.86  0.96  10.16 -24.68   \n",
       "4   2.61  1.46  1020  4.66  20  30.66 -0.46  122.86  7.20   7.04 -16.86   \n",
       "\n",
       "     F12    F13     F14       F15  Class  \n",
       "0 -36.32  16.80  -49.14 -6.810000      0  \n",
       "1 -21.32   0.06 -229.14 -7.100000      0  \n",
       "2 -21.32   0.42 -217.14 -7.050000      0  \n",
       "3 -25.32   0.42 -202.14 -7.776347      0  \n",
       "4 -26.32  20.25 -289.14 -7.776347      0  "
      ]
     },
     "execution_count": 208,
     "metadata": {},
     "output_type": "execute_result"
    }
   ],
   "source": [
    "testing_df = testing_df.drop('Class',axis=1)\n",
    "testing_df['Class'] = testing_labels\n",
    "testing_df.head()"
   ]
  },
  {
   "cell_type": "code",
   "execution_count": 209,
   "metadata": {},
   "outputs": [],
   "source": [
    "testing_df.loc[testing_df['Class']==0,\"Class\"] = \"False\"\n",
    "testing_df.loc[testing_df['Class']==1,\"Class\"] = \"True\""
   ]
  },
  {
   "cell_type": "code",
   "execution_count": 210,
   "metadata": {},
   "outputs": [
    {
     "data": {
      "text/html": [
       "<div>\n",
       "<style scoped>\n",
       "    .dataframe tbody tr th:only-of-type {\n",
       "        vertical-align: middle;\n",
       "    }\n",
       "\n",
       "    .dataframe tbody tr th {\n",
       "        vertical-align: top;\n",
       "    }\n",
       "\n",
       "    .dataframe thead th {\n",
       "        text-align: right;\n",
       "    }\n",
       "</style>\n",
       "<table border=\"1\" class=\"dataframe\">\n",
       "  <thead>\n",
       "    <tr style=\"text-align: right;\">\n",
       "      <th></th>\n",
       "      <th>F1</th>\n",
       "      <th>F2</th>\n",
       "      <th>F3</th>\n",
       "      <th>F4</th>\n",
       "      <th>F5</th>\n",
       "      <th>F6</th>\n",
       "      <th>F7</th>\n",
       "      <th>F8</th>\n",
       "      <th>F9</th>\n",
       "      <th>F10</th>\n",
       "      <th>F11</th>\n",
       "      <th>F12</th>\n",
       "      <th>F13</th>\n",
       "      <th>F14</th>\n",
       "      <th>F15</th>\n",
       "      <th>Class</th>\n",
       "    </tr>\n",
       "  </thead>\n",
       "  <tbody>\n",
       "    <tr>\n",
       "      <td>0</td>\n",
       "      <td>3.54</td>\n",
       "      <td>0.45</td>\n",
       "      <td>600</td>\n",
       "      <td>2.16</td>\n",
       "      <td>20</td>\n",
       "      <td>33.86</td>\n",
       "      <td>-4.16</td>\n",
       "      <td>207.86</td>\n",
       "      <td>8.30</td>\n",
       "      <td>6.64</td>\n",
       "      <td>-17.68</td>\n",
       "      <td>-36.32</td>\n",
       "      <td>16.80</td>\n",
       "      <td>-49.14</td>\n",
       "      <td>-6.810000</td>\n",
       "      <td>False</td>\n",
       "    </tr>\n",
       "    <tr>\n",
       "      <td>1</td>\n",
       "      <td>12.96</td>\n",
       "      <td>4.50</td>\n",
       "      <td>6</td>\n",
       "      <td>-5.42</td>\n",
       "      <td>2</td>\n",
       "      <td>21.22</td>\n",
       "      <td>-0.66</td>\n",
       "      <td>115.86</td>\n",
       "      <td>1.95</td>\n",
       "      <td>10.19</td>\n",
       "      <td>-24.32</td>\n",
       "      <td>-21.32</td>\n",
       "      <td>0.06</td>\n",
       "      <td>-229.14</td>\n",
       "      <td>-7.100000</td>\n",
       "      <td>False</td>\n",
       "    </tr>\n",
       "    <tr>\n",
       "      <td>2</td>\n",
       "      <td>13.02</td>\n",
       "      <td>2.74</td>\n",
       "      <td>81</td>\n",
       "      <td>-7.08</td>\n",
       "      <td>2</td>\n",
       "      <td>21.28</td>\n",
       "      <td>1.40</td>\n",
       "      <td>111.86</td>\n",
       "      <td>2.05</td>\n",
       "      <td>11.30</td>\n",
       "      <td>-34.98</td>\n",
       "      <td>-21.32</td>\n",
       "      <td>0.42</td>\n",
       "      <td>-217.14</td>\n",
       "      <td>-7.050000</td>\n",
       "      <td>False</td>\n",
       "    </tr>\n",
       "    <tr>\n",
       "      <td>3</td>\n",
       "      <td>14.91</td>\n",
       "      <td>1.00</td>\n",
       "      <td>162</td>\n",
       "      <td>-8.30</td>\n",
       "      <td>2</td>\n",
       "      <td>21.12</td>\n",
       "      <td>-0.42</td>\n",
       "      <td>85.86</td>\n",
       "      <td>0.96</td>\n",
       "      <td>10.16</td>\n",
       "      <td>-24.68</td>\n",
       "      <td>-25.32</td>\n",
       "      <td>0.42</td>\n",
       "      <td>-202.14</td>\n",
       "      <td>-7.776347</td>\n",
       "      <td>False</td>\n",
       "    </tr>\n",
       "    <tr>\n",
       "      <td>4</td>\n",
       "      <td>2.61</td>\n",
       "      <td>1.46</td>\n",
       "      <td>1020</td>\n",
       "      <td>4.66</td>\n",
       "      <td>20</td>\n",
       "      <td>30.66</td>\n",
       "      <td>-0.46</td>\n",
       "      <td>122.86</td>\n",
       "      <td>7.20</td>\n",
       "      <td>7.04</td>\n",
       "      <td>-16.86</td>\n",
       "      <td>-26.32</td>\n",
       "      <td>20.25</td>\n",
       "      <td>-289.14</td>\n",
       "      <td>-7.776347</td>\n",
       "      <td>False</td>\n",
       "    </tr>\n",
       "  </tbody>\n",
       "</table>\n",
       "</div>"
      ],
      "text/plain": [
       "      F1    F2    F3    F4  F5     F6    F7      F8    F9    F10    F11  \\\n",
       "0   3.54  0.45   600  2.16  20  33.86 -4.16  207.86  8.30   6.64 -17.68   \n",
       "1  12.96  4.50     6 -5.42   2  21.22 -0.66  115.86  1.95  10.19 -24.32   \n",
       "2  13.02  2.74    81 -7.08   2  21.28  1.40  111.86  2.05  11.30 -34.98   \n",
       "3  14.91  1.00   162 -8.30   2  21.12 -0.42   85.86  0.96  10.16 -24.68   \n",
       "4   2.61  1.46  1020  4.66  20  30.66 -0.46  122.86  7.20   7.04 -16.86   \n",
       "\n",
       "     F12    F13     F14       F15  Class  \n",
       "0 -36.32  16.80  -49.14 -6.810000  False  \n",
       "1 -21.32   0.06 -229.14 -7.100000  False  \n",
       "2 -21.32   0.42 -217.14 -7.050000  False  \n",
       "3 -25.32   0.42 -202.14 -7.776347  False  \n",
       "4 -26.32  20.25 -289.14 -7.776347  False  "
      ]
     },
     "execution_count": 210,
     "metadata": {},
     "output_type": "execute_result"
    }
   ],
   "source": [
    "testing_df.head()"
   ]
  },
  {
   "cell_type": "code",
   "execution_count": 212,
   "metadata": {},
   "outputs": [],
   "source": [
    "testing_df.to_csv('CE802_P2_Test_Prediction.csv',index=False)"
   ]
  },
  {
   "cell_type": "code",
   "execution_count": null,
   "metadata": {},
   "outputs": [],
   "source": []
  }
 ],
 "metadata": {
  "colab": {
   "collapsed_sections": [],
   "name": "customer_class_classification_ipynb",
   "provenance": []
  },
  "kernelspec": {
   "display_name": "Python 3",
   "language": "python",
   "name": "python3"
  },
  "language_info": {
   "codemirror_mode": {
    "name": "ipython",
    "version": 3
   },
   "file_extension": ".py",
   "mimetype": "text/x-python",
   "name": "python",
   "nbconvert_exporter": "python",
   "pygments_lexer": "ipython3",
   "version": "3.7.4"
  }
 },
 "nbformat": 4,
 "nbformat_minor": 1
}
